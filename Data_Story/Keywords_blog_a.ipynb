{
 "cells": [
  {
   "cell_type": "markdown",
   "metadata": {},
   "source": [
    "# Data Storytelling"
   ]
  },
  {
   "cell_type": "markdown",
   "metadata": {},
   "source": [
    "## Part 1: What are expert reviewers talking about?\n",
    "What kind of information we can extract from coffee blogs? The following analysis was apply to one of the four blogs included in the project. We extracted TF-IDF feature vectors for the text to find meaningful pairs of terms for classifying them in categories and sections relatives to the complete experience in the coffee shop. Now, we want to discover which ones play a fundamental role in reviews.\n",
    "\n",
    "(This is the continuation of Pre-processing notebook called *TF-IDF_blog.ipynb*)"
   ]
  },
  {
   "cell_type": "markdown",
   "metadata": {},
   "source": [
    "Importing all relevant packages"
   ]
  },
  {
   "cell_type": "code",
   "execution_count": 363,
   "metadata": {},
   "outputs": [],
   "source": [
    "from matplotlib import pyplot as plt\n",
    "import seaborn as sns\n",
    "import pandas as pd\n",
    "import numpy as np"
   ]
  },
  {
   "cell_type": "markdown",
   "metadata": {},
   "source": [
    "Reading data from **preprocessing** folder. We included categories and sections in *key_words.csv* to build *key_words_categorized.csv*, the file that it will be used in this stage. Both files can be founded in folder."
   ]
  },
  {
   "cell_type": "code",
   "execution_count": 364,
   "metadata": {},
   "outputs": [],
   "source": [
    "df = pd.read_csv('../Data_Story/preprocessing/key_words_categorized.csv')"
   ]
  },
  {
   "cell_type": "markdown",
   "metadata": {},
   "source": [
    "There are a couple of None cells, according to the classify criteria. Firsly, we clean DataFrame, extracting None from *category* and *section* columns"
   ]
  },
  {
   "cell_type": "code",
   "execution_count": 365,
   "metadata": {},
   "outputs": [],
   "source": [
    "df_filt= df[df['category']!='None']"
   ]
  },
  {
   "cell_type": "code",
   "execution_count": 366,
   "metadata": {},
   "outputs": [
    {
     "data": {
      "text/html": [
       "<div>\n",
       "<style scoped>\n",
       "    .dataframe tbody tr th:only-of-type {\n",
       "        vertical-align: middle;\n",
       "    }\n",
       "\n",
       "    .dataframe tbody tr th {\n",
       "        vertical-align: top;\n",
       "    }\n",
       "\n",
       "    .dataframe thead th {\n",
       "        text-align: right;\n",
       "    }\n",
       "</style>\n",
       "<table border=\"1\" class=\"dataframe\">\n",
       "  <thead>\n",
       "    <tr style=\"text-align: right;\">\n",
       "      <th></th>\n",
       "      <th>key_words</th>\n",
       "      <th>key_values</th>\n",
       "      <th>category</th>\n",
       "      <th>section</th>\n",
       "    </tr>\n",
       "  </thead>\n",
       "  <tbody>\n",
       "    <tr>\n",
       "      <th>1</th>\n",
       "      <td>toast crave</td>\n",
       "      <td>0.71</td>\n",
       "      <td>food</td>\n",
       "      <td>baked</td>\n",
       "    </tr>\n",
       "    <tr>\n",
       "      <th>7</th>\n",
       "      <td>toast cravings</td>\n",
       "      <td>0.41</td>\n",
       "      <td>food</td>\n",
       "      <td>baked</td>\n",
       "    </tr>\n",
       "    <tr>\n",
       "      <th>8</th>\n",
       "      <td>best coffee</td>\n",
       "      <td>0.58</td>\n",
       "      <td>coffee</td>\n",
       "      <td>sentiment</td>\n",
       "    </tr>\n",
       "    <tr>\n",
       "      <th>11</th>\n",
       "      <td>best parklet</td>\n",
       "      <td>0.26</td>\n",
       "      <td>place</td>\n",
       "      <td>sentiment</td>\n",
       "    </tr>\n",
       "    <tr>\n",
       "      <th>14</th>\n",
       "      <td>find seat</td>\n",
       "      <td>0.26</td>\n",
       "      <td>place</td>\n",
       "      <td>stay</td>\n",
       "    </tr>\n",
       "  </tbody>\n",
       "</table>\n",
       "</div>"
      ],
      "text/plain": [
       "         key_words  key_values category    section\n",
       "1      toast crave        0.71     food      baked\n",
       "7   toast cravings        0.41     food      baked\n",
       "8      best coffee        0.58   coffee  sentiment\n",
       "11    best parklet        0.26    place  sentiment\n",
       "14       find seat        0.26    place       stay"
      ]
     },
     "execution_count": 366,
     "metadata": {},
     "output_type": "execute_result"
    }
   ],
   "source": [
    "df_filt= df[df['section']!='None']\n",
    "df_filt.head()"
   ]
  },
  {
   "cell_type": "markdown",
   "metadata": {},
   "source": [
    "Grouping data under *category* and *section* columns:"
   ]
  },
  {
   "cell_type": "code",
   "execution_count": 367,
   "metadata": {},
   "outputs": [],
   "source": [
    "df_count = df_filt.groupby(['category','section']).count()"
   ]
  },
  {
   "cell_type": "markdown",
   "metadata": {},
   "source": [
    "Results are the following:"
   ]
  },
  {
   "cell_type": "code",
   "execution_count": 370,
   "metadata": {},
   "outputs": [],
   "source": [
    "#df_count"
   ]
  },
  {
   "cell_type": "markdown",
   "metadata": {},
   "source": [
    "### Category 1: Coffee\n",
    "As we mentioned in the previuos notebook, sections for coffee are about the experience that involve the cup of coffee: types of drinks (including all varierity of coffee drinks, wine and tea), roasting information (own roasters, origin of roast, types of roast offered to customer), beans, baristas (expertise of baristas) and sentiment (how do you feel in front of this drink)."
   ]
  },
  {
   "cell_type": "code",
   "execution_count": 374,
   "metadata": {},
   "outputs": [],
   "source": [
    "df1 = df_count.reset_index()\n",
    "df_coffee = df1[df1['category'] == 'coffee'].sort_values('key_values')"
   ]
  },
  {
   "cell_type": "code",
   "execution_count": 416,
   "metadata": {},
   "outputs": [
    {
     "data": {
      "image/png": "[encoded data removed]",
      "text/plain": [
       "<Figure size 432x360 with 1 Axes>"
      ]
     },
     "metadata": {},
     "output_type": "display_data"
    }
   ],
   "source": [
    "sns.set_style(\"whitegrid\")\n",
    "g = sns.catplot(x=\"section\", y = 'key_values', data=df_coffee, saturation=.5,\n",
    "                kind=\"bar\", ci=None, aspect=1.2, palette='Blues')\n",
    "g.set_axis_labels(\"Coffee sections\", \"Phrases\").set_titles(\"{col_name} {col_var}\").set_xticklabels([\"Baristas\", \"Beans\", \"Roast\", \"Sentiment\", \"Drinks\"]) \n",
    "sns.despine(offset=10, trim=True)\n",
    "\n"
   ]
  },
  {
   "cell_type": "markdown",
   "metadata": {},
   "source": [
    "Total of key coffee phrases are:"
   ]
  },
  {
   "cell_type": "code",
   "execution_count": 380,
   "metadata": {},
   "outputs": [],
   "source": [
    "total = df_coffee.groupby('category').sum()['key_values']"
   ]
  },
  {
   "cell_type": "markdown",
   "metadata": {},
   "source": [
    "And each one section represents:"
   ]
  },
  {
   "cell_type": "code",
   "execution_count": 381,
   "metadata": {},
   "outputs": [
    {
     "data": {
      "text/html": [
       "<div>\n",
       "<style scoped>\n",
       "    .dataframe tbody tr th:only-of-type {\n",
       "        vertical-align: middle;\n",
       "    }\n",
       "\n",
       "    .dataframe tbody tr th {\n",
       "        vertical-align: top;\n",
       "    }\n",
       "\n",
       "    .dataframe thead th {\n",
       "        text-align: right;\n",
       "    }\n",
       "</style>\n",
       "<table border=\"1\" class=\"dataframe\">\n",
       "  <thead>\n",
       "    <tr style=\"text-align: right;\">\n",
       "      <th>category</th>\n",
       "      <th>coffee</th>\n",
       "    </tr>\n",
       "  </thead>\n",
       "  <tbody>\n",
       "    <tr>\n",
       "      <th>0</th>\n",
       "      <td>2</td>\n",
       "    </tr>\n",
       "    <tr>\n",
       "      <th>1</th>\n",
       "      <td>6</td>\n",
       "    </tr>\n",
       "    <tr>\n",
       "      <th>3</th>\n",
       "      <td>11</td>\n",
       "    </tr>\n",
       "    <tr>\n",
       "      <th>4</th>\n",
       "      <td>12</td>\n",
       "    </tr>\n",
       "    <tr>\n",
       "      <th>2</th>\n",
       "      <td>67</td>\n",
       "    </tr>\n",
       "  </tbody>\n",
       "</table>\n",
       "</div>"
      ],
      "text/plain": [
       "category  coffee\n",
       "0              2\n",
       "1              6\n",
       "3             11\n",
       "4             12\n",
       "2             67"
      ]
     },
     "execution_count": 381,
     "metadata": {},
     "output_type": "execute_result"
    }
   ],
   "source": [
    "df_coffee['key_values'].apply(lambda n: n*100//total)"
   ]
  },
  {
   "cell_type": "markdown",
   "metadata": {},
   "source": [
    "What kind of phrases we find here?"
   ]
  },
  {
   "cell_type": "code",
   "execution_count": 390,
   "metadata": {},
   "outputs": [
    {
     "data": {
      "text/html": [
       "<div>\n",
       "<style scoped>\n",
       "    .dataframe tbody tr th:only-of-type {\n",
       "        vertical-align: middle;\n",
       "    }\n",
       "\n",
       "    .dataframe tbody tr th {\n",
       "        vertical-align: top;\n",
       "    }\n",
       "\n",
       "    .dataframe thead th {\n",
       "        text-align: right;\n",
       "    }\n",
       "</style>\n",
       "<table border=\"1\" class=\"dataframe\">\n",
       "  <thead>\n",
       "    <tr style=\"text-align: right;\">\n",
       "      <th></th>\n",
       "      <th>key_words</th>\n",
       "      <th>key_values</th>\n",
       "      <th>category</th>\n",
       "      <th>section</th>\n",
       "    </tr>\n",
       "  </thead>\n",
       "  <tbody>\n",
       "    <tr>\n",
       "      <th>47</th>\n",
       "      <td>cafe offers</td>\n",
       "      <td>0.29</td>\n",
       "      <td>coffee</td>\n",
       "      <td>drinks</td>\n",
       "    </tr>\n",
       "    <tr>\n",
       "      <th>48</th>\n",
       "      <td>known snowy</td>\n",
       "      <td>0.29</td>\n",
       "      <td>coffee</td>\n",
       "      <td>drinks</td>\n",
       "    </tr>\n",
       "    <tr>\n",
       "      <th>50</th>\n",
       "      <td>over ice</td>\n",
       "      <td>0.29</td>\n",
       "      <td>coffee</td>\n",
       "      <td>drinks</td>\n",
       "    </tr>\n",
       "    <tr>\n",
       "      <th>52</th>\n",
       "      <td>pellegrino espresso</td>\n",
       "      <td>0.29</td>\n",
       "      <td>coffee</td>\n",
       "      <td>drinks</td>\n",
       "    </tr>\n",
       "    <tr>\n",
       "      <th>53</th>\n",
       "      <td>plover cold</td>\n",
       "      <td>0.29</td>\n",
       "      <td>coffee</td>\n",
       "      <td>drinks</td>\n",
       "    </tr>\n",
       "    <tr>\n",
       "      <th>54</th>\n",
       "      <td>snowy plover</td>\n",
       "      <td>0.29</td>\n",
       "      <td>coffee</td>\n",
       "      <td>drinks</td>\n",
       "    </tr>\n",
       "    <tr>\n",
       "      <th>60</th>\n",
       "      <td>authentic soda</td>\n",
       "      <td>0.24</td>\n",
       "      <td>coffee</td>\n",
       "      <td>drinks</td>\n",
       "    </tr>\n",
       "    <tr>\n",
       "      <th>113</th>\n",
       "      <td>drinks featuring</td>\n",
       "      <td>0.28</td>\n",
       "      <td>coffee</td>\n",
       "      <td>drinks</td>\n",
       "    </tr>\n",
       "    <tr>\n",
       "      <th>114</th>\n",
       "      <td>espresso drinks</td>\n",
       "      <td>0.28</td>\n",
       "      <td>coffee</td>\n",
       "      <td>drinks</td>\n",
       "    </tr>\n",
       "    <tr>\n",
       "      <th>121</th>\n",
       "      <td>offers pour</td>\n",
       "      <td>0.28</td>\n",
       "      <td>coffee</td>\n",
       "      <td>drinks</td>\n",
       "    </tr>\n",
       "    <tr>\n",
       "      <th>123</th>\n",
       "      <td>overs espresso</td>\n",
       "      <td>0.28</td>\n",
       "      <td>coffee</td>\n",
       "      <td>drinks</td>\n",
       "    </tr>\n",
       "    <tr>\n",
       "      <th>124</th>\n",
       "      <td>pour overs</td>\n",
       "      <td>0.28</td>\n",
       "      <td>coffee</td>\n",
       "      <td>drinks</td>\n",
       "    </tr>\n",
       "    <tr>\n",
       "      <th>125</th>\n",
       "      <td>snowbird offers</td>\n",
       "      <td>0.28</td>\n",
       "      <td>coffee</td>\n",
       "      <td>drinks</td>\n",
       "    </tr>\n",
       "    <tr>\n",
       "      <th>135</th>\n",
       "      <td>bottled cold</td>\n",
       "      <td>0.32</td>\n",
       "      <td>coffee</td>\n",
       "      <td>drinks</td>\n",
       "    </tr>\n",
       "    <tr>\n",
       "      <th>136</th>\n",
       "      <td>brew coldbrew</td>\n",
       "      <td>0.32</td>\n",
       "      <td>coffee</td>\n",
       "      <td>drinks</td>\n",
       "    </tr>\n",
       "    <tr>\n",
       "      <th>137</th>\n",
       "      <td>cold brew</td>\n",
       "      <td>0.32</td>\n",
       "      <td>coffee</td>\n",
       "      <td>drinks</td>\n",
       "    </tr>\n",
       "    <tr>\n",
       "      <th>138</th>\n",
       "      <td>coldbrew concentrate</td>\n",
       "      <td>0.32</td>\n",
       "      <td>coffee</td>\n",
       "      <td>drinks</td>\n",
       "    </tr>\n",
       "    <tr>\n",
       "      <th>175</th>\n",
       "      <td>cup coffee</td>\n",
       "      <td>0.30</td>\n",
       "      <td>coffee</td>\n",
       "      <td>drinks</td>\n",
       "    </tr>\n",
       "    <tr>\n",
       "      <th>184</th>\n",
       "      <td>boba tea</td>\n",
       "      <td>0.28</td>\n",
       "      <td>coffee</td>\n",
       "      <td>drinks</td>\n",
       "    </tr>\n",
       "    <tr>\n",
       "      <th>185</th>\n",
       "      <td>coffee ritual</td>\n",
       "      <td>0.28</td>\n",
       "      <td>coffee</td>\n",
       "      <td>drinks</td>\n",
       "    </tr>\n",
       "  </tbody>\n",
       "</table>\n",
       "</div>"
      ],
      "text/plain": [
       "                key_words  key_values category section\n",
       "47            cafe offers        0.29   coffee  drinks\n",
       "48            known snowy        0.29   coffee  drinks\n",
       "50               over ice        0.29   coffee  drinks\n",
       "52    pellegrino espresso        0.29   coffee  drinks\n",
       "53            plover cold        0.29   coffee  drinks\n",
       "54           snowy plover        0.29   coffee  drinks\n",
       "60         authentic soda        0.24   coffee  drinks\n",
       "113      drinks featuring        0.28   coffee  drinks\n",
       "114       espresso drinks        0.28   coffee  drinks\n",
       "121           offers pour        0.28   coffee  drinks\n",
       "123        overs espresso        0.28   coffee  drinks\n",
       "124            pour overs        0.28   coffee  drinks\n",
       "125       snowbird offers        0.28   coffee  drinks\n",
       "135          bottled cold        0.32   coffee  drinks\n",
       "136         brew coldbrew        0.32   coffee  drinks\n",
       "137             cold brew        0.32   coffee  drinks\n",
       "138  coldbrew concentrate        0.32   coffee  drinks\n",
       "175            cup coffee        0.30   coffee  drinks\n",
       "184              boba tea        0.28   coffee  drinks\n",
       "185         coffee ritual        0.28   coffee  drinks"
      ]
     },
     "execution_count": 390,
     "metadata": {},
     "output_type": "execute_result"
    }
   ],
   "source": [
    "df_filt[(df_filt['category']=='coffee') & (df_filt['section']=='drinks')].head(20)"
   ]
  },
  {
   "cell_type": "markdown",
   "metadata": {},
   "source": [
    "Then, 67% of coffee phrases are relatives to types of drinks, follows for feelings and roast features. Baristas and Beans have the lower predominance."
   ]
  },
  {
   "cell_type": "markdown",
   "metadata": {},
   "source": [
    "### Category 2: Food\n",
    "In this case, we extract a lot of terms as pastries, toasts, sweet baked items, light sandwiches, salads, breakfast, brunch, and lunch. Repeating the previuos exercise:"
   ]
  },
  {
   "cell_type": "code",
   "execution_count": 393,
   "metadata": {},
   "outputs": [],
   "source": [
    "df_food = df1[df1['category'] == 'food'].sort_values('key_values')"
   ]
  },
  {
   "cell_type": "code",
   "execution_count": 415,
   "metadata": {},
   "outputs": [
    {
     "data": {
      "image/png": "[encoded data removed]",
      "text/plain": [
       "<Figure size 432x360 with 1 Axes>"
      ]
     },
     "metadata": {},
     "output_type": "display_data"
    }
   ],
   "source": [
    "#sns.set_style(\"whitegrid\")\n",
    "g = sns.catplot(x=\"section\", y = 'key_values', data=df_food, saturation=.5,\n",
    "                kind=\"bar\", ci=None, aspect=1.2, palette='GnBu')\n",
    "g.set_axis_labels(\"Food sections\", \"Phrases\").set_titles(\"{col_name} {col_var}\").set_xticklabels([\"Brunch\", \"Sentiment\", \"Breakfast\", \"Lunch\", \"Baked\"]) \n",
    "sns.despine(offset=10, trim=True)"
   ]
  },
  {
   "cell_type": "markdown",
   "metadata": {},
   "source": [
    "Total of key food phrases are:"
   ]
  },
  {
   "cell_type": "code",
   "execution_count": 397,
   "metadata": {},
   "outputs": [],
   "source": [
    "total = df_food.groupby('category').sum()['key_values']"
   ]
  },
  {
   "cell_type": "markdown",
   "metadata": {},
   "source": [
    "And each one section represents:"
   ]
  },
  {
   "cell_type": "code",
   "execution_count": 398,
   "metadata": {},
   "outputs": [
    {
     "data": {
      "text/html": [
       "<div>\n",
       "<style scoped>\n",
       "    .dataframe tbody tr th:only-of-type {\n",
       "        vertical-align: middle;\n",
       "    }\n",
       "\n",
       "    .dataframe tbody tr th {\n",
       "        vertical-align: top;\n",
       "    }\n",
       "\n",
       "    .dataframe thead th {\n",
       "        text-align: right;\n",
       "    }\n",
       "</style>\n",
       "<table border=\"1\" class=\"dataframe\">\n",
       "  <thead>\n",
       "    <tr style=\"text-align: right;\">\n",
       "      <th>category</th>\n",
       "      <th>food</th>\n",
       "    </tr>\n",
       "  </thead>\n",
       "  <tbody>\n",
       "    <tr>\n",
       "      <th>7</th>\n",
       "      <td>4</td>\n",
       "    </tr>\n",
       "    <tr>\n",
       "      <th>9</th>\n",
       "      <td>6</td>\n",
       "    </tr>\n",
       "    <tr>\n",
       "      <th>6</th>\n",
       "      <td>15</td>\n",
       "    </tr>\n",
       "    <tr>\n",
       "      <th>8</th>\n",
       "      <td>18</td>\n",
       "    </tr>\n",
       "    <tr>\n",
       "      <th>5</th>\n",
       "      <td>55</td>\n",
       "    </tr>\n",
       "  </tbody>\n",
       "</table>\n",
       "</div>"
      ],
      "text/plain": [
       "category  food\n",
       "7            4\n",
       "9            6\n",
       "6           15\n",
       "8           18\n",
       "5           55"
      ]
     },
     "execution_count": 398,
     "metadata": {},
     "output_type": "execute_result"
    }
   ],
   "source": [
    "df_food['key_values'].apply(lambda n: n*100//total)"
   ]
  },
  {
   "cell_type": "markdown",
   "metadata": {},
   "source": [
    "In the food phrases universe, *baked* items have the highest predominance (55%) and it makes sense, because the current trends of coffee shops put more prominence in drinks and then in food items, usually snacks and small elements. *Lunch* and *Breakfast* are the next priority with a predominance of 18% and 15%, respectively. "
   ]
  },
  {
   "cell_type": "markdown",
   "metadata": {},
   "source": [
    "What kind of phrases we find here?"
   ]
  },
  {
   "cell_type": "code",
   "execution_count": 399,
   "metadata": {},
   "outputs": [
    {
     "data": {
      "text/html": [
       "<div>\n",
       "<style scoped>\n",
       "    .dataframe tbody tr th:only-of-type {\n",
       "        vertical-align: middle;\n",
       "    }\n",
       "\n",
       "    .dataframe tbody tr th {\n",
       "        vertical-align: top;\n",
       "    }\n",
       "\n",
       "    .dataframe thead th {\n",
       "        text-align: right;\n",
       "    }\n",
       "</style>\n",
       "<table border=\"1\" class=\"dataframe\">\n",
       "  <thead>\n",
       "    <tr style=\"text-align: right;\">\n",
       "      <th></th>\n",
       "      <th>key_words</th>\n",
       "      <th>key_values</th>\n",
       "      <th>category</th>\n",
       "      <th>section</th>\n",
       "    </tr>\n",
       "  </thead>\n",
       "  <tbody>\n",
       "    <tr>\n",
       "      <th>1</th>\n",
       "      <td>toast crave</td>\n",
       "      <td>0.71</td>\n",
       "      <td>food</td>\n",
       "      <td>baked</td>\n",
       "    </tr>\n",
       "    <tr>\n",
       "      <th>7</th>\n",
       "      <td>toast cravings</td>\n",
       "      <td>0.41</td>\n",
       "      <td>food</td>\n",
       "      <td>baked</td>\n",
       "    </tr>\n",
       "    <tr>\n",
       "      <th>51</th>\n",
       "      <td>pastries free</td>\n",
       "      <td>0.29</td>\n",
       "      <td>food</td>\n",
       "      <td>baked</td>\n",
       "    </tr>\n",
       "    <tr>\n",
       "      <th>62</th>\n",
       "      <td>breads have</td>\n",
       "      <td>0.24</td>\n",
       "      <td>food</td>\n",
       "      <td>baked</td>\n",
       "    </tr>\n",
       "    <tr>\n",
       "      <th>200</th>\n",
       "      <td>donut special</td>\n",
       "      <td>0.41</td>\n",
       "      <td>food</td>\n",
       "      <td>baked</td>\n",
       "    </tr>\n",
       "    <tr>\n",
       "      <th>226</th>\n",
       "      <td>artisan breads</td>\n",
       "      <td>0.23</td>\n",
       "      <td>food</td>\n",
       "      <td>baked</td>\n",
       "    </tr>\n",
       "    <tr>\n",
       "      <th>228</th>\n",
       "      <td>batter bakery</td>\n",
       "      <td>0.23</td>\n",
       "      <td>food</td>\n",
       "      <td>baked</td>\n",
       "    </tr>\n",
       "    <tr>\n",
       "      <th>229</th>\n",
       "      <td>breads batter</td>\n",
       "      <td>0.23</td>\n",
       "      <td>food</td>\n",
       "      <td>baked</td>\n",
       "    </tr>\n",
       "    <tr>\n",
       "      <th>240</th>\n",
       "      <td>pastries firebrand</td>\n",
       "      <td>0.23</td>\n",
       "      <td>food</td>\n",
       "      <td>baked</td>\n",
       "    </tr>\n",
       "    <tr>\n",
       "      <th>241</th>\n",
       "      <td>plus pastries</td>\n",
       "      <td>0.23</td>\n",
       "      <td>food</td>\n",
       "      <td>baked</td>\n",
       "    </tr>\n",
       "    <tr>\n",
       "      <th>245</th>\n",
       "      <td>bakers excellent</td>\n",
       "      <td>0.28</td>\n",
       "      <td>food</td>\n",
       "      <td>baked</td>\n",
       "    </tr>\n",
       "    <tr>\n",
       "      <th>248</th>\n",
       "      <td>bread divisadero</td>\n",
       "      <td>0.28</td>\n",
       "      <td>food</td>\n",
       "      <td>baked</td>\n",
       "    </tr>\n",
       "    <tr>\n",
       "      <th>251</th>\n",
       "      <td>excellent bread</td>\n",
       "      <td>0.28</td>\n",
       "      <td>food</td>\n",
       "      <td>baked</td>\n",
       "    </tr>\n",
       "    <tr>\n",
       "      <th>269</th>\n",
       "      <td>bread road</td>\n",
       "      <td>0.26</td>\n",
       "      <td>food</td>\n",
       "      <td>baked</td>\n",
       "    </tr>\n",
       "    <tr>\n",
       "      <th>271</th>\n",
       "      <td>grab loaf</td>\n",
       "      <td>0.26</td>\n",
       "      <td>food</td>\n",
       "      <td>baked</td>\n",
       "    </tr>\n",
       "    <tr>\n",
       "      <th>273</th>\n",
       "      <td>jam array</td>\n",
       "      <td>0.26</td>\n",
       "      <td>food</td>\n",
       "      <td>baked</td>\n",
       "    </tr>\n",
       "    <tr>\n",
       "      <th>274</th>\n",
       "      <td>loaf bread</td>\n",
       "      <td>0.26</td>\n",
       "      <td>food</td>\n",
       "      <td>baked</td>\n",
       "    </tr>\n",
       "    <tr>\n",
       "      <th>280</th>\n",
       "      <td>thick toast</td>\n",
       "      <td>0.26</td>\n",
       "      <td>food</td>\n",
       "      <td>baked</td>\n",
       "    </tr>\n",
       "    <tr>\n",
       "      <th>281</th>\n",
       "      <td>toast slathered</td>\n",
       "      <td>0.26</td>\n",
       "      <td>food</td>\n",
       "      <td>baked</td>\n",
       "    </tr>\n",
       "    <tr>\n",
       "      <th>311</th>\n",
       "      <td>baked goods</td>\n",
       "      <td>0.50</td>\n",
       "      <td>food</td>\n",
       "      <td>baked</td>\n",
       "    </tr>\n",
       "  </tbody>\n",
       "</table>\n",
       "</div>"
      ],
      "text/plain": [
       "              key_words  key_values category section\n",
       "1           toast crave        0.71     food   baked\n",
       "7        toast cravings        0.41     food   baked\n",
       "51        pastries free        0.29     food   baked\n",
       "62          breads have        0.24     food   baked\n",
       "200       donut special        0.41     food   baked\n",
       "226      artisan breads        0.23     food   baked\n",
       "228       batter bakery        0.23     food   baked\n",
       "229       breads batter        0.23     food   baked\n",
       "240  pastries firebrand        0.23     food   baked\n",
       "241       plus pastries        0.23     food   baked\n",
       "245    bakers excellent        0.28     food   baked\n",
       "248    bread divisadero        0.28     food   baked\n",
       "251     excellent bread        0.28     food   baked\n",
       "269          bread road        0.26     food   baked\n",
       "271           grab loaf        0.26     food   baked\n",
       "273           jam array        0.26     food   baked\n",
       "274          loaf bread        0.26     food   baked\n",
       "280         thick toast        0.26     food   baked\n",
       "281     toast slathered        0.26     food   baked\n",
       "311         baked goods        0.50     food   baked"
      ]
     },
     "execution_count": 399,
     "metadata": {},
     "output_type": "execute_result"
    }
   ],
   "source": [
    "df_filt[(df_filt['category']=='food') & (df_filt['section']=='baked')].head(20)"
   ]
  },
  {
   "cell_type": "markdown",
   "metadata": {},
   "source": [
    "### Category 3: Place\n",
    "We considering as place everything related to the physical space inside and outside of the coffee shop. Decoration in walls, musical elements and books are some examples of inside features. We discover some allusions to the features on the streets, sunsets, scenery beyond the coffee shop itself but possible thanks to the location of coffee. Aditionally, there are information about coffee dynamic (for here, to go), availability of wifi and size of the shop."
   ]
  },
  {
   "cell_type": "code",
   "execution_count": 402,
   "metadata": {},
   "outputs": [
    {
     "data": {
      "text/html": [
       "<div>\n",
       "<style scoped>\n",
       "    .dataframe tbody tr th:only-of-type {\n",
       "        vertical-align: middle;\n",
       "    }\n",
       "\n",
       "    .dataframe tbody tr th {\n",
       "        vertical-align: top;\n",
       "    }\n",
       "\n",
       "    .dataframe thead th {\n",
       "        text-align: right;\n",
       "    }\n",
       "</style>\n",
       "<table border=\"1\" class=\"dataframe\">\n",
       "  <thead>\n",
       "    <tr style=\"text-align: right;\">\n",
       "      <th></th>\n",
       "      <th>category</th>\n",
       "      <th>section</th>\n",
       "      <th>key_words</th>\n",
       "      <th>key_values</th>\n",
       "    </tr>\n",
       "  </thead>\n",
       "  <tbody>\n",
       "    <tr>\n",
       "      <th>16</th>\n",
       "      <td>place</td>\n",
       "      <td>wifi</td>\n",
       "      <td>7</td>\n",
       "      <td>7</td>\n",
       "    </tr>\n",
       "    <tr>\n",
       "      <th>14</th>\n",
       "      <td>place</td>\n",
       "      <td>size</td>\n",
       "      <td>8</td>\n",
       "      <td>8</td>\n",
       "    </tr>\n",
       "    <tr>\n",
       "      <th>13</th>\n",
       "      <td>place</td>\n",
       "      <td>sentiment</td>\n",
       "      <td>10</td>\n",
       "      <td>10</td>\n",
       "    </tr>\n",
       "    <tr>\n",
       "      <th>11</th>\n",
       "      <td>place</td>\n",
       "      <td>go</td>\n",
       "      <td>11</td>\n",
       "      <td>11</td>\n",
       "    </tr>\n",
       "    <tr>\n",
       "      <th>15</th>\n",
       "      <td>place</td>\n",
       "      <td>stay</td>\n",
       "      <td>20</td>\n",
       "      <td>20</td>\n",
       "    </tr>\n",
       "    <tr>\n",
       "      <th>12</th>\n",
       "      <td>place</td>\n",
       "      <td>out</td>\n",
       "      <td>24</td>\n",
       "      <td>24</td>\n",
       "    </tr>\n",
       "    <tr>\n",
       "      <th>10</th>\n",
       "      <td>place</td>\n",
       "      <td>deco</td>\n",
       "      <td>36</td>\n",
       "      <td>36</td>\n",
       "    </tr>\n",
       "  </tbody>\n",
       "</table>\n",
       "</div>"
      ],
      "text/plain": [
       "   category    section  key_words  key_values\n",
       "16    place       wifi          7           7\n",
       "14    place       size          8           8\n",
       "13    place  sentiment         10          10\n",
       "11    place         go         11          11\n",
       "15    place       stay         20          20\n",
       "12    place        out         24          24\n",
       "10    place       deco         36          36"
      ]
     },
     "execution_count": 402,
     "metadata": {},
     "output_type": "execute_result"
    }
   ],
   "source": [
    "df_place = df1[df1['category'] == 'place'].sort_values('key_values')\n",
    "df_place"
   ]
  },
  {
   "cell_type": "code",
   "execution_count": 412,
   "metadata": {},
   "outputs": [
    {
     "data": {
      "image/png": "[encoded data removed]",
      "text/plain": [
       "<Figure size 540x360 with 1 Axes>"
      ]
     },
     "metadata": {},
     "output_type": "display_data"
    }
   ],
   "source": [
    "g = sns.catplot(x=\"section\", y = 'key_values', data=df_place, saturation=.5,\n",
    "                kind=\"bar\", ci=None, aspect=1.5, palette='coolwarm')\n",
    "g.set_axis_labels(\"Place sections\", \"Phrases\").set_titles(\"{col_name} {col_var}\").set_xticklabels([\"Wifi\", \"Size\", \"Sentiment\", \"To go\", \"For here\", \"Outside\", \"Decoration\"]) \n",
    "sns.despine(offset=10, trim=True)"
   ]
  },
  {
   "cell_type": "markdown",
   "metadata": {},
   "source": [
    "Total of key food phrases are:"
   ]
  },
  {
   "cell_type": "code",
   "execution_count": 404,
   "metadata": {},
   "outputs": [],
   "source": [
    "total = df_place.groupby('category').sum()['key_values']"
   ]
  },
  {
   "cell_type": "markdown",
   "metadata": {},
   "source": [
    "And each one section represents:"
   ]
  },
  {
   "cell_type": "code",
   "execution_count": 405,
   "metadata": {},
   "outputs": [
    {
     "data": {
      "text/html": [
       "<div>\n",
       "<style scoped>\n",
       "    .dataframe tbody tr th:only-of-type {\n",
       "        vertical-align: middle;\n",
       "    }\n",
       "\n",
       "    .dataframe tbody tr th {\n",
       "        vertical-align: top;\n",
       "    }\n",
       "\n",
       "    .dataframe thead th {\n",
       "        text-align: right;\n",
       "    }\n",
       "</style>\n",
       "<table border=\"1\" class=\"dataframe\">\n",
       "  <thead>\n",
       "    <tr style=\"text-align: right;\">\n",
       "      <th>category</th>\n",
       "      <th>place</th>\n",
       "    </tr>\n",
       "  </thead>\n",
       "  <tbody>\n",
       "    <tr>\n",
       "      <th>16</th>\n",
       "      <td>6</td>\n",
       "    </tr>\n",
       "    <tr>\n",
       "      <th>14</th>\n",
       "      <td>6</td>\n",
       "    </tr>\n",
       "    <tr>\n",
       "      <th>13</th>\n",
       "      <td>8</td>\n",
       "    </tr>\n",
       "    <tr>\n",
       "      <th>11</th>\n",
       "      <td>9</td>\n",
       "    </tr>\n",
       "    <tr>\n",
       "      <th>15</th>\n",
       "      <td>17</td>\n",
       "    </tr>\n",
       "    <tr>\n",
       "      <th>12</th>\n",
       "      <td>20</td>\n",
       "    </tr>\n",
       "    <tr>\n",
       "      <th>10</th>\n",
       "      <td>31</td>\n",
       "    </tr>\n",
       "  </tbody>\n",
       "</table>\n",
       "</div>"
      ],
      "text/plain": [
       "category  place\n",
       "16            6\n",
       "14            6\n",
       "13            8\n",
       "11            9\n",
       "15           17\n",
       "12           20\n",
       "10           31"
      ]
     },
     "execution_count": 405,
     "metadata": {},
     "output_type": "execute_result"
    }
   ],
   "source": [
    "df_place['key_values'].apply(lambda n: n*100//total)"
   ]
  },
  {
   "cell_type": "markdown",
   "metadata": {},
   "source": [
    "*Decoration* has majority predominance with 31%, follows by features out of the coffee shop (21%). There is a special attention for parklets and what part of the city you could see from your seat in the coffee shop, for example. Aditionally, sections *For here* and *To go* as one big sections would be in the second predominance (26%). This last information is extremely important to choose a shop, because define a esential part of the type of experience that you will have."
   ]
  },
  {
   "cell_type": "markdown",
   "metadata": {},
   "source": [
    "What kind of phrases we find here?"
   ]
  },
  {
   "cell_type": "code",
   "execution_count": 406,
   "metadata": {},
   "outputs": [
    {
     "data": {
      "text/html": [
       "<div>\n",
       "<style scoped>\n",
       "    .dataframe tbody tr th:only-of-type {\n",
       "        vertical-align: middle;\n",
       "    }\n",
       "\n",
       "    .dataframe tbody tr th {\n",
       "        vertical-align: top;\n",
       "    }\n",
       "\n",
       "    .dataframe thead th {\n",
       "        text-align: right;\n",
       "    }\n",
       "</style>\n",
       "<table border=\"1\" class=\"dataframe\">\n",
       "  <thead>\n",
       "    <tr style=\"text-align: right;\">\n",
       "      <th></th>\n",
       "      <th>key_words</th>\n",
       "      <th>key_values</th>\n",
       "      <th>category</th>\n",
       "      <th>section</th>\n",
       "    </tr>\n",
       "  </thead>\n",
       "  <tbody>\n",
       "    <tr>\n",
       "      <th>76</th>\n",
       "      <td>area piano</td>\n",
       "      <td>0.22</td>\n",
       "      <td>place</td>\n",
       "      <td>deco</td>\n",
       "    </tr>\n",
       "    <tr>\n",
       "      <th>77</th>\n",
       "      <td>books patrons</td>\n",
       "      <td>0.22</td>\n",
       "      <td>place</td>\n",
       "      <td>deco</td>\n",
       "    </tr>\n",
       "    <tr>\n",
       "      <th>88</th>\n",
       "      <td>piano free</td>\n",
       "      <td>0.22</td>\n",
       "      <td>place</td>\n",
       "      <td>deco</td>\n",
       "    </tr>\n",
       "    <tr>\n",
       "      <th>92</th>\n",
       "      <td>shelves books</td>\n",
       "      <td>0.22</td>\n",
       "      <td>place</td>\n",
       "      <td>deco</td>\n",
       "    </tr>\n",
       "    <tr>\n",
       "      <th>217</th>\n",
       "      <td>most scenic</td>\n",
       "      <td>0.22</td>\n",
       "      <td>place</td>\n",
       "      <td>deco</td>\n",
       "    </tr>\n",
       "    <tr>\n",
       "      <th>221</th>\n",
       "      <td>scenic might</td>\n",
       "      <td>0.22</td>\n",
       "      <td>place</td>\n",
       "      <td>deco</td>\n",
       "    </tr>\n",
       "    <tr>\n",
       "      <th>259</th>\n",
       "      <td>communal table</td>\n",
       "      <td>0.32</td>\n",
       "      <td>place</td>\n",
       "      <td>deco</td>\n",
       "    </tr>\n",
       "    <tr>\n",
       "      <th>267</th>\n",
       "      <td>table inside</td>\n",
       "      <td>0.32</td>\n",
       "      <td>place</td>\n",
       "      <td>deco</td>\n",
       "    </tr>\n",
       "    <tr>\n",
       "      <th>268</th>\n",
       "      <td>array hearty</td>\n",
       "      <td>0.26</td>\n",
       "      <td>place</td>\n",
       "      <td>deco</td>\n",
       "    </tr>\n",
       "    <tr>\n",
       "      <th>308</th>\n",
       "      <td>technologically advanced</td>\n",
       "      <td>0.27</td>\n",
       "      <td>place</td>\n",
       "      <td>deco</td>\n",
       "    </tr>\n",
       "    <tr>\n",
       "      <th>319</th>\n",
       "      <td>beautiful mobile</td>\n",
       "      <td>0.29</td>\n",
       "      <td>place</td>\n",
       "      <td>deco</td>\n",
       "    </tr>\n",
       "    <tr>\n",
       "      <th>323</th>\n",
       "      <td>into picturesque</td>\n",
       "      <td>0.29</td>\n",
       "      <td>place</td>\n",
       "      <td>deco</td>\n",
       "    </tr>\n",
       "    <tr>\n",
       "      <th>324</th>\n",
       "      <td>mobile coffee</td>\n",
       "      <td>0.29</td>\n",
       "      <td>place</td>\n",
       "      <td>deco</td>\n",
       "    </tr>\n",
       "    <tr>\n",
       "      <th>328</th>\n",
       "      <td>picturesque cafe</td>\n",
       "      <td>0.29</td>\n",
       "      <td>place</td>\n",
       "      <td>deco</td>\n",
       "    </tr>\n",
       "    <tr>\n",
       "      <th>358</th>\n",
       "      <td>interior leaves</td>\n",
       "      <td>0.38</td>\n",
       "      <td>place</td>\n",
       "      <td>deco</td>\n",
       "    </tr>\n",
       "    <tr>\n",
       "      <th>359</th>\n",
       "      <td>leaves focus</td>\n",
       "      <td>0.38</td>\n",
       "      <td>place</td>\n",
       "      <td>deco</td>\n",
       "    </tr>\n",
       "    <tr>\n",
       "      <th>360</th>\n",
       "      <td>minimal interior</td>\n",
       "      <td>0.38</td>\n",
       "      <td>place</td>\n",
       "      <td>deco</td>\n",
       "    </tr>\n",
       "    <tr>\n",
       "      <th>382</th>\n",
       "      <td>heath ceramics</td>\n",
       "      <td>0.25</td>\n",
       "      <td>place</td>\n",
       "      <td>deco</td>\n",
       "    </tr>\n",
       "    <tr>\n",
       "      <th>411</th>\n",
       "      <td>array vessels</td>\n",
       "      <td>0.28</td>\n",
       "      <td>place</td>\n",
       "      <td>deco</td>\n",
       "    </tr>\n",
       "    <tr>\n",
       "      <th>416</th>\n",
       "      <td>green walls</td>\n",
       "      <td>0.28</td>\n",
       "      <td>place</td>\n",
       "      <td>deco</td>\n",
       "    </tr>\n",
       "  </tbody>\n",
       "</table>\n",
       "</div>"
      ],
      "text/plain": [
       "                    key_words  key_values category section\n",
       "76                 area piano        0.22    place    deco\n",
       "77              books patrons        0.22    place    deco\n",
       "88                 piano free        0.22    place    deco\n",
       "92              shelves books        0.22    place    deco\n",
       "217               most scenic        0.22    place    deco\n",
       "221              scenic might        0.22    place    deco\n",
       "259            communal table        0.32    place    deco\n",
       "267              table inside        0.32    place    deco\n",
       "268              array hearty        0.26    place    deco\n",
       "308  technologically advanced        0.27    place    deco\n",
       "319          beautiful mobile        0.29    place    deco\n",
       "323          into picturesque        0.29    place    deco\n",
       "324             mobile coffee        0.29    place    deco\n",
       "328          picturesque cafe        0.29    place    deco\n",
       "358           interior leaves        0.38    place    deco\n",
       "359              leaves focus        0.38    place    deco\n",
       "360          minimal interior        0.38    place    deco\n",
       "382            heath ceramics        0.25    place    deco\n",
       "411             array vessels        0.28    place    deco\n",
       "416               green walls        0.28    place    deco"
      ]
     },
     "execution_count": 406,
     "metadata": {},
     "output_type": "execute_result"
    }
   ],
   "source": [
    "df_filt[(df_filt['category']=='place') & (df_filt['section']=='deco')].head(20)"
   ]
  },
  {
   "cell_type": "markdown",
   "metadata": {},
   "source": [
    "To sum up, we discovered that types of drinks, roast features, baked food, decoration, outsides and dynamic of coffee shop are most predominance class of information in the blog analyzed."
   ]
  },
  {
   "cell_type": "code",
   "execution_count": null,
   "metadata": {},
   "outputs": [],
   "source": []
  }
 ],
 "metadata": {
  "kernelspec": {
   "display_name": "Python 3",
   "language": "python",
   "name": "python3"
  },
  "language_info": {
   "codemirror_mode": {
    "name": "ipython",
    "version": 3
   },
   "file_extension": ".py",
   "mimetype": "text/x-python",
   "name": "python",
   "nbconvert_exporter": "python",
   "pygments_lexer": "ipython3",
   "version": "3.7.1"
  }
 },
 "nbformat": 4,
 "nbformat_minor": 2
}

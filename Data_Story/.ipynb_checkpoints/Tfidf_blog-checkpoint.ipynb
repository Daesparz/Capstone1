{
 "cells": [
  {
   "cell_type": "markdown",
   "metadata": {},
   "source": [
    "# Data Preprocessing\n",
    "## Tfidf from blogs\n",
    "After scrapping a blog website, we could extract key phares/words"
   ]
  },
  {
   "cell_type": "code",
   "execution_count": null,
   "metadata": {},
   "outputs": [],
   "source": [
    "from nltk.corpus import stopwords\n",
    "from nltk.stem import PorterStemmer, WordNetLemmatizer \n",
    "from nltk.tokenize import word_tokenize, sent_tokenize\n",
    "from sklearn.feature_extraction.text import TfidfVectorizer\n",
    "import matplotlib.pyplot as plt\n",
    "import pandas as pd\n",
    "import numpy as np\n",
    "import json\n",
    "import nltk\n",
    "import re"
   ]
  },
  {
   "cell_type": "code",
   "execution_count": 206,
   "metadata": {},
   "outputs": [],
   "source": [
    "\"\"\"\n",
    "from http://stackoverflow.com/questions/19790188/expanding-english-language-contractions-in-python\n",
    "all credits go to alko and arturomp @ stack overflow.\n",
    "\"\"\"\n",
    "\n",
    "with open('contractionList.txt', 'r') as f:\n",
    "    cList = json.loads(f.read())\n",
    "    c_re = re.compile('(%s)' % '|'.join(cList.keys()))\n",
    "\n",
    "def expandContractions(text, c_re=c_re):\n",
    "    def replace(match):\n",
    "        return cList[match.group(0)]\n",
    "    return c_re.sub(replace, text)"
   ]
  },
  {
   "cell_type": "code",
   "execution_count": 207,
   "metadata": {},
   "outputs": [],
   "source": [
    "df = pd.read_csv('../Data_Extraction/reviews_blog_a.csv', usecols=['Name', 'Description'])"
   ]
  },
  {
   "cell_type": "code",
   "execution_count": 208,
   "metadata": {},
   "outputs": [],
   "source": [
    "wpt = nltk.WordPunctTokenizer()\n",
    "stop_words = []\n",
    "with open('stop_wordsList.txt') as f:\n",
    "    alist = f.read().rstrip()"
   ]
  },
  {
   "cell_type": "code",
   "execution_count": 209,
   "metadata": {},
   "outputs": [],
   "source": [
    "stemmer = PorterStemmer() \n",
    "    \n",
    "def normalizer(paragrahp):\n",
    "    paragrahp = expandContractions(paragrahp.lower())\n",
    "    paragrahp_c = paragrahp.split('.')[:-1]\n",
    "    # lower case and remove special character/whitespace\n",
    "    paragrahp = [re.sub(r'[^a-zA-Z\\s]','', sentence) for sentence in paragrahp_c]\n",
    "    paragrahp = [sentence.strip() for sentence in paragrahp]\n",
    "    tokens = [wpt.tokenize(sentence) for sentence in paragrahp]\n",
    "    tokens_filtered = [[word for word in token if word not in stop_words] for token in tokens]\n",
    "    paragrahp_norm = [' '.join(tokens) for tokens in tokens_filtered]\n",
    "    return paragrahp_norm"
   ]
  },
  {
   "cell_type": "code",
   "execution_count": 210,
   "metadata": {},
   "outputs": [],
   "source": [
    "def key_word_extractor(norm_corpus):\n",
    "    tv = TfidfVectorizer(min_df=0., max_df=1., use_idf=True, ngram_range=(2,2), max_features=40)\n",
    "    tv_matrix = tv.fit_transform(norm_corpus)\n",
    "    tv_matrix = tv_matrix.toarray()\n",
    "\n",
    "    idx = [i for i in range(len(norm_corpus))]\n",
    "    vocab = tv.get_feature_names()\n",
    "    df_tfidV = pd.DataFrame(np.round(tv_matrix, 2), columns=vocab, index=idx)\n",
    "\n",
    "    key_values = []\n",
    "    key_words = []\n",
    "    for i in range(len(norm_corpus)):\n",
    "        for column in vocab:\n",
    "            if df_tfidV[column][i] > 0.20:\n",
    "                key_values.append(df_tfidV[column][i])\n",
    "                key_words.append(column)\n",
    "    return key_words, key_values"
   ]
  },
  {
   "cell_type": "code",
   "execution_count": 211,
   "metadata": {},
   "outputs": [],
   "source": [
    "key_words = [key_word_extractor(normalizer(review))[0] for review in df['Description']]   \n",
    "key_values = [key_word_extractor(normalizer(review))[1] for review in df['Description']] "
   ]
  },
  {
   "cell_type": "code",
   "execution_count": 212,
   "metadata": {},
   "outputs": [],
   "source": [
    "l_words = []\n",
    "l_values = []\n",
    "for list_words in key_words:\n",
    "    l_words = [*l_words, *list_words] \n",
    "    \n",
    "for list_values in key_values:\n",
    "    l_values = [*l_values, *list_values]"
   ]
  },
  {
   "cell_type": "code",
   "execution_count": 213,
   "metadata": {},
   "outputs": [],
   "source": [
    "data = {'key_words': l_words, 'key_values': l_values}\n",
    "df_keys = pd.DataFrame(data)"
   ]
  },
  {
   "cell_type": "code",
   "execution_count": 214,
   "metadata": {},
   "outputs": [
    {
     "data": {
      "text/html": [
       "<div>\n",
       "<style scoped>\n",
       "    .dataframe tbody tr th:only-of-type {\n",
       "        vertical-align: middle;\n",
       "    }\n",
       "\n",
       "    .dataframe tbody tr th {\n",
       "        vertical-align: top;\n",
       "    }\n",
       "\n",
       "    .dataframe thead th {\n",
       "        text-align: right;\n",
       "    }\n",
       "</style>\n",
       "<table border=\"1\" class=\"dataframe\">\n",
       "  <thead>\n",
       "    <tr style=\"text-align: right;\">\n",
       "      <th></th>\n",
       "      <th>key_words</th>\n",
       "      <th>key_values</th>\n",
       "    </tr>\n",
       "  </thead>\n",
       "  <tbody>\n",
       "    <tr>\n",
       "      <th>0</th>\n",
       "      <td>the toast</td>\n",
       "      <td>0.46</td>\n",
       "    </tr>\n",
       "    <tr>\n",
       "      <th>1</th>\n",
       "      <td>they have</td>\n",
       "      <td>0.37</td>\n",
       "    </tr>\n",
       "    <tr>\n",
       "      <th>2</th>\n",
       "      <td>toast you</td>\n",
       "      <td>0.46</td>\n",
       "    </tr>\n",
       "    <tr>\n",
       "      <th>3</th>\n",
       "      <td>yeah they</td>\n",
       "      <td>0.46</td>\n",
       "    </tr>\n",
       "    <tr>\n",
       "      <th>4</th>\n",
       "      <td>yeah yeah</td>\n",
       "      <td>0.46</td>\n",
       "    </tr>\n",
       "  </tbody>\n",
       "</table>\n",
       "</div>"
      ],
      "text/plain": [
       "   key_words  key_values\n",
       "0  the toast        0.46\n",
       "1  they have        0.37\n",
       "2  toast you        0.46\n",
       "3  yeah they        0.46\n",
       "4  yeah yeah        0.46"
      ]
     },
     "execution_count": 214,
     "metadata": {},
     "output_type": "execute_result"
    }
   ],
   "source": [
    "df_keys.head()"
   ]
  },
  {
   "cell_type": "code",
   "execution_count": 184,
   "metadata": {},
   "outputs": [
    {
     "data": {
      "image/png": "[encoded data removed]",
      "text/plain": [
       "<Figure size 432x288 with 1 Axes>"
      ]
     },
     "metadata": {
      "needs_background": "light"
     },
     "output_type": "display_data"
    }
   ],
   "source": [
    "# the histogram of the data\n",
    "plt.grid(axis='y', alpha=0.75)\n",
    "plt.hist(np.asarray(df_keys['key_values']), bins = 20, density=True, color='#0504aa', alpha=0.7, rwidth=0.85)\n",
    "plt.xlabel('bins of words')\n",
    "plt.ylabel('Tfidf')\n",
    "plt.title('Tfidf of an expert review')\n",
    "plt.show()"
   ]
  },
  {
   "cell_type": "markdown",
   "metadata": {},
   "source": [
    "Save dataframe as csv for manual labeled"
   ]
  },
  {
   "cell_type": "code",
   "execution_count": 161,
   "metadata": {},
   "outputs": [],
   "source": [
    "#df_keys.to_csv('key_words.csv', index=False)"
   ]
  }
 ],
 "metadata": {
  "kernelspec": {
   "display_name": "Python 3",
   "language": "python",
   "name": "python3"
  },
  "language_info": {
   "codemirror_mode": {
    "name": "ipython",
    "version": 3
   },
   "file_extension": ".py",
   "mimetype": "text/x-python",
   "name": "python",
   "nbconvert_exporter": "python",
   "pygments_lexer": "ipython3",
   "version": "3.7.1"
  }
 },
 "nbformat": 4,
 "nbformat_minor": 2
}

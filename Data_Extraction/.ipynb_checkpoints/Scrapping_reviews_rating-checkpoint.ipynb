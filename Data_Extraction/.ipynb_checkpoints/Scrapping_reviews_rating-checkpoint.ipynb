{
 "cells": [
  {
   "cell_type": "code",
   "execution_count": 53,
   "metadata": {},
   "outputs": [],
   "source": [
    "from collections import namedtuple\n",
    "import bs4 as BeautifulSoup\n",
    "import pandas as pd\n",
    "import urllib.request"
   ]
  },
  {
   "cell_type": "code",
   "execution_count": 54,
   "metadata": {},
   "outputs": [],
   "source": [
    "def get_soup(url):\n",
    "    data = urllib.request.urlopen(url)\n",
    "    read_data = data.read() \n",
    "    soup = BeautifulSoup.BeautifulSoup(read_data,'html.parser')\n",
    "    return soup"
   ]
  },
  {
   "cell_type": "code",
   "execution_count": 55,
   "metadata": {},
   "outputs": [],
   "source": [
    "def data_extraction(soup):\n",
    "    name = []\n",
    "    items = []\n",
    "    rating = []\n",
    "    a = soup.find_all('a', class_='lemon--a__373c0__IEZFH link__373c0__29943 link-color--blue-dark__373c0__1mhJo link-size--inherit__373c0__2JXk5')   \n",
    "    for i in range(0,len(a),2):\n",
    "        items.append(a[i].get('href'))\n",
    "    \n",
    "    description = []\n",
    "    for item in items:\n",
    "        deep_soup = get_soup('https://www.yelp.com'+item)\n",
    "        #coffee_link = urllib.request.urlopen('https://www.yelp.com'+item)\n",
    "        #deep_soup = BeautifulSoup.BeautifulSoup(coffee_link, 'html.parser')\n",
    "        d = deep_soup.select(\"div.review-content p\")\n",
    "        for a in d:\n",
    "            if len(a.text)> 0:\n",
    "                description.append(a.text)\n",
    "        r = deep_soup.find_all('div', class_='review-content')\n",
    "        for s in r:\n",
    "            rate = s.find('div', class_='biz-rating biz-rating-large clearfix')\n",
    "            rating.append(rate.find('img').get('alt'))\n",
    "                           \n",
    "    df = pd.DataFrame({'Description': description,\n",
    "                      'Rating': rating})\n",
    "    return df\n",
    "     \n",
    "    "
   ]
  },
  {
   "cell_type": "code",
   "execution_count": 56,
   "metadata": {},
   "outputs": [],
   "source": [
    "url1 = 'https://www.yelp.com/search?find_desc=Coffee%20%26%20Tea&find_loc=San%20Francisco%2C%20CA&ns=1&sortby=recommended&start=0'"
   ]
  },
  {
   "cell_type": "code",
   "execution_count": 57,
   "metadata": {},
   "outputs": [],
   "source": [
    "df1 = data_extraction(get_soup(url1))"
   ]
  },
  {
   "cell_type": "code",
   "execution_count": 59,
   "metadata": {},
   "outputs": [],
   "source": [
    "url2 = 'https://www.yelp.com/search?find_desc=Coffee%20%26%20Tea&find_loc=San%20Francisco%2C%20CA&ns=1&sortby=recommended&start=30'"
   ]
  },
  {
   "cell_type": "code",
   "execution_count": 64,
   "metadata": {},
   "outputs": [],
   "source": [
    "df2 = data_extraction(get_soup(url2))"
   ]
  },
  {
   "cell_type": "code",
   "execution_count": 65,
   "metadata": {},
   "outputs": [],
   "source": [
    "url3 = 'https://www.yelp.com/search?find_desc=Coffee%20%26%20Tea&find_loc=San%20Francisco%2C%20CA&ns=1&sortby=recommended&start=60'"
   ]
  },
  {
   "cell_type": "code",
   "execution_count": 66,
   "metadata": {},
   "outputs": [],
   "source": [
    "df3 = data_extraction(get_soup(url3))"
   ]
  },
  {
   "cell_type": "code",
   "execution_count": 67,
   "metadata": {},
   "outputs": [],
   "source": [
    "df = pd.concat([df1[1:-2], df2[1:-2], df3[1:-2]], ignore_index=True)"
   ]
  },
  {
   "cell_type": "code",
   "execution_count": 69,
   "metadata": {},
   "outputs": [],
   "source": [
    "#df.to_csv('Reviews/reviews_rating.csv', index=False)"
   ]
  }
 ],
 "metadata": {
  "kernelspec": {
   "display_name": "Python 3",
   "language": "python",
   "name": "python3"
  },
  "language_info": {
   "codemirror_mode": {
    "name": "ipython",
    "version": 3
   },
   "file_extension": ".py",
   "mimetype": "text/x-python",
   "name": "python",
   "nbconvert_exporter": "python",
   "pygments_lexer": "ipython3",
   "version": "3.7.1"
  }
 },
 "nbformat": 4,
 "nbformat_minor": 2
}

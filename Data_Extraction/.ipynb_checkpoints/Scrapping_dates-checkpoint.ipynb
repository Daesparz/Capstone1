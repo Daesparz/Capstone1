{
 "cells": [
  {
   "cell_type": "code",
   "execution_count": 1,
   "metadata": {},
   "outputs": [],
   "source": [
    "from collections import namedtuple\n",
    "import bs4 as BeautifulSoup\n",
    "import pandas as pd\n",
    "import urllib.request"
   ]
  },
  {
   "cell_type": "code",
   "execution_count": 2,
   "metadata": {},
   "outputs": [],
   "source": [
    "def get_soup(url):\n",
    "    data = urllib.request.urlopen(url)\n",
    "    read_data = data.read() \n",
    "    soup = BeautifulSoup.BeautifulSoup(read_data,'html.parser')\n",
    "    return soup"
   ]
  },
  {
   "cell_type": "code",
   "execution_count": 77,
   "metadata": {},
   "outputs": [],
   "source": [
    "def data_extraction(soup):\n",
    "    \n",
    "    name, coffee, items, rating, date_array = [],[],[],[],[]\n",
    "    description = []\n",
    "    a = soup.find_all('a', class_='lemon--a__373c0__IEZFH link__373c0__29943 link-color--blue-dark__373c0__1mhJo link-size--inherit__373c0__2JXk5')   \n",
    "    for i in range(0,len(a),2):\n",
    "        items.append(a[i].get('href'))\n",
    "    \n",
    "    for item in items:\n",
    "        if item.startswith('/biz/'):\n",
    "            item = item.split('osq')[0]\n",
    "            print('https://www.yelp.com'+item+'sort_by=date_desc')\n",
    "            deep_soup = get_soup('https://www.yelp.com'+item+'sort_by=date_desc')\n",
    "            try:\n",
    "                name = deep_soup.find('h1', class_='biz-page-title embossed-text-white shortenough').text\n",
    "            except:\n",
    "                name = deep_soup.find('h1', class_='biz-page-title embossed-text-white').text\n",
    "\n",
    "            d = deep_soup.select(\"div.review-content p\")\n",
    "\n",
    "            for a in d:\n",
    "                if len(a.text)> 0:\n",
    "                    description.append(a.text)\n",
    "\n",
    "                r = deep_soup.find_all('div', class_='review-content')\n",
    "\n",
    "            for s in r:\n",
    "                rate = s.find('div', class_='biz-rating biz-rating-large clearfix')\n",
    "                rating.append(rate.find('img').get('alt'))\n",
    "                date = s.find('span', class_='rating-qualifier').text.strip()\n",
    "                date_array.append(date)\n",
    "                coffee.append(name)\n",
    "\n",
    "    df = pd.DataFrame({\n",
    "                    'Coffee': coffee,\n",
    "                    'Description': description,\n",
    "                    'Rating': rating,\n",
    "                    'date': date_array})\n",
    "        \n",
    "    return df"
   ]
  },
  {
   "cell_type": "code",
   "execution_count": 78,
   "metadata": {},
   "outputs": [],
   "source": [
    "url = 'https://www.yelp.com/search?find_desc=Coffee%20%26%20Tea&find_loc=San%20Francisco%2C%20CA&ns=1&sortby=recommended&start=0'"
   ]
  },
  {
   "cell_type": "code",
   "execution_count": 86,
   "metadata": {},
   "outputs": [
    {
     "name": "stdout",
     "output_type": "stream",
     "text": [
      "https://www.yelp.com/biz/r%C3%A9veille-coffee-co-san-francisco-6?sort_by=date_desc\n",
      "https://www.yelp.com/biz/home-san-francisco-30?sort_by=date_desc\n",
      "https://www.yelp.com/biz/home-san-francisco-28?sort_by=date_desc\n",
      "https://www.yelp.com/biz/the-mill-san-francisco?sort_by=date_desc\n",
      "https://www.yelp.com/biz/rise-and-grind-coffee-and-tea-san-francisco?sort_by=date_desc\n",
      "https://www.yelp.com/biz/four-barrel-coffee-san-francisco?sort_by=date_desc\n",
      "https://www.yelp.com/biz/andytown-coffee-roasters-san-francisco?sort_by=date_desc\n",
      "https://www.yelp.com/biz/snowbird-coffee-san-francisco?sort_by=date_desc\n",
      "https://www.yelp.com/biz/weavers-coffee-and-tea-san-francisco?sort_by=date_desc\n",
      "https://www.yelp.com/biz/fifty-fifty-coffee-and-tea-san-francisco?sort_by=date_desc\n",
      "https://www.yelp.com/biz/golden-bear-trading-company-san-francisco-3?sort_by=date_desc\n",
      "https://www.yelp.com/biz/sightglass-coffee-san-francisco-7?sort_by=date_desc\n",
      "https://www.yelp.com/biz/wrecking-ball-coffee-roasters-san-francisco-2?sort_by=date_desc\n",
      "https://www.yelp.com/biz/flywheel-coffee-roasters-san-francisco?sort_by=date_desc\n",
      "https://www.yelp.com/biz/native-twins-coffee-san-francisco-2?sort_by=date_desc\n",
      "https://www.yelp.com/biz/spikes-coffees-and-teas-san-francisco?sort_by=date_desc\n",
      "https://www.yelp.com/biz/saint-frank-coffee-san-francisco-2?sort_by=date_desc\n",
      "https://www.yelp.com/biz/sightglass-coffee-san-francisco-15?sort_by=date_desc\n",
      "https://www.yelp.com/biz/philz-coffee-san-francisco-2?sort_by=date_desc\n",
      "https://www.yelp.com/biz/wooden-coffeehouse-san-francisco?sort_by=date_desc\n",
      "https://www.yelp.com/biz/coffeeshop-san-francisco?sort_by=date_desc\n",
      "https://www.yelp.com/biz/neighbors-corner-san-francisco-2?sort_by=date_desc\n",
      "https://www.yelp.com/biz/bernies-san-francisco?sort_by=date_desc\n",
      "https://www.yelp.com/biz/ritual-coffee-roasters-san-francisco?sort_by=date_desc\n",
      "https://www.yelp.com/biz/ballast-coffee-san-francisco?sort_by=date_desc\n",
      "https://www.yelp.com/biz/blue-bottle-coffee-san-francisco-21?sort_by=date_desc\n",
      "https://www.yelp.com/biz/b-patisserie-san-francisco-2?sort_by=date_desc\n",
      "https://www.yelp.com/biz/upfordayz-coffee-san-francisco?sort_by=date_desc\n",
      "https://www.yelp.com/biz/pinhole-coffee-san-francisco-3?sort_by=date_desc\n",
      "https://www.yelp.com/biz/stanza-coffee-bar-san-francisco-2?sort_by=date_desc\n"
     ]
    }
   ],
   "source": [
    "df = data_extraction(get_soup(url))"
   ]
  },
  {
   "cell_type": "code",
   "execution_count": 83,
   "metadata": {},
   "outputs": [],
   "source": [
    "url1 = 'https://www.yelp.com/search?find_desc=Coffee%20%26%20Tea&find_loc=San%20Francisco%2C%20CA&ns=1&sortby=recommended&start=30'"
   ]
  },
  {
   "cell_type": "code",
   "execution_count": 84,
   "metadata": {},
   "outputs": [
    {
     "name": "stdout",
     "output_type": "stream",
     "text": [
      "https://www.yelp.com/biz/jane-on-fillmore-san-francisco-2?sort_by=date_desc\n",
      "https://www.yelp.com/biz/ritual-coffee-roasters-san-francisco-6?sort_by=date_desc\n",
      "https://www.yelp.com/biz/blue-danube-coffee-house-san-francisco?sort_by=date_desc\n",
      "https://www.yelp.com/biz/castro-coffee-company-san-francisco-2?sort_by=date_desc\n",
      "https://www.yelp.com/biz/yakiniq-cafe-san-francisco-4?sort_by=date_desc\n",
      "https://www.yelp.com/biz/blue-bottle-coffee-san-francisco-8?sort_by=date_desc\n",
      "https://www.yelp.com/biz/equator-coffees-san-francisco-2?sort_by=date_desc\n",
      "https://www.yelp.com/biz/matching-half-cafe-san-francisco-4?sort_by=date_desc\n",
      "https://www.yelp.com/biz/urban-ritual-san-francisco-3?sort_by=date_desc\n",
      "https://www.yelp.com/biz/sightglass-coffee-san-francisco-3?sort_by=date_desc\n",
      "https://www.yelp.com/biz/philz-coffee-san-francisco-6?sort_by=date_desc\n",
      "https://www.yelp.com/biz/hollow-san-francisco?sort_by=date_desc\n",
      "https://www.yelp.com/biz/mauerpark-san-francisco?sort_by=date_desc\n",
      "https://www.yelp.com/biz/folklores-coffee-traders-san-francisco?sort_by=date_desc\n",
      "https://www.yelp.com/biz/verve-coffee-roasters-san-francisco?sort_by=date_desc\n",
      "https://www.yelp.com/biz/black-sugar-san-francisco?sort_by=date_desc\n",
      "https://www.yelp.com/biz/equator-coffees-and-teas-san-francisco-13?sort_by=date_desc\n",
      "https://www.yelp.com/biz/saint-frank-coffee-san-francisco-4?sort_by=date_desc\n",
      "https://www.yelp.com/biz/thorough-bread-and-pastry-san-francisco?sort_by=date_desc\n",
      "https://www.yelp.com/biz/blue-bottle-coffee-san-francisco-14?sort_by=date_desc\n",
      "https://www.yelp.com/biz/contraband-coffee-bar-san-francisco?sort_by=date_desc\n",
      "https://www.yelp.com/biz/iron-horse-coffee-san-francisco-2?sort_by=date_desc\n",
      "https://www.yelp.com/biz/crown-and-crumpet-tea-stop-cafe-san-francisco?sort_by=date_desc\n",
      "https://www.yelp.com/biz/sextant-coffee-roasters-san-francisco?sort_by=date_desc\n",
      "https://www.yelp.com/biz/chestnut-street-coffee-roastery-san-francisco?sort_by=date_desc\n",
      "https://www.yelp.com/biz/little-sweet-san-francisco-11?sort_by=date_desc\n",
      "https://www.yelp.com/biz/back-room-san-francisco?sort_by=date_desc\n",
      "https://www.yelp.com/biz/u-dessert-story-san-francisco-5?sort_by=date_desc\n",
      "https://www.yelp.com/biz/saltroot-caf%C3%A9-san-francisco-4?sort_by=date_desc\n",
      "https://www.yelp.com/biz/henrys-house-of-coffee-san-francisco?sort_by=date_desc\n"
     ]
    }
   ],
   "source": [
    "df1 = data_extraction(get_soup(url1))"
   ]
  },
  {
   "cell_type": "code",
   "execution_count": 87,
   "metadata": {},
   "outputs": [],
   "source": [
    "url2 = 'https://www.yelp.com/search?find_desc=Coffee%20%26%20Tea&find_loc=San%20Francisco%2C%20CA&ns=1&sortby=recommended&start=60'"
   ]
  },
  {
   "cell_type": "code",
   "execution_count": 88,
   "metadata": {},
   "outputs": [
    {
     "name": "stdout",
     "output_type": "stream",
     "text": [
      "https://www.yelp.com/biz/andytown-coffee-roasters-san-francisco-2?sort_by=date_desc\n",
      "https://www.yelp.com/biz/beanery-san-francisco?sort_by=date_desc\n",
      "https://www.yelp.com/biz/farleys-san-francisco?sort_by=date_desc\n",
      "https://www.yelp.com/biz/stanza-coffee-san-francisco?sort_by=date_desc\n",
      "https://www.yelp.com/biz/cafe-josephine-san-francisco-2?sort_by=date_desc\n",
      "https://www.yelp.com/biz/philz-coffee-san-francisco-35?sort_by=date_desc\n",
      "https://www.yelp.com/biz/philz-coffee-san-francisco-16?sort_by=date_desc\n",
      "https://www.yelp.com/biz/cafe-st-jorge-san-francisco?sort_by=date_desc\n",
      "https://www.yelp.com/biz/blue-bottle-coffee-san-francisco-24?sort_by=date_desc\n",
      "https://www.yelp.com/biz/craftsman-and-wolves-san-francisco?sort_by=date_desc\n",
      "https://www.yelp.com/biz/beanstalk-cafe-san-francisco-2?sort_by=date_desc\n",
      "https://www.yelp.com/biz/samovar-tea-yerba-buena-gardens-san-francisco?sort_by=date_desc\n",
      "https://www.yelp.com/biz/jane-the-bakery-san-francisco?sort_by=date_desc\n",
      "https://www.yelp.com/biz/chalos-san-francisco?sort_by=date_desc\n",
      "https://www.yelp.com/biz/cafe-murano-san-francisco?sort_by=date_desc\n",
      "https://www.yelp.com/biz/beloved-cafe-san-francisco?sort_by=date_desc\n",
      "https://www.yelp.com/biz/tierra-mia-coffee-san-francisco?sort_by=date_desc\n",
      "https://www.yelp.com/biz/dynamo-donut-and-coffee-san-francisco-4?sort_by=date_desc\n",
      "https://www.yelp.com/biz/the-revolution-cafe-san-francisco?sort_by=date_desc\n",
      "https://www.yelp.com/biz/klatch-coffee-san-francisco-3?sort_by=date_desc\n",
      "https://www.yelp.com/biz/vive-la-tarte-san-francisco?sort_by=date_desc\n",
      "https://www.yelp.com/biz/central-coffee-tea-and-spice-san-francisco?sort_by=date_desc\n",
      "https://www.yelp.com/biz/stonemill-matcha-san-francisco?sort_by=date_desc\n",
      "https://www.yelp.com/biz/bluestone-lane-san-francisco-2?sort_by=date_desc\n",
      "https://www.yelp.com/biz/oakside-cafe-san-francisco?sort_by=date_desc\n",
      "https://www.yelp.com/biz/r%C3%A9veille-coffee-co-san-francisco-5?sort_by=date_desc\n",
      "https://www.yelp.com/biz/five-star-truffles-co-san-francisco?sort_by=date_desc\n",
      "https://www.yelp.com/biz/blue-bottle-coffee-san-francisco-19?sort_by=date_desc\n",
      "https://www.yelp.com/biz/philz-coffee-golden-gate-san-francisco?sort_by=date_desc\n",
      "https://www.yelp.com/biz/central-haight-cafe-san-francisco?sort_by=date_desc\n"
     ]
    }
   ],
   "source": [
    "df2 = data_extraction(get_soup(url2))"
   ]
  },
  {
   "cell_type": "code",
   "execution_count": 89,
   "metadata": {},
   "outputs": [],
   "source": [
    "url3 = 'https://www.yelp.com/search?find_desc=Coffee%20%26%20Tea&find_loc=San%20Francisco%2C%20CA&ns=1&sortby=recommended&start=90'"
   ]
  },
  {
   "cell_type": "code",
   "execution_count": 90,
   "metadata": {},
   "outputs": [
    {
     "name": "stdout",
     "output_type": "stream",
     "text": [
      "https://www.yelp.com/biz/le-cafe-du-soleil-san-francisco-3?sort_by=date_desc\n",
      "https://www.yelp.com/biz/ritual-coffee-roasters-san-francisco-7?sort_by=date_desc\n",
      "https://www.yelp.com/biz/spro-coffee-lab-san-francisco-6?sort_by=date_desc\n",
      "https://www.yelp.com/biz/coffee-mission-san-francisco?sort_by=date_desc\n",
      "https://www.yelp.com/biz/la-promenade-caf%C3%A9-san-francisco-2?sort_by=date_desc\n",
      "https://www.yelp.com/biz/bean-bag-cafe-san-francisco?sort_by=date_desc\n",
      "https://www.yelp.com/biz/philz-coffee-san-francisco?sort_by=date_desc\n",
      "https://www.yelp.com/biz/pentacle-coffee-san-francisco-2?sort_by=date_desc\n",
      "https://www.yelp.com/biz/the-richfield-san-francisco?sort_by=date_desc\n",
      "https://www.yelp.com/biz/tan-tan-coffee-shop-san-francisco?sort_by=date_desc\n",
      "https://www.yelp.com/biz/as-quoted-san-francisco?sort_by=date_desc\n",
      "https://www.yelp.com/biz/cafe-la-flore-irving-san-francisco?sort_by=date_desc\n",
      "https://www.yelp.com/biz/paramo-coffee-company-san-francisco-2?sort_by=date_desc\n",
      "https://www.yelp.com/biz/cafe-international-san-francisco?sort_by=date_desc\n",
      "https://www.yelp.com/biz/the-coffee-movement-san-francisco?sort_by=date_desc\n",
      "https://www.yelp.com/biz/chai-bar-by-david-rio-san-francisco-4?sort_by=date_desc\n",
      "https://www.yelp.com/biz/red-door-coffee-san-francisco-3?sort_by=date_desc\n",
      "https://www.yelp.com/biz/blue-bottle-coffee-san-francisco-12?sort_by=date_desc\n",
      "https://www.yelp.com/biz/cantata-coffee-company-san-francisco?sort_by=date_desc\n",
      "https://www.yelp.com/biz/equator-coffees-and-teas-mill-valley-6?sort_by=date_desc\n",
      "https://www.yelp.com/biz/spin-city-coffee-san-francisco-2?sort_by=date_desc\n",
      "https://www.yelp.com/biz/martha-and-brothers-coffee-san-francisco-4?sort_by=date_desc\n",
      "https://www.yelp.com/biz/philz-coffee-san-francisco-26?sort_by=date_desc\n",
      "https://www.yelp.com/biz/la-boulangerie-de-san-francisco-cole-san-francisco?sort_by=date_desc\n",
      "https://www.yelp.com/biz/tartine-bakery-and-cafe-san-francisco?sort_by=date_desc\n",
      "https://www.yelp.com/biz/joys-place-san-francisco?sort_by=date_desc\n",
      "https://www.yelp.com/biz/jane-on-larkin-san-francisco-2?sort_by=date_desc\n",
      "https://www.yelp.com/biz/mazarine-coffee-san-francisco-2?sort_by=date_desc\n",
      "https://www.yelp.com/biz/martha-and-brothers-coffee-san-francisco-10?sort_by=date_desc\n",
      "https://www.yelp.com/biz/fox-and-lion-bread-san-francisco?sort_by=date_desc\n"
     ]
    }
   ],
   "source": [
    "df3 = data_extraction(get_soup(url3))"
   ]
  },
  {
   "cell_type": "code",
   "execution_count": 91,
   "metadata": {},
   "outputs": [],
   "source": [
    "url4 = 'https://www.yelp.com/search?find_desc=Coffee%20%26%20Tea&find_loc=San%20Francisco%2C%20CA&ns=1&sortby=recommended&start=120'"
   ]
  },
  {
   "cell_type": "code",
   "execution_count": 92,
   "metadata": {},
   "outputs": [
    {
     "name": "stdout",
     "output_type": "stream",
     "text": [
      "https://www.yelp.com/biz/fayes-coffee-san-francisco?sort_by=date_desc\n",
      "https://www.yelp.com/biz/equator-coffees-and-teas-san-francisco-11?sort_by=date_desc\n",
      "https://www.yelp.com/biz/java-beach-cafe-san-francisco?sort_by=date_desc\n",
      "https://www.yelp.com/biz/sightglass-coffee-san-francisco-5?sort_by=date_desc\n",
      "https://www.yelp.com/biz/coffee-cultures-san-francisco-3?sort_by=date_desc\n",
      "https://www.yelp.com/biz/piccolo-petes-cafe-san-francisco?sort_by=date_desc\n",
      "https://www.yelp.com/biz/blue-bottle-coffee-san-francisco-10?sort_by=date_desc\n",
      "https://www.yelp.com/biz/le-marais-bakery-san-francisco-6?sort_by=date_desc\n",
      "https://www.yelp.com/biz/song-tea-and-ceramics-san-francisco-2?sort_by=date_desc\n",
      "https://www.yelp.com/biz/matcha-caf%C3%A9-maiko-san-francisco-3?sort_by=date_desc\n",
      "https://www.yelp.com/biz/higher-grounds-coffee-house-san-francisco?sort_by=date_desc\n",
      "https://www.yelp.com/biz/cafe-lambretta-san-francisco-3?sort_by=date_desc\n",
      "https://www.yelp.com/biz/antigua-coffee-shop-san-francisco?sort_by=date_desc\n",
      "https://www.yelp.com/biz/mannys-san-francisco?sort_by=date_desc\n",
      "https://www.yelp.com/biz/philz-coffee-san-francisco-15?sort_by=date_desc\n",
      "https://www.yelp.com/biz/ilanas-coffee-san-francisco?sort_by=date_desc\n",
      "https://www.yelp.com/biz/samovar-tea-mission-san-francisco?sort_by=date_desc\n",
      "https://www.yelp.com/biz/ritual-coffee-roasters-san-francisco-3?sort_by=date_desc\n",
      "https://www.yelp.com/biz/philz-coffee-san-francisco-25?sort_by=date_desc\n",
      "https://www.yelp.com/biz/nook-san-francisco?sort_by=date_desc\n",
      "https://www.yelp.com/biz/alamo-square-cafe-san-francisco?sort_by=date_desc\n",
      "https://www.yelp.com/biz/morning-due-cafe-san-francisco?sort_by=date_desc\n",
      "https://www.yelp.com/biz/trouble-coffee-company-san-francisco?sort_by=date_desc\n",
      "https://www.yelp.com/biz/boba-guys-san-francisco-17?sort_by=date_desc\n",
      "https://www.yelp.com/biz/little-sweet-san-francisco-12?sort_by=date_desc\n",
      "https://www.yelp.com/biz/vive-la-tarte-san-francisco-5?sort_by=date_desc\n",
      "https://www.yelp.com/biz/breadbelly-san-francisco?sort_by=date_desc\n",
      "https://www.yelp.com/biz/linea-caffe-san-francisco?sort_by=date_desc\n",
      "https://www.yelp.com/biz/the-laundry-cafe-san-francisco-4?sort_by=date_desc\n",
      "https://www.yelp.com/biz/karma-cafe-san-francisco-2?sort_by=date_desc\n"
     ]
    }
   ],
   "source": [
    "df4 = data_extraction(get_soup(url4))"
   ]
  },
  {
   "cell_type": "code",
   "execution_count": 97,
   "metadata": {},
   "outputs": [],
   "source": [
    "url5 = 'https://www.yelp.com/search?find_desc=Coffee%20%26%20Tea&find_loc=San%20Francisco%2C%20CA&ns=1&sortby=recommended&start=150'"
   ]
  },
  {
   "cell_type": "code",
   "execution_count": 98,
   "metadata": {},
   "outputs": [
    {
     "name": "stdout",
     "output_type": "stream",
     "text": [
      "https://www.yelp.com/biz/cafe-enchante-san-francisco?sort_by=date_desc\n",
      "https://www.yelp.com/biz/les-gourmands-bakery-san-francisco?sort_by=date_desc\n",
      "https://www.yelp.com/biz/aroma-tea-shop-san-francisco?sort_by=date_desc\n",
      "https://www.yelp.com/biz/grand-coffee-san-francisco?sort_by=date_desc\n",
      "https://www.yelp.com/biz/boba-guys-san-francisco-7?sort_by=date_desc\n",
      "https://www.yelp.com/biz/earths-coffee-san-francisco?sort_by=date_desc\n",
      "https://www.yelp.com/biz/firehouse-coffee-and-tea-sausalito-3?sort_by=date_desc\n",
      "https://www.yelp.com/biz/boba-guys-san-francisco-6?sort_by=date_desc\n",
      "https://www.yelp.com/biz/bluestone-lane-san-francisco-5?sort_by=date_desc\n",
      "https://www.yelp.com/biz/beanstalk-caf%C3%A9-inner-richmond-san-francisco?sort_by=date_desc\n",
      "https://www.yelp.com/biz/qualitea-san-francisco-2?sort_by=date_desc\n",
      "https://www.yelp.com/biz/contraband-coffee-bar-san-francisco-4?sort_by=date_desc\n",
      "https://www.yelp.com/biz/covo-caf%C3%A9-and-tap-lounge-san-francisco-2?sort_by=date_desc\n",
      "https://www.yelp.com/biz/cinderella-bakery-and-cafe-san-francisco-2?sort_by=date_desc\n",
      "https://www.yelp.com/biz/philz-coffee-san-francisco-3?sort_by=date_desc\n",
      "https://www.yelp.com/biz/socola-chocolatier-and-barista-san-francisco?sort_by=date_desc\n",
      "https://www.yelp.com/biz/kittea-cat-cafe-san-francisco-4?sort_by=date_desc\n",
      "https://www.yelp.com/biz/el-cafe-san-francisco-5?sort_by=date_desc\n",
      "https://www.yelp.com/biz/neighbor-bakehouse-san-francisco?sort_by=date_desc\n",
      "https://www.yelp.com/biz/steap-tea-bar-san-francisco-3?sort_by=date_desc\n",
      "https://www.yelp.com/biz/coffee-to-the-people-san-francisco?sort_by=date_desc\n",
      "https://www.yelp.com/biz/the-art-bistro-san-francisco?sort_by=date_desc\n",
      "https://www.yelp.com/biz/workshop-cafe-fidi-san-francisco-2?sort_by=date_desc\n",
      "https://www.yelp.com/biz/progressive-grounds-san-francisco?sort_by=date_desc\n",
      "https://www.yelp.com/biz/crostini-and-java-san-francisco?sort_by=date_desc\n",
      "https://www.yelp.com/biz/royal-ground-coffee-san-francisco-7?sort_by=date_desc\n",
      "https://www.yelp.com/biz/japonica-san-francisco?sort_by=date_desc\n",
      "https://www.yelp.com/biz/breakfast-little-san-francisco-2?sort_by=date_desc\n",
      "https://www.yelp.com/biz/howard-street-coffee-roastery-san-francisco?sort_by=date_desc\n",
      "https://www.yelp.com/biz/red-door-coffee-san-francisco?sort_by=date_desc\n"
     ]
    }
   ],
   "source": [
    "df5 = data_extraction(get_soup(url5))"
   ]
  },
  {
   "cell_type": "code",
   "execution_count": 104,
   "metadata": {},
   "outputs": [],
   "source": [
    "df = pd.concat([df, df1, df2, df3, df4, df5], ignore_index=True)"
   ]
  },
  {
   "cell_type": "code",
   "execution_count": 105,
   "metadata": {},
   "outputs": [],
   "source": [
    "#df.to_csv('Reviews/reviews_rating_date.csv', index=False)"
   ]
  }
 ],
 "metadata": {
  "kernelspec": {
   "display_name": "Python 3",
   "language": "python",
   "name": "python3"
  },
  "language_info": {
   "codemirror_mode": {
    "name": "ipython",
    "version": 3
   },
   "file_extension": ".py",
   "mimetype": "text/x-python",
   "name": "python",
   "nbconvert_exporter": "python",
   "pygments_lexer": "ipython3",
   "version": "3.7.1"
  }
 },
 "nbformat": 4,
 "nbformat_minor": 2
}

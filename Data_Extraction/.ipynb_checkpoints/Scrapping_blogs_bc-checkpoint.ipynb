{
 "cells": [
  {
   "cell_type": "code",
   "execution_count": 1,
   "metadata": {},
   "outputs": [],
   "source": [
    "from collections import namedtuple\n",
    "import bs4 as BeautifulSoup\n",
    "import pandas as pd\n",
    "import urllib.request"
   ]
  },
  {
   "cell_type": "code",
   "execution_count": 2,
   "metadata": {},
   "outputs": [],
   "source": [
    "url = 'https://www.theinfatuation.com/san-francisco/guides/the-best-sf-coffee-shops-for-getting-work-done'"
   ]
  },
  {
   "cell_type": "code",
   "execution_count": 3,
   "metadata": {},
   "outputs": [],
   "source": [
    "def get_soup(url):\n",
    "    data = urllib.request.urlopen(url)\n",
    "    read_data = data.read() \n",
    "    soup = BeautifulSoup.BeautifulSoup(read_data,'html.parser')\n",
    "    return soup"
   ]
  },
  {
   "cell_type": "code",
   "execution_count": 4,
   "metadata": {},
   "outputs": [],
   "source": [
    "soup = get_soup(url)"
   ]
  },
  {
   "cell_type": "code",
   "execution_count": 5,
   "metadata": {},
   "outputs": [],
   "source": [
    "names = soup.select('div.spot-block__title-copy h3')"
   ]
  },
  {
   "cell_type": "code",
   "execution_count": 6,
   "metadata": {},
   "outputs": [],
   "source": [
    "l = [name.text for name in names]\n",
    "names_l = list(filter(lambda x: x[0]!='\\n', l))"
   ]
  },
  {
   "cell_type": "code",
   "execution_count": 7,
   "metadata": {},
   "outputs": [],
   "source": [
    "wifi = soup.select('div.spot-block__description-section strong')"
   ]
  },
  {
   "cell_type": "code",
   "execution_count": 8,
   "metadata": {},
   "outputs": [],
   "source": [
    "wifi_l = [wf.text[6:] for wf in wifi]"
   ]
  },
  {
   "cell_type": "code",
   "execution_count": 9,
   "metadata": {},
   "outputs": [],
   "source": [
    "reviews = soup.select('div.spot-block__description-section p')"
   ]
  },
  {
   "cell_type": "code",
   "execution_count": 10,
   "metadata": {},
   "outputs": [],
   "source": [
    "r = [review.text for review in reviews]"
   ]
  },
  {
   "cell_type": "code",
   "execution_count": 11,
   "metadata": {},
   "outputs": [],
   "source": [
    "review_l = [rev for rev in r if not rev.startswith('Wifi')]"
   ]
  },
  {
   "cell_type": "code",
   "execution_count": 12,
   "metadata": {},
   "outputs": [],
   "source": [
    "df = pd.DataFrame({'Names': names_l,\n",
    "             'Wifi': wifi_l,\n",
    "             'Review': review_l,\n",
    "             'Blog': 'B'})"
   ]
  },
  {
   "cell_type": "code",
   "execution_count": 13,
   "metadata": {},
   "outputs": [
    {
     "data": {
      "text/html": [
       "<div>\n",
       "<style scoped>\n",
       "    .dataframe tbody tr th:only-of-type {\n",
       "        vertical-align: middle;\n",
       "    }\n",
       "\n",
       "    .dataframe tbody tr th {\n",
       "        vertical-align: top;\n",
       "    }\n",
       "\n",
       "    .dataframe thead th {\n",
       "        text-align: right;\n",
       "    }\n",
       "</style>\n",
       "<table border=\"1\" class=\"dataframe\">\n",
       "  <thead>\n",
       "    <tr style=\"text-align: right;\">\n",
       "      <th></th>\n",
       "      <th>Names</th>\n",
       "      <th>Wifi</th>\n",
       "      <th>Review</th>\n",
       "      <th>Blog</th>\n",
       "    </tr>\n",
       "  </thead>\n",
       "  <tbody>\n",
       "    <tr>\n",
       "      <th>0</th>\n",
       "      <td>Beacon Coffee &amp; Pantry</td>\n",
       "      <td>Yes</td>\n",
       "      <td>If you live in North Beach, Beacon is your bes...</td>\n",
       "      <td>B</td>\n",
       "    </tr>\n",
       "    <tr>\n",
       "      <th>1</th>\n",
       "      <td>Contraband Coffeebar</td>\n",
       "      <td>Yes</td>\n",
       "      <td>The baristas at Contraband take their coffee s...</td>\n",
       "      <td>B</td>\n",
       "    </tr>\n",
       "    <tr>\n",
       "      <th>2</th>\n",
       "      <td>The Station SF</td>\n",
       "      <td>Yes</td>\n",
       "      <td>An almost perfect FiDi coffee shop for getting...</td>\n",
       "      <td>B</td>\n",
       "    </tr>\n",
       "    <tr>\n",
       "      <th>3</th>\n",
       "      <td>Mazarine Coffee</td>\n",
       "      <td>No</td>\n",
       "      <td>There’s no shame in loving a beautiful avocado...</td>\n",
       "      <td>B</td>\n",
       "    </tr>\n",
       "    <tr>\n",
       "      <th>4</th>\n",
       "      <td>Verve Coffee Roasters</td>\n",
       "      <td>Yes</td>\n",
       "      <td>Verve has almost everything you need for a ful...</td>\n",
       "      <td>B</td>\n",
       "    </tr>\n",
       "    <tr>\n",
       "      <th>5</th>\n",
       "      <td>Ritual Coffee Roasters</td>\n",
       "      <td>No</td>\n",
       "      <td>For the purists out there, this is a coffee sh...</td>\n",
       "      <td>B</td>\n",
       "    </tr>\n",
       "    <tr>\n",
       "      <th>6</th>\n",
       "      <td>Philz Coffee</td>\n",
       "      <td>Yes</td>\n",
       "      <td>Philz is now a VC-backed operation, and we wou...</td>\n",
       "      <td>B</td>\n",
       "    </tr>\n",
       "    <tr>\n",
       "      <th>7</th>\n",
       "      <td>Mercury Cafe</td>\n",
       "      <td>Yes</td>\n",
       "      <td>Mercury Cafe is bright, airy, and unpretentiou...</td>\n",
       "      <td>B</td>\n",
       "    </tr>\n",
       "    <tr>\n",
       "      <th>8</th>\n",
       "      <td>Jane on Fillmore</td>\n",
       "      <td>Yes</td>\n",
       "      <td>With its retro tabletops and killer music sele...</td>\n",
       "      <td>B</td>\n",
       "    </tr>\n",
       "    <tr>\n",
       "      <th>9</th>\n",
       "      <td>Saint Frank</td>\n",
       "      <td>Yes</td>\n",
       "      <td>Clean and modern, this well-designed Russian H...</td>\n",
       "      <td>B</td>\n",
       "    </tr>\n",
       "    <tr>\n",
       "      <th>10</th>\n",
       "      <td>Nook</td>\n",
       "      <td>Yes</td>\n",
       "      <td>Nook is on the smaller side – if you’re travel...</td>\n",
       "      <td>B</td>\n",
       "    </tr>\n",
       "    <tr>\n",
       "      <th>11</th>\n",
       "      <td>Réveille Coffee Co.</td>\n",
       "      <td>Yes</td>\n",
       "      <td>This North Beach spot is a good place to hang ...</td>\n",
       "      <td>B</td>\n",
       "    </tr>\n",
       "    <tr>\n",
       "      <th>12</th>\n",
       "      <td>Duboce Park Cafe</td>\n",
       "      <td>Yes</td>\n",
       "      <td>As if you really needed another reason to visi...</td>\n",
       "      <td>B</td>\n",
       "    </tr>\n",
       "    <tr>\n",
       "      <th>13</th>\n",
       "      <td>Atlas Cafe</td>\n",
       "      <td>Yes</td>\n",
       "      <td>Nothing fancy, but a decent place to read, wri...</td>\n",
       "      <td>B</td>\n",
       "    </tr>\n",
       "    <tr>\n",
       "      <th>14</th>\n",
       "      <td>The Grove</td>\n",
       "      <td>No</td>\n",
       "      <td>The Grove Hayes is more cafeteria than coffee ...</td>\n",
       "      <td>B</td>\n",
       "    </tr>\n",
       "  </tbody>\n",
       "</table>\n",
       "</div>"
      ],
      "text/plain": [
       "                     Names Wifi  \\\n",
       "0   Beacon Coffee & Pantry  Yes   \n",
       "1     Contraband Coffeebar  Yes   \n",
       "2           The Station SF  Yes   \n",
       "3          Mazarine Coffee   No   \n",
       "4    Verve Coffee Roasters  Yes   \n",
       "5   Ritual Coffee Roasters   No   \n",
       "6             Philz Coffee  Yes   \n",
       "7             Mercury Cafe  Yes   \n",
       "8         Jane on Fillmore  Yes   \n",
       "9              Saint Frank  Yes   \n",
       "10                    Nook  Yes   \n",
       "11     Réveille Coffee Co.  Yes   \n",
       "12        Duboce Park Cafe  Yes   \n",
       "13              Atlas Cafe  Yes   \n",
       "14               The Grove   No   \n",
       "\n",
       "                                               Review Blog  \n",
       "0   If you live in North Beach, Beacon is your bes...    B  \n",
       "1   The baristas at Contraband take their coffee s...    B  \n",
       "2   An almost perfect FiDi coffee shop for getting...    B  \n",
       "3   There’s no shame in loving a beautiful avocado...    B  \n",
       "4   Verve has almost everything you need for a ful...    B  \n",
       "5   For the purists out there, this is a coffee sh...    B  \n",
       "6   Philz is now a VC-backed operation, and we wou...    B  \n",
       "7   Mercury Cafe is bright, airy, and unpretentiou...    B  \n",
       "8   With its retro tabletops and killer music sele...    B  \n",
       "9   Clean and modern, this well-designed Russian H...    B  \n",
       "10  Nook is on the smaller side – if you’re travel...    B  \n",
       "11  This North Beach spot is a good place to hang ...    B  \n",
       "12  As if you really needed another reason to visi...    B  \n",
       "13  Nothing fancy, but a decent place to read, wri...    B  \n",
       "14  The Grove Hayes is more cafeteria than coffee ...    B  "
      ]
     },
     "execution_count": 13,
     "metadata": {},
     "output_type": "execute_result"
    }
   ],
   "source": [
    "df"
   ]
  },
  {
   "cell_type": "code",
   "execution_count": 14,
   "metadata": {},
   "outputs": [],
   "source": [
    "url1 = 'https://www.venuereport.com/roundups/17-of-san-franciscos-most-unique-coffee-shops/entry/1/'"
   ]
  },
  {
   "cell_type": "code",
   "execution_count": 15,
   "metadata": {},
   "outputs": [],
   "source": [
    "soup = get_soup(url1)"
   ]
  },
  {
   "cell_type": "code",
   "execution_count": 16,
   "metadata": {},
   "outputs": [],
   "source": [
    "s = soup.select('div.reporter_roundup_content a')\n",
    "names_l = [name.get_text() for name in s]"
   ]
  },
  {
   "cell_type": "code",
   "execution_count": 17,
   "metadata": {},
   "outputs": [],
   "source": [
    "s1 = soup.select('div.reporter_roundup_content')\n",
    "reviews = [s.text.strip('\\n ') for s in s1]"
   ]
  },
  {
   "cell_type": "code",
   "execution_count": 18,
   "metadata": {},
   "outputs": [],
   "source": [
    "import re\n",
    "\n",
    "review_l = [re.sub(\"\\xa0\",\" \", review) for review in reviews]"
   ]
  },
  {
   "cell_type": "code",
   "execution_count": 19,
   "metadata": {},
   "outputs": [],
   "source": [
    "df1 = pd.DataFrame({'Names': names_l,\n",
    "                    'Review': review_l,\n",
    "                    'Blog': 'C'})"
   ]
  },
  {
   "cell_type": "code",
   "execution_count": 20,
   "metadata": {},
   "outputs": [
    {
     "data": {
      "text/html": [
       "<div>\n",
       "<style scoped>\n",
       "    .dataframe tbody tr th:only-of-type {\n",
       "        vertical-align: middle;\n",
       "    }\n",
       "\n",
       "    .dataframe tbody tr th {\n",
       "        vertical-align: top;\n",
       "    }\n",
       "\n",
       "    .dataframe thead th {\n",
       "        text-align: right;\n",
       "    }\n",
       "</style>\n",
       "<table border=\"1\" class=\"dataframe\">\n",
       "  <thead>\n",
       "    <tr style=\"text-align: right;\">\n",
       "      <th></th>\n",
       "      <th>Names</th>\n",
       "      <th>Review</th>\n",
       "      <th>Blog</th>\n",
       "    </tr>\n",
       "  </thead>\n",
       "  <tbody>\n",
       "    <tr>\n",
       "      <th>0</th>\n",
       "      <td>The Interval at Long Now</td>\n",
       "      <td>The only serious cocktail bar on this list, Th...</td>\n",
       "      <td>C</td>\n",
       "    </tr>\n",
       "    <tr>\n",
       "      <th>1</th>\n",
       "      <td>20th Century Cafe</td>\n",
       "      <td>“Deliciously glamorous,” 20th Century Cafe was...</td>\n",
       "      <td>C</td>\n",
       "    </tr>\n",
       "    <tr>\n",
       "      <th>2</th>\n",
       "      <td>Sightglass Coffee</td>\n",
       "      <td>Kicking off this list is none other than Sight...</td>\n",
       "      <td>C</td>\n",
       "    </tr>\n",
       "    <tr>\n",
       "      <th>3</th>\n",
       "      <td>Verve</td>\n",
       "      <td>Verve isn’t simply a coffee house it’s an insp...</td>\n",
       "      <td>C</td>\n",
       "    </tr>\n",
       "    <tr>\n",
       "      <th>4</th>\n",
       "      <td>The Mill SF</td>\n",
       "      <td>At The Mill SF, they “baked some bread and mil...</td>\n",
       "      <td>C</td>\n",
       "    </tr>\n",
       "    <tr>\n",
       "      <th>5</th>\n",
       "      <td>Cafe Réveille</td>\n",
       "      <td>Cafe Réveille is a study in serious coffee pai...</td>\n",
       "      <td>C</td>\n",
       "    </tr>\n",
       "    <tr>\n",
       "      <th>6</th>\n",
       "      <td>Trouble Coffee</td>\n",
       "      <td>With an ethos of truth and trouble, Trouble Co...</td>\n",
       "      <td>C</td>\n",
       "    </tr>\n",
       "    <tr>\n",
       "      <th>7</th>\n",
       "      <td>Blue Bottle Coffee</td>\n",
       "      <td>In the midst of Giants Stadium, the Bay Bridge...</td>\n",
       "      <td>C</td>\n",
       "    </tr>\n",
       "    <tr>\n",
       "      <th>8</th>\n",
       "      <td>Four Barrel Coffee</td>\n",
       "      <td>Four Barrel Coffee is an independent, locally ...</td>\n",
       "      <td>C</td>\n",
       "    </tr>\n",
       "    <tr>\n",
       "      <th>9</th>\n",
       "      <td>Mission Heirloom</td>\n",
       "      <td>While it is not technically in SF (but well wo...</td>\n",
       "      <td>C</td>\n",
       "    </tr>\n",
       "    <tr>\n",
       "      <th>10</th>\n",
       "      <td>Paramo Coffee</td>\n",
       "      <td>With a variety of rave reviews and \"Top Coffee...</td>\n",
       "      <td>C</td>\n",
       "    </tr>\n",
       "    <tr>\n",
       "      <th>11</th>\n",
       "      <td>Le Marais Bakery</td>\n",
       "      <td>What would this list be without the most perfe...</td>\n",
       "      <td>C</td>\n",
       "    </tr>\n",
       "    <tr>\n",
       "      <th>12</th>\n",
       "      <td>Hollow</td>\n",
       "      <td>The epitome of a word-of-mouth local hotspot, ...</td>\n",
       "      <td>C</td>\n",
       "    </tr>\n",
       "    <tr>\n",
       "      <th>13</th>\n",
       "      <td>Saint Frank</td>\n",
       "      <td>Named for the city of San Francisco or “more s...</td>\n",
       "      <td>C</td>\n",
       "    </tr>\n",
       "    <tr>\n",
       "      <th>14</th>\n",
       "      <td>Red Door Coffee</td>\n",
       "      <td>The self-proclaimed “dopest coffee shop in SOM...</td>\n",
       "      <td>C</td>\n",
       "    </tr>\n",
       "    <tr>\n",
       "      <th>15</th>\n",
       "      <td>Ritual Coffee Roasters</td>\n",
       "      <td>When speaking about San Francisco coffee, Ritu...</td>\n",
       "      <td>C</td>\n",
       "    </tr>\n",
       "    <tr>\n",
       "      <th>16</th>\n",
       "      <td>Mazarine Coffee</td>\n",
       "      <td>Inspired by the story of the Bibliothèque Maza...</td>\n",
       "      <td>C</td>\n",
       "    </tr>\n",
       "  </tbody>\n",
       "</table>\n",
       "</div>"
      ],
      "text/plain": [
       "                       Names  \\\n",
       "0   The Interval at Long Now   \n",
       "1          20th Century Cafe   \n",
       "2          Sightglass Coffee   \n",
       "3                      Verve   \n",
       "4                The Mill SF   \n",
       "5              Cafe Réveille   \n",
       "6             Trouble Coffee   \n",
       "7         Blue Bottle Coffee   \n",
       "8         Four Barrel Coffee   \n",
       "9           Mission Heirloom   \n",
       "10             Paramo Coffee   \n",
       "11          Le Marais Bakery   \n",
       "12                    Hollow   \n",
       "13               Saint Frank   \n",
       "14           Red Door Coffee   \n",
       "15    Ritual Coffee Roasters   \n",
       "16           Mazarine Coffee   \n",
       "\n",
       "                                               Review Blog  \n",
       "0   The only serious cocktail bar on this list, Th...    C  \n",
       "1   “Deliciously glamorous,” 20th Century Cafe was...    C  \n",
       "2   Kicking off this list is none other than Sight...    C  \n",
       "3   Verve isn’t simply a coffee house it’s an insp...    C  \n",
       "4   At The Mill SF, they “baked some bread and mil...    C  \n",
       "5   Cafe Réveille is a study in serious coffee pai...    C  \n",
       "6   With an ethos of truth and trouble, Trouble Co...    C  \n",
       "7   In the midst of Giants Stadium, the Bay Bridge...    C  \n",
       "8   Four Barrel Coffee is an independent, locally ...    C  \n",
       "9   While it is not technically in SF (but well wo...    C  \n",
       "10  With a variety of rave reviews and \"Top Coffee...    C  \n",
       "11  What would this list be without the most perfe...    C  \n",
       "12  The epitome of a word-of-mouth local hotspot, ...    C  \n",
       "13  Named for the city of San Francisco or “more s...    C  \n",
       "14  The self-proclaimed “dopest coffee shop in SOM...    C  \n",
       "15  When speaking about San Francisco coffee, Ritu...    C  \n",
       "16  Inspired by the story of the Bibliothèque Maza...    C  "
      ]
     },
     "execution_count": 20,
     "metadata": {},
     "output_type": "execute_result"
    }
   ],
   "source": [
    "df1"
   ]
  },
  {
   "cell_type": "code",
   "execution_count": 21,
   "metadata": {},
   "outputs": [],
   "source": [
    "dataframe = df.append(df1, sort=False)"
   ]
  },
  {
   "cell_type": "code",
   "execution_count": 24,
   "metadata": {},
   "outputs": [],
   "source": [
    "dataframe.to_csv('Reviews/reviews_blogs_bc.csv', index=False)"
   ]
  },
  {
   "cell_type": "code",
   "execution_count": null,
   "metadata": {},
   "outputs": [],
   "source": []
  }
 ],
 "metadata": {
  "kernelspec": {
   "display_name": "Python 3",
   "language": "python",
   "name": "python3"
  },
  "language_info": {
   "codemirror_mode": {
    "name": "ipython",
    "version": 3
   },
   "file_extension": ".py",
   "mimetype": "text/x-python",
   "name": "python",
   "nbconvert_exporter": "python",
   "pygments_lexer": "ipython3",
   "version": "3.7.1"
  }
 },
 "nbformat": 4,
 "nbformat_minor": 2
}

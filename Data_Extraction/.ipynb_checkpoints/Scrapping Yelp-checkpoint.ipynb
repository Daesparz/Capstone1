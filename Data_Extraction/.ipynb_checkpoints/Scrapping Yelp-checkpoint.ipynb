{
 "cells": [
  {
   "cell_type": "code",
   "execution_count": 1,
   "metadata": {},
   "outputs": [],
   "source": [
    "from collections import namedtuple\n",
    "import bs4 as BeautifulSoup\n",
    "import urllib.request"
   ]
  },
  {
   "cell_type": "code",
   "execution_count": 2,
   "metadata": {},
   "outputs": [],
   "source": [
    "url = 'https://www.yelp.com/search?find_desc=best+coffee&find_loc=San+Francisco%2C+CA'"
   ]
  },
  {
   "cell_type": "code",
   "execution_count": 3,
   "metadata": {},
   "outputs": [],
   "source": [
    "data = urllib.request.urlopen(url)\n",
    "read_data = data.read()"
   ]
  },
  {
   "cell_type": "code",
   "execution_count": 4,
   "metadata": {},
   "outputs": [],
   "source": [
    "soup = BeautifulSoup.BeautifulSoup(read_data,'html.parser')"
   ]
  },
  {
   "cell_type": "code",
   "execution_count": 5,
   "metadata": {},
   "outputs": [],
   "source": [
    "import requests\n",
    "name = []\n",
    "items = []\n",
    "a = soup.find_all('a', class_='lemon--a__373c0__IEZFH link__373c0__29943 link-color--blue-dark__373c0__1mhJo link-size--inherit__373c0__2JXk5')   \n",
    "for i in range(0,len(a),2):\n",
    "    name.append(a[i].get('name'))\n",
    "    items.append(a[i].get('href'))\n",
    "    \n",
    "description = []\n",
    "    \n",
    "for item in items:\n",
    "    coffee_link = urllib.request.urlopen('https://www.yelp.com'+item)\n",
    "    deep_soup = BeautifulSoup.BeautifulSoup(coffee_link, 'html.parser')\n",
    "    description.append(\n",
    "        list(map(lambda x: x.text, filter(lambda y: len(y.text) > 0,\n",
    "                deep_soup.select(\"div.review-content p\")))))\n"
   ]
  },
  {
   "cell_type": "code",
   "execution_count": 147,
   "metadata": {},
   "outputs": [],
   "source": [
    "import pandas as pd\n",
    "corpus_df = pd.DataFrame({'Name': name, \n",
    "                          'Description': description})\n",
    "corpus_df = corpus_df[['Name', 'Description']]"
   ]
  },
  {
   "cell_type": "code",
   "execution_count": 152,
   "metadata": {},
   "outputs": [
    {
     "data": {
      "text/plain": [
       "[\"In love with the look and vibes here at Four Barrel. Big bar for you to order when you walk into the shop. There's a smaller station off to the side and closer to the front for what seemed like pour overs. I got an iced latte and it was good, but kind of wish I got a pour over now.You know I had to buy a bag of beans to bring back with me to LA too. If the coffee is good, I always try to grab a bag of beans as a souvenir. They have a pretty good selection of single-origin beans so check it out if you have a setup at home!\",\n",
       " \"AMAZING COFFEE. But so so so freaking busy all the time, and really no way to stay there and enjoy your drink.This place is huge - but it's so crowded that its usually impossible to find a seat. They even don't have wifi as to discourage people who camp out, but all the seats are pretty much always taken.I love coming here for freshly roasted beans, or a nice cup of to go coffee.\",\n",
       " \"Great vibe. We love the decor and the environment created in this warehouse.Coffee was perfect, done with professionalism and in relatively little time.People (staff) was welcoming, and helpful.From a user perspective the left station and the front stations make it a bit confusing if you're a first comer. Maybe a slighter easier way finder strategy would make that easier.\",\n",
       " \"Cool coffee shop located in the mission district.This place offers both outdoor seating and a lot of indoor seating, pretty big cafe shop.The ambience is really hipster and industrial. Staff is okay, some are more cheer-y then the next, but overall ok. Fast service which is convenient.They offer a short menu of espresso drinks, coffee, and a mini pastry bar. I ordered an iced mocha. Really delicious! Not overly sweet and it included yummy chocolate shavings. Prices are ok, you average sf coffee shop prices. My iced mocha was $5.75 for 12oz. I also tried my friend's chocolate donut and it was so yummy. Would reccomend their pastries!!Overall nice coffee shop with good drinks and food!\",\n",
       " \"THE. BEST. MOCHA. ON. EARTH.We were at an event at the High School down the street, the Greek Orthodox church at 245 Valencia, so we decided to walk the couple of blocks to get a mocha. \\xa0She, being conscious, asked for a non-fat mocha. The young barista really took his time to explain their mochas are low on sugar, and the milk come from cows up in Petaluma, and how she would be better off with the fat than with the sugar that inevitably shows up on low-fat drinks. \\xa0He really took the time to explain and so we went for it: two regular mochas.Oh my gosh! \\xa0It was smooth, velvety, and not sweet at all - not bitter either, just well balanced.The decor is typical SF coffee house, with ample seating, the roastery in the back half of the space ensures great coffee aromas in the air. The only small complaint is the one gender neutral bathroom. \\xa0The place is busy, the line gets 4 people deep, I'm a boy and girls notoriously take longer to do their thang. \\xa0Two bathrooms would be better. \\xa0As I said, it is a small thing, and not enough to penalize.Drink the MOCHA!\",\n",
       " \"Nothing special anymore..They don't make their own almond macadamia milk anymore; they almond milk latte are boring. For almost $6, go elsewhere.The guy ringing up orders isn't amazingly friendly. Definitely won't return. Go to Saint Frank.\",\n",
       " 'Was looking for a coffee shop near 16th street mission and came across this place. \\xa0It has a rustic, hipster feel to it which I absolutely love. \\xa0It gets pretty crowded in here so luckily I got a seat when I came in.They have artsy portraits on the wall and fun little hooks in the wall in the shape of animal heads for your bags/coats, etc.I ordered an iced mocha, which was good.Pros:-beautiful coffee shop-good drinks-fantastic background music-lots of compostable items and signs insideCons:-busy, so limited seating',\n",
       " 'This place is HUGE. The entrance is very spacious and has alot of tables for sitting and chilling with a friend. They had a good selection of different kinds of coffees but I got whatever the barista recommended since I am not a coffee connoisseur! I liked it but it was still pricey for the size. It is a good one time experience but probably will not come back again!',\n",
       " \"Four barrel coffee is our go-to in this neighborhood. It has that lovely feel that tells me it is not a chain it's just a down-home coffee bar were you can get great expresso and cappuccino. What more could you ask for in the morning? Well how about friendly people a nice crowd plenty of space to sit down easy hook up to the net and I like it. We've been coming back again and again every morning while we're in the neighborhood. If it was in my home neighborhood I'd be a regular\",\n",
       " 'Good ice latte, perfect for chat. Not a really good place to work, no outlets, no wifi and loud music.',\n",
       " 'Good variety rotation of pour over options. Had Rowanda this morning with a shot on the side.Pour over was great! Smooth and just enough to last an hour \"Buzz\" ..Although still short since I have had Ikon Carl the Fog which is drip and \"Buzz\" was alot longer. This will do until I can get Ikon Coffee more often',\n",
       " \"Great place for a coffee or reading date. There is no WiFi here so don't expect to get any work done that requires the internet unless you plan on using a hot spot...although they probably don't have WiFi because they want to encourage conversation? The location is awesome - not too far away from Bart with plenty of places to sit and enjoy your coffee. They have outdoor and indoor seating. They roast their beans fresh in the back so the air is filled with the aroma of coffee. There is a drip coffee station closer to the entryway for those who just want a simple cup of joe. The baristas there are patient and will gladly explain their beans to you. Overall, love coming here for good coffee and conversations.\",\n",
       " 'Still love this place but no wifi or plugs. Do not come here to work or study. Do come for a coffee date with a friend.',\n",
       " 'Oh man San Francisco has a fierce coffee competition. Trendy coffee shops like Four Barrel Coffee, Blue Bottle, Philz Coffee, Sightglass Coffee, Ritual Coffee Roasters, etc. are all considered a part of the \"Third Wave\" coffee shops (canned coffee like Folgers = first wave & Peet\\'s / Starbucks = second wave). Currently there are two Four Barrel locations in SF and Four Barrel is also in partnership with The Mill (a bakery shop in SF). They offer cupping classes (free - every Saturday & Sunday from 12:30 PM to 1:30 PM), 3-hour espresso + milk preparation classes ($200 per person), and 90-minute better brewing at home classes ($35 per person). I didn\\'t get to try specialty coffees at the \"slow bar\" (pour over style) and I just ordered at the front counter.***Pecan Muffin ($4.50): Cold muffin, but still tasted pretty good (not overly sweet).Latte ($5): It had a pretty balanced steamed milk & espresso ratio. The drink didn\\'t taste too diluted and latte art was nice.***I personally still prefer Philz Coffee because Four Barrel is missing the \"it\" factor, but Four Barrel serves a good cup of coffee.',\n",
       " 'Found FBC from Yelp reviews when I visited San Francisco. Nice coffee and cool design for the space. They serve the coffee in in cups that you will not find anywhere else. It was a bit crowded when I visited so depending on when you go, it may be difficult to find seating, but that means it is popular!',\n",
       " \"On a Saturday afternoon around 2pm, Four Barrel was busy but not overly crowded. There was a short line to order, and our espresso drinks seemed to take a good 5-10 minutes. There wasn't room for 3 to sit inside, but we sat outside on the parklet and could people watch (it was a bit chilly though - probably why it was easier to find seats out there). I also finally got to try a pastry here! * Buckwheat Peach Corn donut - 3.5 starsSurprisingly good blend of flavors, but I prefer a little more moistness in my donuts (I'm always a yeasty-donut kind of gal, vs. cake-y donut).Paired this with an iced coffee - good stuff.\",\n",
       " \"LOVE the coffee here! They also make a mean affogato! It's really fun to watch them actually roast their coffee in the back! I can't wait to come back for one of their cupping classes!\",\n",
       " 'Great coffee, warm space, open, comfortable. The music is pretty much always too loud. \\xa0Like, yell across the short table at your friend too loud. Five stars on days they tone it down. \\xa0Great people watching spot, as well.',\n",
       " 'Pour over coffee was perfectService was very friendly and helpfulExpected the cafe to be crowded, but seating area was fine',\n",
       " 'I support anywhere there serves Song Tea, so Four Barrel has my vote.Great space to work in or hang out at if you can find a table. San Francisco priced and straight forward selection. They sell coffee accessories and do cupping classes there as well.']"
      ]
     },
     "execution_count": 152,
     "metadata": {},
     "output_type": "execute_result"
    }
   ],
   "source": [
    "corpus_df['Description'][1]"
   ]
  },
  {
   "cell_type": "code",
   "execution_count": null,
   "metadata": {},
   "outputs": [],
   "source": []
  }
 ],
 "metadata": {
  "kernelspec": {
   "display_name": "Python 3",
   "language": "python",
   "name": "python3"
  },
  "language_info": {
   "codemirror_mode": {
    "name": "ipython",
    "version": 3
   },
   "file_extension": ".py",
   "mimetype": "text/x-python",
   "name": "python",
   "nbconvert_exporter": "python",
   "pygments_lexer": "ipython3",
   "version": "3.7.1"
  }
 },
 "nbformat": 4,
 "nbformat_minor": 2
}

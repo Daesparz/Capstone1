{
 "cells": [
  {
   "cell_type": "markdown",
   "metadata": {},
   "source": [
    "# Extension of Exploratory Data Analysis\n",
    "\n",
    "In this section, we explore polarity and subjectivity of customer reviews dataset, lenght of reviews and look for patterns to find useful similarities and differences between the reviews to build features vectors in the next Machine Learning sections. Customer reviews will be used to predict the satisfaction and to investigate the causes of those good or bad experiences, defined as categories. We'll be able to split coffee shops in clusters according to how much positive or negative are the mentions that people do in every category. Additionally, the blog reviews are used exclusively to build clusters of coffee shops related to features extracted from the descriptions.\n",
    "\n",
    "## Guideline\n",
    "\n",
    "The main purposes here are the following:\n",
    "### To Resolve the Predictive Score Modeling:\n",
    "- Compare different polarity algorithms to determine which is the most appropiate in this scenario.\n",
    "- Determine if we must calculate polarity scores per review or sentences into the reviews and then take the average or some percentile to estimate the polarity of the review.\n",
    "- Determine if is useful to use more than one polarity algorithm as feature.\n",
    "- Look for more potential language features (as lenght of the message, distribution of the polarity and subjectivity into the review, type of language, slangs, uppercase expressions, etc).\n",
    "\n",
    "\n",
    "### To Resolve topics that people mention in their reviews:\n",
    "- Create dictionary of words per topic.\n",
    "- Use Topic Modeling Hierarchical\n",
    "- Use TF-IDF and select some key-words\n",
    "- Use word embeddings\n",
    "\n",
    "### To Resolve the unsupervised clustering of coffee shops:\n",
    "- Use information from blogs and brief descriptions.\n",
    "- Identify features (as presence or absence of wifi, music, decoration, tables and others)"
   ]
  },
  {
   "cell_type": "markdown",
   "metadata": {},
   "source": [
    "# 1. Features for predictive score modeling"
   ]
  },
  {
   "cell_type": "markdown",
   "metadata": {},
   "source": [
    "## 1.1 Compare different polarity algorithms"
   ]
  },
  {
   "cell_type": "markdown",
   "metadata": {},
   "source": [
    "Importing relevant packages"
   ]
  },
  {
   "cell_type": "code",
   "execution_count": 1,
   "metadata": {},
   "outputs": [],
   "source": [
    "import warnings\n",
    "\n",
    "warnings.filterwarnings(\"ignore\")\n",
    "\n",
    "from scipy import stats\n",
    "import matplotlib.pyplot as plt\n",
    "import seaborn as sns\n",
    "import pandas as pd\n",
    "import numpy as np\n",
    "import datetime\n",
    "import re"
   ]
  },
  {
   "cell_type": "markdown",
   "metadata": {},
   "source": [
    "### a. TextBlob"
   ]
  },
  {
   "cell_type": "markdown",
   "metadata": {},
   "source": [
    "Defining the **sentiment parameters pattern** function using one of the sentiment analyzer provides for *TextBlob*"
   ]
  },
  {
   "cell_type": "code",
   "execution_count": 2,
   "metadata": {},
   "outputs": [],
   "source": [
    "from textblob.sentiments import PatternAnalyzer\n",
    "from textblob import TextBlob\n",
    "\n",
    "def sentiment_parameters_textblob(sentence):\n",
    "    blob = TextBlob(sentence, analyzer=PatternAnalyzer())\n",
    "    return blob.sentiment.polarity, blob.sentiment.subjectivity"
   ]
  },
  {
   "cell_type": "markdown",
   "metadata": {},
   "source": [
    "In this case, we get a **polarity** and a **subjectivity score**."
   ]
  },
  {
   "cell_type": "markdown",
   "metadata": {},
   "source": [
    "### b. nltk Sentiment Intensity Analyzer"
   ]
  },
  {
   "cell_type": "code",
   "execution_count": 3,
   "metadata": {},
   "outputs": [
    {
     "name": "stderr",
     "output_type": "stream",
     "text": [
      "[nltk_data] Downloading package vader_lexicon to\n",
      "[nltk_data]     /Users/daniela/nltk_data...\n",
      "[nltk_data]   Package vader_lexicon is already up-to-date!\n"
     ]
    }
   ],
   "source": [
    "import nltk\n",
    "\n",
    "nltk.download('vader_lexicon')\n",
    "from nltk.sentiment.vader import SentimentIntensityAnalyzer\n",
    "\n",
    "sentiment_nltk = SentimentIntensityAnalyzer()\n",
    "\n",
    "def sentiment_parameters_nltk(sentence):\n",
    "    return sentiment_nltk.polarity_scores(sentence)"
   ]
  },
  {
   "cell_type": "markdown",
   "metadata": {},
   "source": [
    "### c. FLAIR Sentiment Classifier"
   ]
  },
  {
   "cell_type": "code",
   "execution_count": 4,
   "metadata": {},
   "outputs": [
    {
     "name": "stdout",
     "output_type": "stream",
     "text": [
      "2020-06-14 18:05:37,000 loading file /Users/daniela/.flair/models/sentiment-en-mix-distillbert.pt\n"
     ]
    }
   ],
   "source": [
    "import sys\n",
    "#!{sys.executable} -m pip install flair\n",
    "import flair\n",
    "\n",
    "flair_sentiment = flair.models.TextClassifier.load('en-sentiment')\n",
    "\n",
    "def sentiment_parameters_flair(sentence):\n",
    "    s = flair.data.Sentence(sentence)\n",
    "    flair_sentiment.predict(s)\n",
    "    return s.labels"
   ]
  },
  {
   "cell_type": "markdown",
   "metadata": {},
   "source": [
    "### Customer reviews dataset"
   ]
  },
  {
   "cell_type": "code",
   "execution_count": 5,
   "metadata": {},
   "outputs": [],
   "source": [
    "df_reviews = pd.read_csv(\"../Data_Extraction/Reviews/reviews_rating_date.csv\", \\\n",
    "                         usecols=['Coffee', 'Description','Rating', 'date'])"
   ]
  },
  {
   "cell_type": "code",
   "execution_count": 6,
   "metadata": {},
   "outputs": [
    {
     "data": {
      "text/html": [
       "<div>\n",
       "<style scoped>\n",
       "    .dataframe tbody tr th:only-of-type {\n",
       "        vertical-align: middle;\n",
       "    }\n",
       "\n",
       "    .dataframe tbody tr th {\n",
       "        vertical-align: top;\n",
       "    }\n",
       "\n",
       "    .dataframe thead th {\n",
       "        text-align: right;\n",
       "    }\n",
       "</style>\n",
       "<table border=\"1\" class=\"dataframe\">\n",
       "  <thead>\n",
       "    <tr style=\"text-align: right;\">\n",
       "      <th></th>\n",
       "      <th>Coffee</th>\n",
       "      <th>Description</th>\n",
       "      <th>Rating</th>\n",
       "      <th>date</th>\n",
       "    </tr>\n",
       "  </thead>\n",
       "  <tbody>\n",
       "    <tr>\n",
       "      <th>3543</th>\n",
       "      <td>Red Door</td>\n",
       "      <td>Great atmosphere. Awesome coffee. One of my fa...</td>\n",
       "      <td>4.0 star rating</td>\n",
       "      <td>2/26/2018</td>\n",
       "    </tr>\n",
       "    <tr>\n",
       "      <th>3544</th>\n",
       "      <td>Red Door</td>\n",
       "      <td>This place was great- recommended to me by som...</td>\n",
       "      <td>4.0 star rating</td>\n",
       "      <td>2/5/2018</td>\n",
       "    </tr>\n",
       "    <tr>\n",
       "      <th>3545</th>\n",
       "      <td>Red Door</td>\n",
       "      <td>I really like the concept of this place - coff...</td>\n",
       "      <td>3.0 star rating</td>\n",
       "      <td>12/15/2017</td>\n",
       "    </tr>\n",
       "    <tr>\n",
       "      <th>3546</th>\n",
       "      <td>Red Door</td>\n",
       "      <td>I love the artsy vibes in this cafe, because i...</td>\n",
       "      <td>4.0 star rating</td>\n",
       "      <td>10/29/2017</td>\n",
       "    </tr>\n",
       "    <tr>\n",
       "      <th>3547</th>\n",
       "      <td>Red Door</td>\n",
       "      <td>Really nice coffee shop within an art gallery....</td>\n",
       "      <td>5.0 star rating</td>\n",
       "      <td>10/17/2017</td>\n",
       "    </tr>\n",
       "  </tbody>\n",
       "</table>\n",
       "</div>"
      ],
      "text/plain": [
       "        Coffee                                        Description  \\\n",
       "3543  Red Door  Great atmosphere. Awesome coffee. One of my fa...   \n",
       "3544  Red Door  This place was great- recommended to me by som...   \n",
       "3545  Red Door  I really like the concept of this place - coff...   \n",
       "3546  Red Door  I love the artsy vibes in this cafe, because i...   \n",
       "3547  Red Door  Really nice coffee shop within an art gallery....   \n",
       "\n",
       "               Rating        date  \n",
       "3543  4.0 star rating   2/26/2018  \n",
       "3544  4.0 star rating    2/5/2018  \n",
       "3545  3.0 star rating  12/15/2017  \n",
       "3546  4.0 star rating  10/29/2017  \n",
       "3547  5.0 star rating  10/17/2017  "
      ]
     },
     "execution_count": 6,
     "metadata": {},
     "output_type": "execute_result"
    }
   ],
   "source": [
    "df_reviews.tail()"
   ]
  },
  {
   "cell_type": "code",
   "execution_count": 7,
   "metadata": {},
   "outputs": [
    {
     "name": "stdout",
     "output_type": "stream",
     "text": [
      "<class 'pandas.core.frame.DataFrame'>\n",
      "RangeIndex: 3548 entries, 0 to 3547\n",
      "Data columns (total 4 columns):\n",
      "Coffee         3268 non-null object\n",
      "Description    3548 non-null object\n",
      "Rating         3548 non-null object\n",
      "date           3548 non-null object\n",
      "dtypes: object(4)\n",
      "memory usage: 111.0+ KB\n"
     ]
    }
   ],
   "source": [
    "df_reviews.info()"
   ]
  },
  {
   "cell_type": "markdown",
   "metadata": {},
   "source": [
    "### Pre-processing steps"
   ]
  },
  {
   "cell_type": "code",
   "execution_count": 8,
   "metadata": {},
   "outputs": [],
   "source": [
    "df_reviews['scores'] = df_reviews['Rating'].str.split(' star rating').str.get(0).astype(float)"
   ]
  },
  {
   "cell_type": "code",
   "execution_count": 9,
   "metadata": {},
   "outputs": [],
   "source": [
    "df_reviews.drop(columns='Rating', inplace=True)"
   ]
  },
  {
   "cell_type": "code",
   "execution_count": 10,
   "metadata": {},
   "outputs": [],
   "source": [
    "import datetime\n",
    "\n",
    "def validate_date(date_str):\n",
    "    try:\n",
    "        date_updated = datetime.datetime.strptime(date_str.splitlines()[0], \"%m/%d/%Y\")\n",
    "    except:\n",
    "        print(date_str)\n",
    "        raise ValueError(\"Incorrect data format, should be MM-DD-YYYY\")\n",
    "    return date_updated"
   ]
  },
  {
   "cell_type": "code",
   "execution_count": 11,
   "metadata": {},
   "outputs": [],
   "source": [
    "df_reviews['valid_date'] =  df_reviews.date.apply(validate_date)"
   ]
  },
  {
   "cell_type": "code",
   "execution_count": 12,
   "metadata": {},
   "outputs": [],
   "source": [
    "df_reviews.drop(columns='date', inplace=True)"
   ]
  },
  {
   "cell_type": "code",
   "execution_count": 13,
   "metadata": {},
   "outputs": [],
   "source": [
    "df_reviews['polarity_textblob'] = [sentiment_parameters_textblob(r)[0] for r in df_reviews['Description']]"
   ]
  },
  {
   "cell_type": "code",
   "execution_count": 14,
   "metadata": {},
   "outputs": [],
   "source": [
    "df_reviews['subjectivity_textblob'] = [sentiment_parameters_textblob(r)[1] for r in df_reviews['Description']]"
   ]
  },
  {
   "cell_type": "code",
   "execution_count": 20,
   "metadata": {},
   "outputs": [],
   "source": [
    "df_reviews['neg_nltk'] = [sentiment_parameters_nltk(r)['neg'] for r in df_reviews['Description']]"
   ]
  },
  {
   "cell_type": "code",
   "execution_count": 21,
   "metadata": {},
   "outputs": [],
   "source": [
    "df_reviews['neu_nltk'] = [sentiment_parameters_nltk(r)['neu'] for r in df_reviews['Description']]"
   ]
  },
  {
   "cell_type": "code",
   "execution_count": 22,
   "metadata": {},
   "outputs": [],
   "source": [
    "df_reviews['pos_nltk'] = [sentiment_parameters_nltk(r)['pos'] for r in df_reviews['Description']]"
   ]
  },
  {
   "cell_type": "code",
   "execution_count": 23,
   "metadata": {},
   "outputs": [],
   "source": [
    "df_reviews['compound_nltk'] = [sentiment_parameters_nltk(r)['compound'] for r in df_reviews['Description']]"
   ]
  },
  {
   "cell_type": "code",
   "execution_count": 34,
   "metadata": {},
   "outputs": [],
   "source": [
    "df_reviews['value_flair'] = [sentiment_parameters_flair(r)[0].value for r in df_reviews['Description']]"
   ]
  },
  {
   "cell_type": "code",
   "execution_count": null,
   "metadata": {},
   "outputs": [],
   "source": [
    "df_reviews['score_flair'] = [sentiment_parameters_flair(r)[0].score for r in df_reviews['Description']]"
   ]
  },
  {
   "cell_type": "code",
   "execution_count": 17,
   "metadata": {},
   "outputs": [
    {
     "data": {
      "text/plain": [
       "{'neg': 0.102, 'neu': 0.661, 'pos': 0.237, 'compound': 0.9308}"
      ]
     },
     "execution_count": 17,
     "metadata": {},
     "output_type": "execute_result"
    }
   ],
   "source": [
    "#sentiment_parameters_nltk(df_reviews['Description'][0])"
   ]
  },
  {
   "cell_type": "code",
   "execution_count": null,
   "metadata": {},
   "outputs": [],
   "source": []
  },
  {
   "cell_type": "code",
   "execution_count": null,
   "metadata": {},
   "outputs": [],
   "source": []
  }
 ],
 "metadata": {
  "kernelspec": {
   "display_name": "Python 3",
   "language": "python",
   "name": "python3"
  },
  "language_info": {
   "codemirror_mode": {
    "name": "ipython",
    "version": 3
   },
   "file_extension": ".py",
   "mimetype": "text/x-python",
   "name": "python",
   "nbconvert_exporter": "python",
   "pygments_lexer": "ipython3",
   "version": "3.7.1"
  }
 },
 "nbformat": 4,
 "nbformat_minor": 2
}

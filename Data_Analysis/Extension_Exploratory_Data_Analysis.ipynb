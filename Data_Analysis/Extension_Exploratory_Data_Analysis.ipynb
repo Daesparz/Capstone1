{
 "cells": [
  {
   "cell_type": "markdown",
   "metadata": {},
   "source": [
    "# Extension of Exploratory Data Analysis\n",
    "\n",
    "In this section, we explore polarity and subjectivity of customer reviews dataset, lenght of reviews and look for patterns to find useful similarities and differences between the reviews to build features vectors in the next Machine Learning sections. Customer reviews will be used to predict the satisfaction and to investigate the causes of those good or bad experiences, defined as categories. We'll be able to split coffee shops in clusters according to how much positive or negative are the mentions that people do in every category. Additionally, the blog reviews are used exclusively to build clusters of coffee shops related to features extracted from the descriptions.\n",
    "\n",
    "## Guideline\n",
    "\n",
    "The main purposes here are the following:\n",
    "### To Resolve the Predictive Score Modeling:\n",
    "- Compare different polarity algorithms to determine which is the most appropiate in this scenario.\n",
    "- Determine if we must calculate polarity scores per review or sentences into the reviews and then take the average or some percentile to estimate the polarity of the review.\n",
    "- Determine if is useful to use more than one polarity algorithm as feature.\n",
    "- Look for more potential language features (as lenght of the message, distribution of the polarity and subjectivity into the review, type of language, slangs, uppercase expressions, etc).\n",
    "\n",
    "\n",
    "### To Resolve topics that people mention in their reviews:\n",
    "- Create dictionary of words per topic.\n",
    "- Use Topic Modeling Hierarchical\n",
    "- Use TF-IDF and select some key-words\n",
    "- Use word embeddings\n",
    "\n",
    "### To Resolve the unsupervised clustering of coffee shops:\n",
    "- Use information from blogs and brief descriptions.\n",
    "- Identify features (as presence or absence of wifi, music, decoration, tables and others)"
   ]
  },
  {
   "cell_type": "markdown",
   "metadata": {},
   "source": [
    "Importing relevant packages"
   ]
  },
  {
   "cell_type": "code",
   "execution_count": 1,
   "metadata": {},
   "outputs": [],
   "source": [
    "import warnings\n",
    "\n",
    "warnings.filterwarnings(\"ignore\")\n",
    "\n",
    "\n",
    "from textblob.sentiments import PatternAnalyzer\n",
    "from textblob import TextBlob\n",
    "from scipy import stats\n",
    "import matplotlib.pyplot as plt\n",
    "import seaborn as sns\n",
    "import pandas as pd\n",
    "import numpy as np\n",
    "import datetime\n",
    "import re"
   ]
  },
  {
   "cell_type": "markdown",
   "metadata": {},
   "source": [
    "Defining the **sentiment parameters pattern** function using one of the sentiment analyzer provides for *TextBlob*"
   ]
  },
  {
   "cell_type": "code",
   "execution_count": 2,
   "metadata": {},
   "outputs": [],
   "source": [
    "def sentiment_parameters_Pattern(sentence):\n",
    "    blob = TextBlob(sentence, analyzer=PatternAnalyzer())\n",
    "    return blob.sentiment.polarity, blob.sentiment.subjectivity"
   ]
  },
  {
   "cell_type": "markdown",
   "metadata": {},
   "source": [
    "### Customer reviews dataset"
   ]
  },
  {
   "cell_type": "code",
   "execution_count": 3,
   "metadata": {},
   "outputs": [],
   "source": [
    "df_reviews = pd.read_csv(\"../Data_Extraction/Reviews/reviews_rating_date.csv\", \\\n",
    "                         usecols=['Coffee', 'Description','Rating', 'date'])"
   ]
  },
  {
   "cell_type": "code",
   "execution_count": 4,
   "metadata": {},
   "outputs": [
    {
     "data": {
      "text/html": [
       "<div>\n",
       "<style scoped>\n",
       "    .dataframe tbody tr th:only-of-type {\n",
       "        vertical-align: middle;\n",
       "    }\n",
       "\n",
       "    .dataframe tbody tr th {\n",
       "        vertical-align: top;\n",
       "    }\n",
       "\n",
       "    .dataframe thead th {\n",
       "        text-align: right;\n",
       "    }\n",
       "</style>\n",
       "<table border=\"1\" class=\"dataframe\">\n",
       "  <thead>\n",
       "    <tr style=\"text-align: right;\">\n",
       "      <th></th>\n",
       "      <th>Coffee</th>\n",
       "      <th>Description</th>\n",
       "      <th>Rating</th>\n",
       "      <th>date</th>\n",
       "    </tr>\n",
       "  </thead>\n",
       "  <tbody>\n",
       "    <tr>\n",
       "      <th>0</th>\n",
       "      <td>Réveille Coffee</td>\n",
       "      <td>This is a cute coffee shop, I love the ambianc...</td>\n",
       "      <td>4.0 star rating</td>\n",
       "      <td>5/10/2019</td>\n",
       "    </tr>\n",
       "    <tr>\n",
       "      <th>1</th>\n",
       "      <td>Réveille Coffee</td>\n",
       "      <td>I wanted to like this place, however the venti...</td>\n",
       "      <td>2.0 star rating</td>\n",
       "      <td>4/20/2019</td>\n",
       "    </tr>\n",
       "    <tr>\n",
       "      <th>2</th>\n",
       "      <td>Réveille Coffee</td>\n",
       "      <td>I didn't tried brunch before in another locati...</td>\n",
       "      <td>5.0 star rating</td>\n",
       "      <td>4/18/2019</td>\n",
       "    </tr>\n",
       "    <tr>\n",
       "      <th>3</th>\n",
       "      <td>Réveille Coffee</td>\n",
       "      <td>Folks, avoid this place unless you like being ...</td>\n",
       "      <td>1.0 star rating</td>\n",
       "      <td>4/16/2019</td>\n",
       "    </tr>\n",
       "    <tr>\n",
       "      <th>4</th>\n",
       "      <td>Réveille Coffee</td>\n",
       "      <td>A nice compact coffee shop at Castro area. Qua...</td>\n",
       "      <td>4.0 star rating</td>\n",
       "      <td>4/16/2019</td>\n",
       "    </tr>\n",
       "  </tbody>\n",
       "</table>\n",
       "</div>"
      ],
      "text/plain": [
       "            Coffee                                        Description  \\\n",
       "0  Réveille Coffee  This is a cute coffee shop, I love the ambianc...   \n",
       "1  Réveille Coffee  I wanted to like this place, however the venti...   \n",
       "2  Réveille Coffee  I didn't tried brunch before in another locati...   \n",
       "3  Réveille Coffee  Folks, avoid this place unless you like being ...   \n",
       "4  Réveille Coffee  A nice compact coffee shop at Castro area. Qua...   \n",
       "\n",
       "            Rating       date  \n",
       "0  4.0 star rating  5/10/2019  \n",
       "1  2.0 star rating  4/20/2019  \n",
       "2  5.0 star rating  4/18/2019  \n",
       "3  1.0 star rating  4/16/2019  \n",
       "4  4.0 star rating  4/16/2019  "
      ]
     },
     "execution_count": 4,
     "metadata": {},
     "output_type": "execute_result"
    }
   ],
   "source": [
    "df_reviews.head()"
   ]
  },
  {
   "cell_type": "code",
   "execution_count": 5,
   "metadata": {},
   "outputs": [
    {
     "name": "stdout",
     "output_type": "stream",
     "text": [
      "<class 'pandas.core.frame.DataFrame'>\n",
      "RangeIndex: 3548 entries, 0 to 3547\n",
      "Data columns (total 4 columns):\n",
      "Coffee         3268 non-null object\n",
      "Description    3548 non-null object\n",
      "Rating         3548 non-null object\n",
      "date           3548 non-null object\n",
      "dtypes: object(4)\n",
      "memory usage: 111.0+ KB\n"
     ]
    }
   ],
   "source": [
    "df_reviews.info()"
   ]
  },
  {
   "cell_type": "code",
   "execution_count": 5,
   "metadata": {},
   "outputs": [],
   "source": [
    "df_reviews['scores'] = df_reviews['Rating'].str.split(' star rating').str.get(0).astype(float)"
   ]
  },
  {
   "cell_type": "code",
   "execution_count": 10,
   "metadata": {},
   "outputs": [],
   "source": [
    "df_reviews.drop(columns='Rating', inplace=True)"
   ]
  },
  {
   "cell_type": "code",
   "execution_count": 6,
   "metadata": {},
   "outputs": [],
   "source": [
    "df_reviews['Polarity_Pattern'] = [sentiment_parameters_Pattern(r)[0] for r in df_reviews['Description']]"
   ]
  },
  {
   "cell_type": "code",
   "execution_count": 7,
   "metadata": {},
   "outputs": [],
   "source": [
    "df_reviews['Subjectivity_Pattern'] = [sentiment_parameters_Pattern(r)[1] for r in df_reviews['Description']]"
   ]
  },
  {
   "cell_type": "code",
   "execution_count": 8,
   "metadata": {},
   "outputs": [
    {
     "name": "stdout",
     "output_type": "stream",
     "text": [
      "<class 'pandas.core.frame.DataFrame'>\n",
      "RangeIndex: 3548 entries, 0 to 3547\n",
      "Data columns (total 7 columns):\n",
      "Coffee                  3268 non-null object\n",
      "Description             3548 non-null object\n",
      "Rating                  3548 non-null object\n",
      "date                    3548 non-null object\n",
      "scores                  3548 non-null float64\n",
      "Polarity_Pattern        3548 non-null float64\n",
      "Subjectivity_Pattern    3548 non-null float64\n",
      "dtypes: float64(3), object(4)\n",
      "memory usage: 194.1+ KB\n"
     ]
    }
   ],
   "source": [
    "df_reviews.info()"
   ]
  },
  {
   "cell_type": "code",
   "execution_count": 8,
   "metadata": {},
   "outputs": [
    {
     "data": {
      "text/html": [
       "<div>\n",
       "<style scoped>\n",
       "    .dataframe tbody tr th:only-of-type {\n",
       "        vertical-align: middle;\n",
       "    }\n",
       "\n",
       "    .dataframe tbody tr th {\n",
       "        vertical-align: top;\n",
       "    }\n",
       "\n",
       "    .dataframe thead th {\n",
       "        text-align: right;\n",
       "    }\n",
       "</style>\n",
       "<table border=\"1\" class=\"dataframe\">\n",
       "  <thead>\n",
       "    <tr style=\"text-align: right;\">\n",
       "      <th></th>\n",
       "      <th>Coffee</th>\n",
       "      <th>Description</th>\n",
       "      <th>Rating</th>\n",
       "      <th>date</th>\n",
       "      <th>scores</th>\n",
       "      <th>Polarity_Pattern</th>\n",
       "      <th>Subjectivity_Pattern</th>\n",
       "    </tr>\n",
       "  </thead>\n",
       "  <tbody>\n",
       "    <tr>\n",
       "      <th>0</th>\n",
       "      <td>Réveille Coffee</td>\n",
       "      <td>This is a cute coffee shop, I love the ambianc...</td>\n",
       "      <td>4.0 star rating</td>\n",
       "      <td>5/10/2019</td>\n",
       "      <td>4.0</td>\n",
       "      <td>0.250758</td>\n",
       "      <td>0.692424</td>\n",
       "    </tr>\n",
       "    <tr>\n",
       "      <th>1</th>\n",
       "      <td>Réveille Coffee</td>\n",
       "      <td>I wanted to like this place, however the venti...</td>\n",
       "      <td>2.0 star rating</td>\n",
       "      <td>4/20/2019</td>\n",
       "      <td>2.0</td>\n",
       "      <td>0.051736</td>\n",
       "      <td>0.624306</td>\n",
       "    </tr>\n",
       "    <tr>\n",
       "      <th>2</th>\n",
       "      <td>Réveille Coffee</td>\n",
       "      <td>I didn't tried brunch before in another locati...</td>\n",
       "      <td>5.0 star rating</td>\n",
       "      <td>4/18/2019</td>\n",
       "      <td>5.0</td>\n",
       "      <td>0.666667</td>\n",
       "      <td>0.616667</td>\n",
       "    </tr>\n",
       "    <tr>\n",
       "      <th>3</th>\n",
       "      <td>Réveille Coffee</td>\n",
       "      <td>Folks, avoid this place unless you like being ...</td>\n",
       "      <td>1.0 star rating</td>\n",
       "      <td>4/16/2019</td>\n",
       "      <td>1.0</td>\n",
       "      <td>0.070000</td>\n",
       "      <td>0.607778</td>\n",
       "    </tr>\n",
       "    <tr>\n",
       "      <th>4</th>\n",
       "      <td>Réveille Coffee</td>\n",
       "      <td>A nice compact coffee shop at Castro area. Qua...</td>\n",
       "      <td>4.0 star rating</td>\n",
       "      <td>4/16/2019</td>\n",
       "      <td>4.0</td>\n",
       "      <td>0.390000</td>\n",
       "      <td>0.610000</td>\n",
       "    </tr>\n",
       "  </tbody>\n",
       "</table>\n",
       "</div>"
      ],
      "text/plain": [
       "            Coffee                                        Description  \\\n",
       "0  Réveille Coffee  This is a cute coffee shop, I love the ambianc...   \n",
       "1  Réveille Coffee  I wanted to like this place, however the venti...   \n",
       "2  Réveille Coffee  I didn't tried brunch before in another locati...   \n",
       "3  Réveille Coffee  Folks, avoid this place unless you like being ...   \n",
       "4  Réveille Coffee  A nice compact coffee shop at Castro area. Qua...   \n",
       "\n",
       "            Rating       date  scores  Polarity_Pattern  Subjectivity_Pattern  \n",
       "0  4.0 star rating  5/10/2019     4.0          0.250758              0.692424  \n",
       "1  2.0 star rating  4/20/2019     2.0          0.051736              0.624306  \n",
       "2  5.0 star rating  4/18/2019     5.0          0.666667              0.616667  \n",
       "3  1.0 star rating  4/16/2019     1.0          0.070000              0.607778  \n",
       "4  4.0 star rating  4/16/2019     4.0          0.390000              0.610000  "
      ]
     },
     "execution_count": 8,
     "metadata": {},
     "output_type": "execute_result"
    }
   ],
   "source": [
    "df_reviews.head()"
   ]
  },
  {
   "cell_type": "code",
   "execution_count": null,
   "metadata": {},
   "outputs": [],
   "source": [
    "# import nltk\n",
    "# nltk.download('vader_lexicon')\n",
    "# from nltk.sentiment.vader import SentimentIntensityAnalyzer\n",
    "# sid = SentimentIntensityAnalyzer()"
   ]
  },
  {
   "cell_type": "code",
   "execution_count": null,
   "metadata": {},
   "outputs": [],
   "source": []
  }
 ],
 "metadata": {
  "kernelspec": {
   "display_name": "Python 3",
   "language": "python",
   "name": "python3"
  },
  "language_info": {
   "codemirror_mode": {
    "name": "ipython",
    "version": 3
   },
   "file_extension": ".py",
   "mimetype": "text/x-python",
   "name": "python",
   "nbconvert_exporter": "python",
   "pygments_lexer": "ipython3",
   "version": "3.7.1"
  }
 },
 "nbformat": 4,
 "nbformat_minor": 2
}

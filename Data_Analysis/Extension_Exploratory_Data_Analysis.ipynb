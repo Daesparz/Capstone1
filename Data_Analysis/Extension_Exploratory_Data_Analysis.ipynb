{
 "cells": [
  {
   "cell_type": "markdown",
   "metadata": {},
   "source": [
    "# Extension of Exploratory Data Analysis\n",
    "\n",
    "In this section, we explore polarity and subjectivity of customer reviews dataset, lenght of reviews and look for patterns to find useful similarities and differences between the reviews to build features vectors in the next Machine Learning sections. Customer reviews will be used to predict the satisfaction and to investigate the causes of those good or bad experiences, defined as categories. We'll be able to split coffee shops in clusters according to how much positive or negative are the mentions that people do in every category. Additionally, the blog reviews are used exclusively to build clusters of coffee shops related to features extracted from the descriptions.\n",
    "\n",
    "## Guideline\n",
    "\n",
    "The main purposes here are the following:\n",
    "### To Resolve the Predictive Score Modeling:\n",
    "- Compare different polarity algorithms to determine which is the most appropiate in this scenario.\n",
    "- Determine if we must calculate polarity scores per review or sentences into the reviews and then take the average or some percentile to estimate the polarity of the review.\n",
    "- Determine if is useful to use more than one polarity algorithm as feature.\n",
    "- Look for more potential language features (as lenght of the message, distribution of the polarity and subjectivity into the review, type of language, slangs, uppercase expressions, etc).\n",
    "\n",
    "\n",
    "### To Resolve topics that people mention in their reviews:\n",
    "- Create dictionary of words per topic.\n",
    "- Use Topic Modeling Hierarchical\n",
    "- Use TF-IDF and select some key-words\n",
    "- Use word embeddings\n",
    "\n",
    "### To Resolve the unsupervised clustering of coffee shops:\n",
    "- Use information from blogs and brief descriptions.\n",
    "- Identify features (as presence or absence of wifi, music, decoration, tables and others)"
   ]
  },
  {
   "cell_type": "markdown",
   "metadata": {},
   "source": [
    "# 1. Features for predictive score modeling"
   ]
  },
  {
   "cell_type": "markdown",
   "metadata": {},
   "source": [
    "Importing relevant packages"
   ]
  },
  {
   "cell_type": "code",
   "execution_count": 1,
   "metadata": {},
   "outputs": [],
   "source": [
    "import warnings\n",
    "\n",
    "warnings.filterwarnings(\"ignore\")\n",
    "\n",
    "from scipy import stats\n",
    "import matplotlib.pyplot as plt\n",
    "import seaborn as sns\n",
    "import pandas as pd\n",
    "import numpy as np\n",
    "import datetime\n",
    "import re"
   ]
  },
  {
   "cell_type": "markdown",
   "metadata": {},
   "source": [
    "### a. TextBlob"
   ]
  },
  {
   "cell_type": "markdown",
   "metadata": {},
   "source": [
    "Defining the **sentiment parameters pattern** function using one of the sentiment analyzer provides for *TextBlob*"
   ]
  },
  {
   "cell_type": "code",
   "execution_count": 2,
   "metadata": {},
   "outputs": [],
   "source": [
    "from textblob.sentiments import PatternAnalyzer\n",
    "from textblob import TextBlob\n",
    "\n",
    "def sentiment_parameters_textblob(text_data):\n",
    "    blob = TextBlob(text_data, analyzer=PatternAnalyzer())\n",
    "    return blob.sentiment.polarity, blob.sentiment.subjectivity"
   ]
  },
  {
   "cell_type": "markdown",
   "metadata": {},
   "source": [
    "In this case, we get a **polarity** and a **subjectivity score**."
   ]
  },
  {
   "cell_type": "markdown",
   "metadata": {},
   "source": [
    "### b. nltk Sentiment Intensity Analyzer"
   ]
  },
  {
   "cell_type": "code",
   "execution_count": 3,
   "metadata": {},
   "outputs": [
    {
     "name": "stderr",
     "output_type": "stream",
     "text": [
      "[nltk_data] Downloading package vader_lexicon to\n",
      "[nltk_data]     /Users/daniela/nltk_data...\n",
      "[nltk_data]   Package vader_lexicon is already up-to-date!\n"
     ]
    }
   ],
   "source": [
    "import nltk\n",
    "\n",
    "nltk.download('vader_lexicon')\n",
    "from nltk.sentiment.vader import SentimentIntensityAnalyzer\n",
    "\n",
    "sentiment_nltk = SentimentIntensityAnalyzer()\n",
    "\n",
    "def sentiment_parameters_nltk(text_data):\n",
    "    return sentiment_nltk.polarity_scores(text_data)"
   ]
  },
  {
   "cell_type": "markdown",
   "metadata": {},
   "source": [
    "### c. FLAIR Sentiment Classifier"
   ]
  },
  {
   "cell_type": "code",
   "execution_count": 4,
   "metadata": {},
   "outputs": [
    {
     "name": "stdout",
     "output_type": "stream",
     "text": [
      "2020-06-14 18:05:37,000 loading file /Users/daniela/.flair/models/sentiment-en-mix-distillbert.pt\n"
     ]
    }
   ],
   "source": [
    "import sys\n",
    "#!{sys.executable} -m pip install flair\n",
    "import flair\n",
    "\n",
    "flair_sentiment = flair.models.TextClassifier.load('en-sentiment')\n",
    "\n",
    "def sentiment_parameters_flair(text_data):\n",
    "    s = flair.data.Sentence(text_data)\n",
    "    flair_sentiment.predict(s)\n",
    "    return s.labels"
   ]
  },
  {
   "cell_type": "markdown",
   "metadata": {},
   "source": [
    "### Customer reviews dataset"
   ]
  },
  {
   "cell_type": "code",
   "execution_count": 5,
   "metadata": {},
   "outputs": [],
   "source": [
    "df_reviews = pd.read_csv(\"../Data_Extraction/Reviews/reviews_rating_date.csv\", \\\n",
    "                         usecols=['Coffee', 'Description','Rating', 'date'])"
   ]
  },
  {
   "cell_type": "code",
   "execution_count": 6,
   "metadata": {},
   "outputs": [
    {
     "data": {
      "text/html": [
       "<div>\n",
       "<style scoped>\n",
       "    .dataframe tbody tr th:only-of-type {\n",
       "        vertical-align: middle;\n",
       "    }\n",
       "\n",
       "    .dataframe tbody tr th {\n",
       "        vertical-align: top;\n",
       "    }\n",
       "\n",
       "    .dataframe thead th {\n",
       "        text-align: right;\n",
       "    }\n",
       "</style>\n",
       "<table border=\"1\" class=\"dataframe\">\n",
       "  <thead>\n",
       "    <tr style=\"text-align: right;\">\n",
       "      <th></th>\n",
       "      <th>Coffee</th>\n",
       "      <th>Description</th>\n",
       "      <th>Rating</th>\n",
       "      <th>date</th>\n",
       "    </tr>\n",
       "  </thead>\n",
       "  <tbody>\n",
       "    <tr>\n",
       "      <th>3543</th>\n",
       "      <td>Red Door</td>\n",
       "      <td>Great atmosphere. Awesome coffee. One of my fa...</td>\n",
       "      <td>4.0 star rating</td>\n",
       "      <td>2/26/2018</td>\n",
       "    </tr>\n",
       "    <tr>\n",
       "      <th>3544</th>\n",
       "      <td>Red Door</td>\n",
       "      <td>This place was great- recommended to me by som...</td>\n",
       "      <td>4.0 star rating</td>\n",
       "      <td>2/5/2018</td>\n",
       "    </tr>\n",
       "    <tr>\n",
       "      <th>3545</th>\n",
       "      <td>Red Door</td>\n",
       "      <td>I really like the concept of this place - coff...</td>\n",
       "      <td>3.0 star rating</td>\n",
       "      <td>12/15/2017</td>\n",
       "    </tr>\n",
       "    <tr>\n",
       "      <th>3546</th>\n",
       "      <td>Red Door</td>\n",
       "      <td>I love the artsy vibes in this cafe, because i...</td>\n",
       "      <td>4.0 star rating</td>\n",
       "      <td>10/29/2017</td>\n",
       "    </tr>\n",
       "    <tr>\n",
       "      <th>3547</th>\n",
       "      <td>Red Door</td>\n",
       "      <td>Really nice coffee shop within an art gallery....</td>\n",
       "      <td>5.0 star rating</td>\n",
       "      <td>10/17/2017</td>\n",
       "    </tr>\n",
       "  </tbody>\n",
       "</table>\n",
       "</div>"
      ],
      "text/plain": [
       "        Coffee                                        Description  \\\n",
       "3543  Red Door  Great atmosphere. Awesome coffee. One of my fa...   \n",
       "3544  Red Door  This place was great- recommended to me by som...   \n",
       "3545  Red Door  I really like the concept of this place - coff...   \n",
       "3546  Red Door  I love the artsy vibes in this cafe, because i...   \n",
       "3547  Red Door  Really nice coffee shop within an art gallery....   \n",
       "\n",
       "               Rating        date  \n",
       "3543  4.0 star rating   2/26/2018  \n",
       "3544  4.0 star rating    2/5/2018  \n",
       "3545  3.0 star rating  12/15/2017  \n",
       "3546  4.0 star rating  10/29/2017  \n",
       "3547  5.0 star rating  10/17/2017  "
      ]
     },
     "execution_count": 6,
     "metadata": {},
     "output_type": "execute_result"
    }
   ],
   "source": [
    "df_reviews.tail()"
   ]
  },
  {
   "cell_type": "code",
   "execution_count": 7,
   "metadata": {},
   "outputs": [
    {
     "name": "stdout",
     "output_type": "stream",
     "text": [
      "<class 'pandas.core.frame.DataFrame'>\n",
      "RangeIndex: 3548 entries, 0 to 3547\n",
      "Data columns (total 4 columns):\n",
      "Coffee         3268 non-null object\n",
      "Description    3548 non-null object\n",
      "Rating         3548 non-null object\n",
      "date           3548 non-null object\n",
      "dtypes: object(4)\n",
      "memory usage: 111.0+ KB\n"
     ]
    }
   ],
   "source": [
    "df_reviews.info()"
   ]
  },
  {
   "cell_type": "markdown",
   "metadata": {},
   "source": [
    "### Pre-processing steps"
   ]
  },
  {
   "cell_type": "code",
   "execution_count": 8,
   "metadata": {},
   "outputs": [],
   "source": [
    "df_reviews['scores'] = df_reviews['Rating'].str.split(' star rating').str.get(0).astype(float)"
   ]
  },
  {
   "cell_type": "code",
   "execution_count": 9,
   "metadata": {},
   "outputs": [],
   "source": [
    "df_reviews.drop(columns='Rating', inplace=True)"
   ]
  },
  {
   "cell_type": "code",
   "execution_count": 10,
   "metadata": {},
   "outputs": [],
   "source": [
    "import datetime\n",
    "\n",
    "def validate_date(date_str):\n",
    "    try:\n",
    "        date_updated = datetime.datetime.strptime(date_str.splitlines()[0], \"%m/%d/%Y\")\n",
    "    except:\n",
    "        print(date_str)\n",
    "        raise ValueError(\"Incorrect data format, should be MM-DD-YYYY\")\n",
    "    return date_updated"
   ]
  },
  {
   "cell_type": "code",
   "execution_count": 11,
   "metadata": {},
   "outputs": [],
   "source": [
    "df_reviews['valid_date'] =  df_reviews.date.apply(validate_date)"
   ]
  },
  {
   "cell_type": "code",
   "execution_count": 12,
   "metadata": {},
   "outputs": [],
   "source": [
    "df_reviews.drop(columns='date', inplace=True)"
   ]
  },
  {
   "cell_type": "markdown",
   "metadata": {},
   "source": [
    "### 1.1 Sentiment Analysis: Polarity and Subjectivity Patterns using TextBlob, NLTK and Flair:"
   ]
  },
  {
   "cell_type": "code",
   "execution_count": 13,
   "metadata": {},
   "outputs": [],
   "source": [
    "df_reviews['polarity_textblob'] = [sentiment_parameters_textblob(r)[0] for r in df_reviews['Description']]"
   ]
  },
  {
   "cell_type": "code",
   "execution_count": 14,
   "metadata": {},
   "outputs": [],
   "source": [
    "df_reviews['subjectivity_textblob'] = [sentiment_parameters_textblob(r)[1] for r in df_reviews['Description']]"
   ]
  },
  {
   "cell_type": "code",
   "execution_count": 20,
   "metadata": {},
   "outputs": [],
   "source": [
    "df_reviews['neg_nltk'] = [sentiment_parameters_nltk(r)['neg'] for r in df_reviews['Description']]"
   ]
  },
  {
   "cell_type": "code",
   "execution_count": 21,
   "metadata": {},
   "outputs": [],
   "source": [
    "df_reviews['neu_nltk'] = [sentiment_parameters_nltk(r)['neu'] for r in df_reviews['Description']]"
   ]
  },
  {
   "cell_type": "code",
   "execution_count": 22,
   "metadata": {},
   "outputs": [],
   "source": [
    "df_reviews['pos_nltk'] = [sentiment_parameters_nltk(r)['pos'] for r in df_reviews['Description']]"
   ]
  },
  {
   "cell_type": "code",
   "execution_count": 23,
   "metadata": {},
   "outputs": [],
   "source": [
    "df_reviews['compound_nltk'] = [sentiment_parameters_nltk(r)['compound'] for r in df_reviews['Description']]"
   ]
  },
  {
   "cell_type": "code",
   "execution_count": 34,
   "metadata": {},
   "outputs": [],
   "source": [
    "df_reviews['value_flair'] = [sentiment_parameters_flair(r)[0].value for r in df_reviews['Description']]"
   ]
  },
  {
   "cell_type": "code",
   "execution_count": 35,
   "metadata": {},
   "outputs": [],
   "source": [
    "df_reviews['score_flair'] = [sentiment_parameters_flair(r)[0].score for r in df_reviews['Description']]"
   ]
  },
  {
   "cell_type": "code",
   "execution_count": 36,
   "metadata": {},
   "outputs": [
    {
     "data": {
      "text/html": [
       "<div>\n",
       "<style scoped>\n",
       "    .dataframe tbody tr th:only-of-type {\n",
       "        vertical-align: middle;\n",
       "    }\n",
       "\n",
       "    .dataframe tbody tr th {\n",
       "        vertical-align: top;\n",
       "    }\n",
       "\n",
       "    .dataframe thead th {\n",
       "        text-align: right;\n",
       "    }\n",
       "</style>\n",
       "<table border=\"1\" class=\"dataframe\">\n",
       "  <thead>\n",
       "    <tr style=\"text-align: right;\">\n",
       "      <th></th>\n",
       "      <th>Coffee</th>\n",
       "      <th>Description</th>\n",
       "      <th>scores</th>\n",
       "      <th>valid_date</th>\n",
       "      <th>polarity_textblob</th>\n",
       "      <th>subjectivity_textblob</th>\n",
       "      <th>neg_nltk</th>\n",
       "      <th>neu_nltk</th>\n",
       "      <th>pos_nltk</th>\n",
       "      <th>compound_nltk</th>\n",
       "      <th>value_flair</th>\n",
       "      <th>score_flair</th>\n",
       "    </tr>\n",
       "  </thead>\n",
       "  <tbody>\n",
       "    <tr>\n",
       "      <th>0</th>\n",
       "      <td>Réveille Coffee</td>\n",
       "      <td>This is a cute coffee shop, I love the ambianc...</td>\n",
       "      <td>4.0</td>\n",
       "      <td>2019-05-10</td>\n",
       "      <td>0.250758</td>\n",
       "      <td>0.692424</td>\n",
       "      <td>0.102</td>\n",
       "      <td>0.661</td>\n",
       "      <td>0.237</td>\n",
       "      <td>0.9308</td>\n",
       "      <td>POSITIVE</td>\n",
       "      <td>0.998546</td>\n",
       "    </tr>\n",
       "    <tr>\n",
       "      <th>1</th>\n",
       "      <td>Réveille Coffee</td>\n",
       "      <td>I wanted to like this place, however the venti...</td>\n",
       "      <td>2.0</td>\n",
       "      <td>2019-04-20</td>\n",
       "      <td>0.051736</td>\n",
       "      <td>0.624306</td>\n",
       "      <td>0.075</td>\n",
       "      <td>0.826</td>\n",
       "      <td>0.099</td>\n",
       "      <td>0.1606</td>\n",
       "      <td>NEGATIVE</td>\n",
       "      <td>0.999996</td>\n",
       "    </tr>\n",
       "    <tr>\n",
       "      <th>2</th>\n",
       "      <td>Réveille Coffee</td>\n",
       "      <td>I didn't tried brunch before in another locati...</td>\n",
       "      <td>5.0</td>\n",
       "      <td>2019-04-18</td>\n",
       "      <td>0.666667</td>\n",
       "      <td>0.616667</td>\n",
       "      <td>0.000</td>\n",
       "      <td>0.655</td>\n",
       "      <td>0.345</td>\n",
       "      <td>0.9538</td>\n",
       "      <td>POSITIVE</td>\n",
       "      <td>0.997934</td>\n",
       "    </tr>\n",
       "    <tr>\n",
       "      <th>3</th>\n",
       "      <td>Réveille Coffee</td>\n",
       "      <td>Folks, avoid this place unless you like being ...</td>\n",
       "      <td>1.0</td>\n",
       "      <td>2019-04-16</td>\n",
       "      <td>0.070000</td>\n",
       "      <td>0.607778</td>\n",
       "      <td>0.075</td>\n",
       "      <td>0.822</td>\n",
       "      <td>0.103</td>\n",
       "      <td>0.6261</td>\n",
       "      <td>NEGATIVE</td>\n",
       "      <td>0.999989</td>\n",
       "    </tr>\n",
       "    <tr>\n",
       "      <th>4</th>\n",
       "      <td>Réveille Coffee</td>\n",
       "      <td>A nice compact coffee shop at Castro area. Qua...</td>\n",
       "      <td>4.0</td>\n",
       "      <td>2019-04-16</td>\n",
       "      <td>0.390000</td>\n",
       "      <td>0.610000</td>\n",
       "      <td>0.000</td>\n",
       "      <td>0.647</td>\n",
       "      <td>0.353</td>\n",
       "      <td>0.8689</td>\n",
       "      <td>POSITIVE</td>\n",
       "      <td>0.968480</td>\n",
       "    </tr>\n",
       "  </tbody>\n",
       "</table>\n",
       "</div>"
      ],
      "text/plain": [
       "            Coffee                                        Description  scores  \\\n",
       "0  Réveille Coffee  This is a cute coffee shop, I love the ambianc...     4.0   \n",
       "1  Réveille Coffee  I wanted to like this place, however the venti...     2.0   \n",
       "2  Réveille Coffee  I didn't tried brunch before in another locati...     5.0   \n",
       "3  Réveille Coffee  Folks, avoid this place unless you like being ...     1.0   \n",
       "4  Réveille Coffee  A nice compact coffee shop at Castro area. Qua...     4.0   \n",
       "\n",
       "  valid_date  polarity_textblob  subjectivity_textblob  neg_nltk  neu_nltk  \\\n",
       "0 2019-05-10           0.250758               0.692424     0.102     0.661   \n",
       "1 2019-04-20           0.051736               0.624306     0.075     0.826   \n",
       "2 2019-04-18           0.666667               0.616667     0.000     0.655   \n",
       "3 2019-04-16           0.070000               0.607778     0.075     0.822   \n",
       "4 2019-04-16           0.390000               0.610000     0.000     0.647   \n",
       "\n",
       "   pos_nltk  compound_nltk value_flair  score_flair  \n",
       "0     0.237         0.9308    POSITIVE     0.998546  \n",
       "1     0.099         0.1606    NEGATIVE     0.999996  \n",
       "2     0.345         0.9538    POSITIVE     0.997934  \n",
       "3     0.103         0.6261    NEGATIVE     0.999989  \n",
       "4     0.353         0.8689    POSITIVE     0.968480  "
      ]
     },
     "execution_count": 36,
     "metadata": {},
     "output_type": "execute_result"
    }
   ],
   "source": [
    "df_reviews.head()"
   ]
  },
  {
   "cell_type": "markdown",
   "metadata": {},
   "source": [
    "### 1.2 Readability tests applied to reviews\n",
    "\n",
    "In this section, we use **textstat**, a Python package to calculate statistics from text to determine readability, complexity and grade level of a particular corpus. The scores gives us information about how easy or difficult to understand are the reviews."
   ]
  },
  {
   "cell_type": "code",
   "execution_count": 49,
   "metadata": {},
   "outputs": [
    {
     "name": "stdout",
     "output_type": "stream",
     "text": [
      "Requirement already satisfied: textstat in /Users/daniela/anaconda3/lib/python3.7/site-packages (0.6.2)\n",
      "Requirement already satisfied: pyphen in /Users/daniela/anaconda3/lib/python3.7/site-packages (from textstat) (0.9.5)\n",
      "\u001b[33mWARNING: You are using pip version 20.0.2; however, version 20.1.1 is available.\n",
      "You should consider upgrading via the '/Users/daniela/anaconda3/bin/python -m pip install --upgrade pip' command.\u001b[0m\n"
     ]
    }
   ],
   "source": [
    "!{sys.executable} -m pip install textstat\n",
    "\n",
    "import textstat"
   ]
  },
  {
   "cell_type": "code",
   "execution_count": 50,
   "metadata": {},
   "outputs": [],
   "source": [
    "def flesch(text_data):\n",
    "    return textstat.flesch_reading_ease(text_data)\n",
    "\n",
    "def smog_index(text_data):\n",
    "    return textstat.smog_index(text_data)\n",
    "\n",
    "def kincaid_grade(text_data):\n",
    "    return textstat.flesch_kincaid_grade(text_data)\n",
    "\n",
    "def coleman_liau_index(text_data):\n",
    "    return textstat.coleman_liau_index(text_data)\n",
    "\n",
    "def ari(text_data):\n",
    "    return textstat.automated_readability_index(text_data)\n",
    "\n",
    "def dale_chall_readability(text_data):\n",
    "    return textstat.dale_chall_readability_score(text_data)\n",
    "\n",
    "def difficult_words(text_data):\n",
    "    return textstat.difficult_words(text_data)\n",
    "\n",
    "def linsear_write(text_data):\n",
    "    return textstat.linsear_write_formula(text_data)\n",
    "\n",
    "def gunning_fog(text_data):\n",
    "    return textstat.gunning_fog(text_data)\n",
    "\n",
    "def text_standard(text_data):\n",
    "    return textstat.text_standard(text_data)"
   ]
  },
  {
   "cell_type": "code",
   "execution_count": 51,
   "metadata": {},
   "outputs": [],
   "source": [
    "df_reviews['flesch'] = [flesch(r) for r in df_reviews['Description']]"
   ]
  },
  {
   "cell_type": "code",
   "execution_count": 52,
   "metadata": {},
   "outputs": [],
   "source": [
    "df_reviews['smog_index'] = [smog_index(r) for r in df_reviews['Description']]"
   ]
  },
  {
   "cell_type": "code",
   "execution_count": 53,
   "metadata": {},
   "outputs": [],
   "source": [
    "df_reviews['kincaid_grade'] = [kincaid_grade(r) for r in df_reviews['Description']]"
   ]
  },
  {
   "cell_type": "code",
   "execution_count": 54,
   "metadata": {},
   "outputs": [],
   "source": [
    "df_reviews['coleman_liau_index'] = [coleman_liau_index(r) for r in df_reviews['Description']]"
   ]
  },
  {
   "cell_type": "code",
   "execution_count": 55,
   "metadata": {},
   "outputs": [],
   "source": [
    "df_reviews['ari'] = [ari(r) for r in df_reviews['Description']]"
   ]
  },
  {
   "cell_type": "code",
   "execution_count": 56,
   "metadata": {},
   "outputs": [],
   "source": [
    "df_reviews['dale_chall_readability'] = [dale_chall_readability(r) for r in df_reviews['Description']]"
   ]
  },
  {
   "cell_type": "code",
   "execution_count": 57,
   "metadata": {},
   "outputs": [],
   "source": [
    "df_reviews['difficult_words'] = [difficult_words(r) for r in df_reviews['Description']]"
   ]
  },
  {
   "cell_type": "code",
   "execution_count": 58,
   "metadata": {},
   "outputs": [],
   "source": [
    "df_reviews['linsear_write'] = [linsear_write(r) for r in df_reviews['Description']]"
   ]
  },
  {
   "cell_type": "code",
   "execution_count": 59,
   "metadata": {},
   "outputs": [],
   "source": [
    "df_reviews['gunning_fog'] = [gunning_fog(r) for r in df_reviews['Description']]"
   ]
  },
  {
   "cell_type": "code",
   "execution_count": 60,
   "metadata": {},
   "outputs": [],
   "source": [
    "df_reviews['text_standard'] = [text_standard(r) for r in df_reviews['Description']]"
   ]
  },
  {
   "cell_type": "code",
   "execution_count": 61,
   "metadata": {},
   "outputs": [
    {
     "data": {
      "text/html": [
       "<div>\n",
       "<style scoped>\n",
       "    .dataframe tbody tr th:only-of-type {\n",
       "        vertical-align: middle;\n",
       "    }\n",
       "\n",
       "    .dataframe tbody tr th {\n",
       "        vertical-align: top;\n",
       "    }\n",
       "\n",
       "    .dataframe thead th {\n",
       "        text-align: right;\n",
       "    }\n",
       "</style>\n",
       "<table border=\"1\" class=\"dataframe\">\n",
       "  <thead>\n",
       "    <tr style=\"text-align: right;\">\n",
       "      <th></th>\n",
       "      <th>Coffee</th>\n",
       "      <th>Description</th>\n",
       "      <th>scores</th>\n",
       "      <th>valid_date</th>\n",
       "      <th>polarity_textblob</th>\n",
       "      <th>subjectivity_textblob</th>\n",
       "      <th>neg_nltk</th>\n",
       "      <th>neu_nltk</th>\n",
       "      <th>pos_nltk</th>\n",
       "      <th>compound_nltk</th>\n",
       "      <th>...</th>\n",
       "      <th>flesch</th>\n",
       "      <th>smog_index</th>\n",
       "      <th>kincaid_grade</th>\n",
       "      <th>coleman_liau_index</th>\n",
       "      <th>ari</th>\n",
       "      <th>dale_chall_readability</th>\n",
       "      <th>difficult_words</th>\n",
       "      <th>linsear_write</th>\n",
       "      <th>gunning_fog</th>\n",
       "      <th>text_standard</th>\n",
       "    </tr>\n",
       "  </thead>\n",
       "  <tbody>\n",
       "    <tr>\n",
       "      <th>0</th>\n",
       "      <td>Réveille Coffee</td>\n",
       "      <td>This is a cute coffee shop, I love the ambianc...</td>\n",
       "      <td>4.0</td>\n",
       "      <td>2019-05-10</td>\n",
       "      <td>0.250758</td>\n",
       "      <td>0.692424</td>\n",
       "      <td>0.102</td>\n",
       "      <td>0.661</td>\n",
       "      <td>0.237</td>\n",
       "      <td>0.9308</td>\n",
       "      <td>...</td>\n",
       "      <td>79.09</td>\n",
       "      <td>7.2</td>\n",
       "      <td>6.6</td>\n",
       "      <td>7.31</td>\n",
       "      <td>8.3</td>\n",
       "      <td>6.53</td>\n",
       "      <td>9</td>\n",
       "      <td>8.250000</td>\n",
       "      <td>7.57</td>\n",
       "      <td>6th and 7th grade</td>\n",
       "    </tr>\n",
       "    <tr>\n",
       "      <th>1</th>\n",
       "      <td>Réveille Coffee</td>\n",
       "      <td>I wanted to like this place, however the venti...</td>\n",
       "      <td>2.0</td>\n",
       "      <td>2019-04-20</td>\n",
       "      <td>0.051736</td>\n",
       "      <td>0.624306</td>\n",
       "      <td>0.075</td>\n",
       "      <td>0.826</td>\n",
       "      <td>0.099</td>\n",
       "      <td>0.1606</td>\n",
       "      <td>...</td>\n",
       "      <td>68.10</td>\n",
       "      <td>9.6</td>\n",
       "      <td>8.7</td>\n",
       "      <td>7.31</td>\n",
       "      <td>9.0</td>\n",
       "      <td>6.66</td>\n",
       "      <td>18</td>\n",
       "      <td>8.500000</td>\n",
       "      <td>9.71</td>\n",
       "      <td>8th and 9th grade</td>\n",
       "    </tr>\n",
       "    <tr>\n",
       "      <th>2</th>\n",
       "      <td>Réveille Coffee</td>\n",
       "      <td>I didn't tried brunch before in another locati...</td>\n",
       "      <td>5.0</td>\n",
       "      <td>2019-04-18</td>\n",
       "      <td>0.666667</td>\n",
       "      <td>0.616667</td>\n",
       "      <td>0.000</td>\n",
       "      <td>0.655</td>\n",
       "      <td>0.345</td>\n",
       "      <td>0.9538</td>\n",
       "      <td>...</td>\n",
       "      <td>79.97</td>\n",
       "      <td>8.8</td>\n",
       "      <td>4.2</td>\n",
       "      <td>7.04</td>\n",
       "      <td>5.1</td>\n",
       "      <td>5.96</td>\n",
       "      <td>4</td>\n",
       "      <td>4.125000</td>\n",
       "      <td>6.96</td>\n",
       "      <td>6th and 7th grade</td>\n",
       "    </tr>\n",
       "    <tr>\n",
       "      <th>3</th>\n",
       "      <td>Réveille Coffee</td>\n",
       "      <td>Folks, avoid this place unless you like being ...</td>\n",
       "      <td>1.0</td>\n",
       "      <td>2019-04-16</td>\n",
       "      <td>0.070000</td>\n",
       "      <td>0.607778</td>\n",
       "      <td>0.075</td>\n",
       "      <td>0.822</td>\n",
       "      <td>0.103</td>\n",
       "      <td>0.6261</td>\n",
       "      <td>...</td>\n",
       "      <td>68.50</td>\n",
       "      <td>10.6</td>\n",
       "      <td>8.6</td>\n",
       "      <td>7.89</td>\n",
       "      <td>9.9</td>\n",
       "      <td>6.11</td>\n",
       "      <td>13</td>\n",
       "      <td>7.571429</td>\n",
       "      <td>10.18</td>\n",
       "      <td>7th and 8th grade</td>\n",
       "    </tr>\n",
       "    <tr>\n",
       "      <th>4</th>\n",
       "      <td>Réveille Coffee</td>\n",
       "      <td>A nice compact coffee shop at Castro area. Qua...</td>\n",
       "      <td>4.0</td>\n",
       "      <td>2019-04-16</td>\n",
       "      <td>0.390000</td>\n",
       "      <td>0.610000</td>\n",
       "      <td>0.000</td>\n",
       "      <td>0.647</td>\n",
       "      <td>0.353</td>\n",
       "      <td>0.8689</td>\n",
       "      <td>...</td>\n",
       "      <td>72.53</td>\n",
       "      <td>8.8</td>\n",
       "      <td>5.0</td>\n",
       "      <td>8.77</td>\n",
       "      <td>6.6</td>\n",
       "      <td>7.59</td>\n",
       "      <td>5</td>\n",
       "      <td>3.666667</td>\n",
       "      <td>6.56</td>\n",
       "      <td>6th and 7th grade</td>\n",
       "    </tr>\n",
       "  </tbody>\n",
       "</table>\n",
       "<p>5 rows × 22 columns</p>\n",
       "</div>"
      ],
      "text/plain": [
       "            Coffee                                        Description  scores  \\\n",
       "0  Réveille Coffee  This is a cute coffee shop, I love the ambianc...     4.0   \n",
       "1  Réveille Coffee  I wanted to like this place, however the venti...     2.0   \n",
       "2  Réveille Coffee  I didn't tried brunch before in another locati...     5.0   \n",
       "3  Réveille Coffee  Folks, avoid this place unless you like being ...     1.0   \n",
       "4  Réveille Coffee  A nice compact coffee shop at Castro area. Qua...     4.0   \n",
       "\n",
       "  valid_date  polarity_textblob  subjectivity_textblob  neg_nltk  neu_nltk  \\\n",
       "0 2019-05-10           0.250758               0.692424     0.102     0.661   \n",
       "1 2019-04-20           0.051736               0.624306     0.075     0.826   \n",
       "2 2019-04-18           0.666667               0.616667     0.000     0.655   \n",
       "3 2019-04-16           0.070000               0.607778     0.075     0.822   \n",
       "4 2019-04-16           0.390000               0.610000     0.000     0.647   \n",
       "\n",
       "   pos_nltk  compound_nltk        ...         flesch  smog_index  \\\n",
       "0     0.237         0.9308        ...          79.09         7.2   \n",
       "1     0.099         0.1606        ...          68.10         9.6   \n",
       "2     0.345         0.9538        ...          79.97         8.8   \n",
       "3     0.103         0.6261        ...          68.50        10.6   \n",
       "4     0.353         0.8689        ...          72.53         8.8   \n",
       "\n",
       "   kincaid_grade  coleman_liau_index  ari  dale_chall_readability  \\\n",
       "0            6.6                7.31  8.3                    6.53   \n",
       "1            8.7                7.31  9.0                    6.66   \n",
       "2            4.2                7.04  5.1                    5.96   \n",
       "3            8.6                7.89  9.9                    6.11   \n",
       "4            5.0                8.77  6.6                    7.59   \n",
       "\n",
       "   difficult_words  linsear_write  gunning_fog      text_standard  \n",
       "0                9       8.250000         7.57  6th and 7th grade  \n",
       "1               18       8.500000         9.71  8th and 9th grade  \n",
       "2                4       4.125000         6.96  6th and 7th grade  \n",
       "3               13       7.571429        10.18  7th and 8th grade  \n",
       "4                5       3.666667         6.56  6th and 7th grade  \n",
       "\n",
       "[5 rows x 22 columns]"
      ]
     },
     "execution_count": 61,
     "metadata": {},
     "output_type": "execute_result"
    }
   ],
   "source": [
    "df_reviews.head()"
   ]
  },
  {
   "cell_type": "markdown",
   "metadata": {},
   "source": [
    "### 1.3 Sentiment Analysis by sentence"
   ]
  },
  {
   "cell_type": "code",
   "execution_count": null,
   "metadata": {},
   "outputs": [],
   "source": [
    "for sentence in review.split('.')[:-1]]"
   ]
  },
  {
   "cell_type": "code",
   "execution_count": 37,
   "metadata": {},
   "outputs": [
    {
     "data": {
      "text/plain": [
       "'This is a cute coffee shop, I love the ambiance, the coffee and service are great. The only downside to coming to this cafe is that they only have one outlet making it hard to charge devices while working, the one outlet they do have is VERY loose (meaning your charger will fall out of it). Other than that, nice and friendly environment. Remember, no wifi on the weekends. Enjoy!'"
      ]
     },
     "execution_count": 37,
     "metadata": {},
     "output_type": "execute_result"
    }
   ],
   "source": [
    "df_reviews.Description[0]"
   ]
  },
  {
   "cell_type": "code",
   "execution_count": null,
   "metadata": {},
   "outputs": [],
   "source": [
    "p, rating, name, date = [], [], [], []\n",
    "n_review = []\n",
    "n_sentences = []\n",
    "\n",
    "\n",
    "for x, y in enumerate(polarity):\n",
    "    r = df_reviews['scores'][x]\n",
    "    n = df_reviews['Coffee'][x] \n",
    "    d = df_reviews['valid_date'][x]\n",
    "    k = 1\n",
    "    for elem in y:\n",
    "        p.append(elem)\n",
    "        rating.append(r)\n",
    "        name.append(n)\n",
    "        date.append(d)\n",
    "        n_review.append(x)\n",
    "        n_sentences.append(k)\n",
    "        k+=1"
   ]
  },
  {
   "cell_type": "code",
   "execution_count": null,
   "metadata": {},
   "outputs": [],
   "source": []
  },
  {
   "cell_type": "code",
   "execution_count": null,
   "metadata": {},
   "outputs": [],
   "source": []
  },
  {
   "cell_type": "code",
   "execution_count": null,
   "metadata": {},
   "outputs": [],
   "source": []
  },
  {
   "cell_type": "code",
   "execution_count": null,
   "metadata": {},
   "outputs": [],
   "source": []
  }
 ],
 "metadata": {
  "kernelspec": {
   "display_name": "Python 3",
   "language": "python",
   "name": "python3"
  },
  "language_info": {
   "codemirror_mode": {
    "name": "ipython",
    "version": 3
   },
   "file_extension": ".py",
   "mimetype": "text/x-python",
   "name": "python",
   "nbconvert_exporter": "python",
   "pygments_lexer": "ipython3",
   "version": "3.7.1"
  }
 },
 "nbformat": 4,
 "nbformat_minor": 2
}

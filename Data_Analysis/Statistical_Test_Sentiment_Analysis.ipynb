{
 "cells": [
  {
   "cell_type": "code",
   "execution_count": 1,
   "metadata": {},
   "outputs": [],
   "source": [
    "from textblob.sentiments import PatternAnalyzer\n",
    "from wordcloud import WordCloud, STOPWORDS, ImageColorGenerator\n",
    "from textblob import TextBlob\n",
    "from scipy.stats import ttest_ind, ttest_rel\n",
    "import matplotlib.pyplot as plt\n",
    "import seaborn as sns\n",
    "import pandas as pd\n",
    "import numpy as np\n",
    "import re"
   ]
  },
  {
   "cell_type": "code",
   "execution_count": 2,
   "metadata": {},
   "outputs": [],
   "source": [
    "def sentiment_parameters_Pattern(sentence):\n",
    "    blob = TextBlob(sentence, analyzer=PatternAnalyzer())\n",
    "    return blob.sentiment.polarity, blob.sentiment.subjectivity"
   ]
  },
  {
   "cell_type": "code",
   "execution_count": 3,
   "metadata": {},
   "outputs": [],
   "source": [
    "df = pd.read_csv(\"../Data_Extraction/Reviews/reviews_rating.csv\", usecols=['Description','Rating'])"
   ]
  },
  {
   "cell_type": "code",
   "execution_count": 4,
   "metadata": {},
   "outputs": [],
   "source": [
    "df['score'] = df['Rating'].str.split(' star rating').str.get(0)"
   ]
  },
  {
   "cell_type": "code",
   "execution_count": 5,
   "metadata": {},
   "outputs": [],
   "source": [
    "score = []\n",
    "reviews = []\n",
    "polarity_Pattern = []\n",
    "subjectivity_Pattern = []"
   ]
  },
  {
   "cell_type": "code",
   "execution_count": 6,
   "metadata": {},
   "outputs": [],
   "source": [
    "for i in range(df.shape[0]):\n",
    "    review = df.iloc[i, 0]\n",
    "    p, s = sentiment_parameters_Pattern(review)\n",
    "    score.append(float(df.iloc[i, 2]))\n",
    "    polarity_Pattern.append(p)\n",
    "    subjectivity_Pattern.append(s)"
   ]
  },
  {
   "cell_type": "code",
   "execution_count": 7,
   "metadata": {},
   "outputs": [],
   "source": [
    "data_story = {'Review': df['Description'], 'Rating': score, \n",
    "              'Polarity_Pattern': polarity_Pattern, \n",
    "              'Subjectivity_Pattern': subjectivity_Pattern}\n",
    "df_story = pd.DataFrame(data_story)"
   ]
  },
  {
   "cell_type": "code",
   "execution_count": 8,
   "metadata": {},
   "outputs": [
    {
     "data": {
      "text/html": [
       "<div>\n",
       "<style scoped>\n",
       "    .dataframe tbody tr th:only-of-type {\n",
       "        vertical-align: middle;\n",
       "    }\n",
       "\n",
       "    .dataframe tbody tr th {\n",
       "        vertical-align: top;\n",
       "    }\n",
       "\n",
       "    .dataframe thead th {\n",
       "        text-align: right;\n",
       "    }\n",
       "</style>\n",
       "<table border=\"1\" class=\"dataframe\">\n",
       "  <thead>\n",
       "    <tr style=\"text-align: right;\">\n",
       "      <th></th>\n",
       "      <th>Review</th>\n",
       "      <th>Rating</th>\n",
       "      <th>Polarity_Pattern</th>\n",
       "      <th>Subjectivity_Pattern</th>\n",
       "    </tr>\n",
       "  </thead>\n",
       "  <tbody>\n",
       "    <tr>\n",
       "      <th>0</th>\n",
       "      <td>$6.50 for a turmeric matcha seems a bit steep ...</td>\n",
       "      <td>3.0</td>\n",
       "      <td>0.142308</td>\n",
       "      <td>0.411722</td>\n",
       "    </tr>\n",
       "    <tr>\n",
       "      <th>1</th>\n",
       "      <td>It's not a far cry to say it's one of my favor...</td>\n",
       "      <td>5.0</td>\n",
       "      <td>0.265385</td>\n",
       "      <td>0.661538</td>\n",
       "    </tr>\n",
       "    <tr>\n",
       "      <th>2</th>\n",
       "      <td>This place is fantastic - for coffee, toast, a...</td>\n",
       "      <td>5.0</td>\n",
       "      <td>0.531685</td>\n",
       "      <td>0.801014</td>\n",
       "    </tr>\n",
       "    <tr>\n",
       "      <th>3</th>\n",
       "      <td>Stopped in on our way out of San Fran because ...</td>\n",
       "      <td>4.0</td>\n",
       "      <td>0.288333</td>\n",
       "      <td>0.631667</td>\n",
       "    </tr>\n",
       "    <tr>\n",
       "      <th>4</th>\n",
       "      <td>Cute very friendly coffee shop on Divis. I got...</td>\n",
       "      <td>5.0</td>\n",
       "      <td>0.449643</td>\n",
       "      <td>0.675714</td>\n",
       "    </tr>\n",
       "  </tbody>\n",
       "</table>\n",
       "</div>"
      ],
      "text/plain": [
       "                                              Review  Rating  \\\n",
       "0  $6.50 for a turmeric matcha seems a bit steep ...     3.0   \n",
       "1  It's not a far cry to say it's one of my favor...     5.0   \n",
       "2  This place is fantastic - for coffee, toast, a...     5.0   \n",
       "3  Stopped in on our way out of San Fran because ...     4.0   \n",
       "4  Cute very friendly coffee shop on Divis. I got...     5.0   \n",
       "\n",
       "   Polarity_Pattern  Subjectivity_Pattern  \n",
       "0          0.142308              0.411722  \n",
       "1          0.265385              0.661538  \n",
       "2          0.531685              0.801014  \n",
       "3          0.288333              0.631667  \n",
       "4          0.449643              0.675714  "
      ]
     },
     "execution_count": 8,
     "metadata": {},
     "output_type": "execute_result"
    }
   ],
   "source": [
    "df_story.head()"
   ]
  },
  {
   "cell_type": "code",
   "execution_count": 9,
   "metadata": {},
   "outputs": [
    {
     "name": "stdout",
     "output_type": "stream",
     "text": [
      "<class 'pandas.core.frame.DataFrame'>\n",
      "RangeIndex: 1376 entries, 0 to 1375\n",
      "Data columns (total 4 columns):\n",
      "Review                  1376 non-null object\n",
      "Rating                  1376 non-null float64\n",
      "Polarity_Pattern        1376 non-null float64\n",
      "Subjectivity_Pattern    1376 non-null float64\n",
      "dtypes: float64(3), object(1)\n",
      "memory usage: 43.1+ KB\n"
     ]
    }
   ],
   "source": [
    "df_story.info()"
   ]
  },
  {
   "cell_type": "code",
   "execution_count": 10,
   "metadata": {},
   "outputs": [
    {
     "name": "stderr",
     "output_type": "stream",
     "text": [
      "/Users/daniela/anaconda3/lib/python3.7/site-packages/scipy/stats/stats.py:1713: FutureWarning: Using a non-tuple sequence for multidimensional indexing is deprecated; use `arr[tuple(seq)]` instead of `arr[seq]`. In the future this will be interpreted as an array index, `arr[np.array(seq)]`, which will result either in an error or a different result.\n",
      "  return np.add.reduce(sorted[indexer] * weights, axis=axis) / sumval\n"
     ]
    },
    {
     "data": {
      "text/plain": [
       "<seaborn.axisgrid.JointGrid at 0x1a19eb1ef0>"
      ]
     },
     "execution_count": 10,
     "metadata": {},
     "output_type": "execute_result"
    },
    {
     "data": {
      "image/png": "[encoded data removed]",
      "text/plain": [
       "<Figure size 432x432 with 3 Axes>"
      ]
     },
     "metadata": {},
     "output_type": "display_data"
    }
   ],
   "source": [
    "sns.set(style=\"ticks\")\n",
    "\n",
    "sns.jointplot(x='Polarity_Pattern', y='Subjectivity_Pattern', \n",
    "              data=df_story, kind='reg',\n",
    "              marginal_kws=dict(bins=10, rug=True),\n",
    "              color='#2851c1')"
   ]
  },
  {
   "cell_type": "markdown",
   "metadata": {},
   "source": [
    "Questions:\n",
    "\n",
    "1. There is a strong relationships between polarity and subjectivity data?: check!\n",
    "2. in that case, this relation is the same that in the subset got by API? Is the info from API representative of the reality?: check!\n",
    "3. Test law of primacy in persuasion: check!\n",
    "4. Polarity in yelp reviews and blogs: check!\n",
    "5. How much affect bad rankings to new people try the store?\n",
    "\n",
    "\n",
    "3. X2 test of frecuency of topics (use LDA or TFDI?) in process"
   ]
  },
  {
   "cell_type": "markdown",
   "metadata": {},
   "source": [
    "1. Data story suggested that could have a relation between polarity and subjectivity of reviews. Now, we do a correlation test, using the pearson coefficient and a level of significance of 0.05, using all yelp reviews scrapped. To do so, we permute one variable and fix the another, starting the permutation of the polarity pattern 10000 times."
   ]
  },
  {
   "cell_type": "code",
   "execution_count": 67,
   "metadata": {},
   "outputs": [],
   "source": [
    "alpha = 0.05\n",
    "a, b = np.polyfit(df_story['Polarity_Pattern'], df_story['Subjectivity_Pattern'], 1)"
   ]
  },
  {
   "cell_type": "code",
   "execution_count": 68,
   "metadata": {},
   "outputs": [],
   "source": [
    "def pearson_r(x, y):\n",
    "    \"\"\"Compute Pearson correlation coefficient between two arrays.\"\"\"\n",
    "    # Compute correlation matrix: corr_mat\n",
    "    corr_mat = np.corrcoef(x,y)\n",
    "    # Return entry [0,1]\n",
    "    return corr_mat[0,1]"
   ]
  },
  {
   "cell_type": "code",
   "execution_count": 69,
   "metadata": {},
   "outputs": [
    {
     "data": {
      "text/plain": [
       "0.41127308127861395"
      ]
     },
     "execution_count": 69,
     "metadata": {},
     "output_type": "execute_result"
    }
   ],
   "source": [
    "p_obs = pearson_r(df_story['Polarity_Pattern'], df_story['Subjectivity_Pattern'])\n",
    "p_obs"
   ]
  },
  {
   "cell_type": "code",
   "execution_count": 70,
   "metadata": {},
   "outputs": [],
   "source": [
    "size = 10000\n",
    "person_replicates = np.empty(size)\n",
    "for i in range(size):\n",
    "    polarity_perm = np.random.permutation(df_story['Polarity_Pattern'])\n",
    "    person_replicates[i] = pearson_r(polarity_perm, df_story['Subjectivity_Pattern'])"
   ]
  },
  {
   "cell_type": "code",
   "execution_count": 71,
   "metadata": {},
   "outputs": [
    {
     "data": {
      "text/plain": [
       "0.0"
      ]
     },
     "execution_count": 71,
     "metadata": {},
     "output_type": "execute_result"
    }
   ],
   "source": [
    "p_value = np.sum(person_replicates >= p_obs)/size\n",
    "p_value"
   ]
  },
  {
   "cell_type": "code",
   "execution_count": 72,
   "metadata": {},
   "outputs": [
    {
     "name": "stdout",
     "output_type": "stream",
     "text": [
      "Reject the null hypothesis\n"
     ]
    }
   ],
   "source": [
    "if p_value >= alpha:\n",
    "    print('Fail to reject the null hypothesis')\n",
    "else:\n",
    "    print('Reject the null hypothesis')"
   ]
  },
  {
   "cell_type": "markdown",
   "metadata": {},
   "source": [
    "We repeat the test permuting the subjectivity coefficients"
   ]
  },
  {
   "cell_type": "code",
   "execution_count": 73,
   "metadata": {},
   "outputs": [],
   "source": [
    "person_replicates = np.empty(size)\n",
    "for i in range(size):\n",
    "    subjectivity_perm = np.random.permutation(df_story['Subjectivity_Pattern'])\n",
    "    person_replicates[i] = pearson_r(df_story['Polarity_Pattern'], subjectivity_perm)"
   ]
  },
  {
   "cell_type": "code",
   "execution_count": 74,
   "metadata": {},
   "outputs": [
    {
     "data": {
      "text/plain": [
       "array([ 0.01552102,  0.03719497, -0.01144009, ...,  0.06035392,\n",
       "        0.048825  , -0.01992741])"
      ]
     },
     "execution_count": 74,
     "metadata": {},
     "output_type": "execute_result"
    }
   ],
   "source": [
    "person_replicates"
   ]
  },
  {
   "cell_type": "code",
   "execution_count": 75,
   "metadata": {},
   "outputs": [
    {
     "data": {
      "text/plain": [
       "0.0"
      ]
     },
     "execution_count": 75,
     "metadata": {},
     "output_type": "execute_result"
    }
   ],
   "source": [
    "p_value = np.sum(person_replicates >= p_obs)/size\n",
    "p_value"
   ]
  },
  {
   "cell_type": "code",
   "execution_count": 76,
   "metadata": {},
   "outputs": [
    {
     "name": "stdout",
     "output_type": "stream",
     "text": [
      "Reject the null hypothesis\n"
     ]
    }
   ],
   "source": [
    "if p_value >= alpha:\n",
    "    print('Fail to reject the null hypothesis')\n",
    "else:\n",
    "    print('Reject the null hypothesis')"
   ]
  },
  {
   "cell_type": "code",
   "execution_count": 77,
   "metadata": {},
   "outputs": [],
   "source": [
    "person_replicates = np.empty(size)\n",
    "for i in range(size):\n",
    "    subjectivity_perm = np.random.permutation(df_story['Subjectivity_Pattern'])\n",
    "    polarity_perm = np.random.permutation(df_story['Polarity_Pattern'])\n",
    "    person_replicates[i] = pearson_r(polarity_perm, subjectivity_perm)"
   ]
  },
  {
   "cell_type": "code",
   "execution_count": 78,
   "metadata": {},
   "outputs": [
    {
     "data": {
      "text/plain": [
       "0.0"
      ]
     },
     "execution_count": 78,
     "metadata": {},
     "output_type": "execute_result"
    }
   ],
   "source": [
    "p_value = np.sum(person_replicates >= p_obs)/size\n",
    "p_value"
   ]
  },
  {
   "cell_type": "code",
   "execution_count": 79,
   "metadata": {},
   "outputs": [
    {
     "name": "stdout",
     "output_type": "stream",
     "text": [
      "Reject the null hypothesis\n"
     ]
    }
   ],
   "source": [
    "if p_value >= alpha:\n",
    "    print('Fail to reject the null hypothesis')\n",
    "else:\n",
    "    print('Reject the null hypothesis')"
   ]
  },
  {
   "cell_type": "markdown",
   "metadata": {},
   "source": [
    "In all case we reject the null hypothesis, that means the relation between the groups could be just a chance, because after 10000 trials, we did not get any pearson coefficient more or equalt to the previous statistic. We have strong evidence to suggest the behavior observed is not statistically significant."
   ]
  },
  {
   "cell_type": "markdown",
   "metadata": {},
   "source": [
    "2. Compare data from API and scrapping, and blogs (polarity and subjectity)"
   ]
  },
  {
   "cell_type": "code",
   "execution_count": 80,
   "metadata": {},
   "outputs": [],
   "source": [
    "df1 = pd.read_csv('../Data_Extraction/Reviews/reviews_yelp_api.csv', usecols=['Name', 'Rating','Description'])"
   ]
  },
  {
   "cell_type": "code",
   "execution_count": 84,
   "metadata": {},
   "outputs": [],
   "source": [
    "id_coffee = []\n",
    "coffee_store = []\n",
    "rating = []\n",
    "review = []\n",
    "polarity_Pattern = []\n",
    "subjectivity_Pattern = []"
   ]
  },
  {
   "cell_type": "code",
   "execution_count": 85,
   "metadata": {},
   "outputs": [],
   "source": [
    "for i in range(df1.shape[0]):\n",
    "    data = df1.iloc[i, 2]\n",
    "    paragrahp = data.split('.')\n",
    "    paragrahp = [sentence.strip() for sentence in paragrahp]\n",
    "    for sentence in paragrahp:\n",
    "        p, s = sentiment_parameters_Pattern(sentence)\n",
    "        id_coffee.append(i)\n",
    "        coffee_store.append(df1.iloc[i, 0])\n",
    "        rating.append(df1.iloc[i, 1])\n",
    "        review.append(sentence)\n",
    "        polarity_Pattern.append(p)\n",
    "        subjectivity_Pattern.append(s)"
   ]
  },
  {
   "cell_type": "code",
   "execution_count": 86,
   "metadata": {},
   "outputs": [],
   "source": [
    "data_story = {'id': id_coffee, 'Coffee': coffee_store, 'Review': review, 'Rating': rating, 'Polarity_Pattern': polarity_Pattern, 'Subjectivity_Pattern': subjectivity_Pattern}\n",
    "df1_story = pd.DataFrame(data_story)"
   ]
  },
  {
   "cell_type": "code",
   "execution_count": 88,
   "metadata": {},
   "outputs": [],
   "source": [
    "df1_story = df1_story[df1_story['Review']!= '']\n",
    "df1_story['Review'] = [re.sub(r'[^a-zA-Z\\s]','', sentence.lower()) for sentence in df1_story['Review']]"
   ]
  },
  {
   "cell_type": "code",
   "execution_count": 89,
   "metadata": {},
   "outputs": [],
   "source": [
    "df_story_filtered = df1_story[df1_story['Review']!= '']"
   ]
  },
  {
   "cell_type": "code",
   "execution_count": 90,
   "metadata": {},
   "outputs": [
    {
     "data": {
      "text/html": [
       "<div>\n",
       "<style scoped>\n",
       "    .dataframe tbody tr th:only-of-type {\n",
       "        vertical-align: middle;\n",
       "    }\n",
       "\n",
       "    .dataframe tbody tr th {\n",
       "        vertical-align: top;\n",
       "    }\n",
       "\n",
       "    .dataframe thead th {\n",
       "        text-align: right;\n",
       "    }\n",
       "</style>\n",
       "<table border=\"1\" class=\"dataframe\">\n",
       "  <thead>\n",
       "    <tr style=\"text-align: right;\">\n",
       "      <th></th>\n",
       "      <th>id</th>\n",
       "      <th>Coffee</th>\n",
       "      <th>Review</th>\n",
       "      <th>Rating</th>\n",
       "      <th>Polarity_Pattern</th>\n",
       "      <th>Subjectivity_Pattern</th>\n",
       "    </tr>\n",
       "  </thead>\n",
       "  <tbody>\n",
       "    <tr>\n",
       "      <th>0</th>\n",
       "      <td>0</td>\n",
       "      <td>Four Barrel Coffee</td>\n",
       "      <td>in love with the look and vibes here at four b...</td>\n",
       "      <td>4.0</td>\n",
       "      <td>0.500000</td>\n",
       "      <td>0.600000</td>\n",
       "    </tr>\n",
       "    <tr>\n",
       "      <th>1</th>\n",
       "      <td>0</td>\n",
       "      <td>Four Barrel Coffee</td>\n",
       "      <td>big bar for you to order when you walk into th...</td>\n",
       "      <td>4.0</td>\n",
       "      <td>0.000000</td>\n",
       "      <td>0.100000</td>\n",
       "    </tr>\n",
       "    <tr>\n",
       "      <th>2</th>\n",
       "      <td>0</td>\n",
       "      <td>Four Barrel Coffee</td>\n",
       "      <td>theres a smaller station off to the side and</td>\n",
       "      <td>4.0</td>\n",
       "      <td>0.000000</td>\n",
       "      <td>0.500000</td>\n",
       "    </tr>\n",
       "    <tr>\n",
       "      <th>5</th>\n",
       "      <td>0</td>\n",
       "      <td>Four Barrel Coffee</td>\n",
       "      <td>amazing coffee</td>\n",
       "      <td>4.0</td>\n",
       "      <td>0.600000</td>\n",
       "      <td>0.900000</td>\n",
       "    </tr>\n",
       "    <tr>\n",
       "      <th>6</th>\n",
       "      <td>0</td>\n",
       "      <td>Four Barrel Coffee</td>\n",
       "      <td>but so so so freaking busy all the time and re...</td>\n",
       "      <td>4.0</td>\n",
       "      <td>0.133333</td>\n",
       "      <td>0.333333</td>\n",
       "    </tr>\n",
       "    <tr>\n",
       "      <th>7</th>\n",
       "      <td>0</td>\n",
       "      <td>Four Barrel Coffee</td>\n",
       "      <td>nnthis place is huge  but its so crowded</td>\n",
       "      <td>4.0</td>\n",
       "      <td>0.400000</td>\n",
       "      <td>0.900000</td>\n",
       "    </tr>\n",
       "    <tr>\n",
       "      <th>10</th>\n",
       "      <td>0</td>\n",
       "      <td>Four Barrel Coffee</td>\n",
       "      <td>great vibe</td>\n",
       "      <td>4.0</td>\n",
       "      <td>0.800000</td>\n",
       "      <td>0.750000</td>\n",
       "    </tr>\n",
       "    <tr>\n",
       "      <th>11</th>\n",
       "      <td>0</td>\n",
       "      <td>Four Barrel Coffee</td>\n",
       "      <td>we love the decor and the environment created ...</td>\n",
       "      <td>4.0</td>\n",
       "      <td>0.500000</td>\n",
       "      <td>0.600000</td>\n",
       "    </tr>\n",
       "    <tr>\n",
       "      <th>12</th>\n",
       "      <td>0</td>\n",
       "      <td>Four Barrel Coffee</td>\n",
       "      <td>nncoffee was perfect done with professionalism...</td>\n",
       "      <td>4.0</td>\n",
       "      <td>0.406250</td>\n",
       "      <td>0.750000</td>\n",
       "    </tr>\n",
       "    <tr>\n",
       "      <th>16</th>\n",
       "      <td>1</td>\n",
       "      <td>Réveille Coffee Co.</td>\n",
       "      <td>love the vibe in this cozy little space its ch...</td>\n",
       "      <td>4.0</td>\n",
       "      <td>0.066406</td>\n",
       "      <td>0.537500</td>\n",
       "    </tr>\n",
       "  </tbody>\n",
       "</table>\n",
       "</div>"
      ],
      "text/plain": [
       "    id               Coffee  \\\n",
       "0    0   Four Barrel Coffee   \n",
       "1    0   Four Barrel Coffee   \n",
       "2    0   Four Barrel Coffee   \n",
       "5    0   Four Barrel Coffee   \n",
       "6    0   Four Barrel Coffee   \n",
       "7    0   Four Barrel Coffee   \n",
       "10   0   Four Barrel Coffee   \n",
       "11   0   Four Barrel Coffee   \n",
       "12   0   Four Barrel Coffee   \n",
       "16   1  Réveille Coffee Co.   \n",
       "\n",
       "                                               Review  Rating  \\\n",
       "0   in love with the look and vibes here at four b...     4.0   \n",
       "1   big bar for you to order when you walk into th...     4.0   \n",
       "2        theres a smaller station off to the side and     4.0   \n",
       "5                                      amazing coffee     4.0   \n",
       "6   but so so so freaking busy all the time and re...     4.0   \n",
       "7            nnthis place is huge  but its so crowded     4.0   \n",
       "10                                         great vibe     4.0   \n",
       "11  we love the decor and the environment created ...     4.0   \n",
       "12  nncoffee was perfect done with professionalism...     4.0   \n",
       "16  love the vibe in this cozy little space its ch...     4.0   \n",
       "\n",
       "    Polarity_Pattern  Subjectivity_Pattern  \n",
       "0           0.500000              0.600000  \n",
       "1           0.000000              0.100000  \n",
       "2           0.000000              0.500000  \n",
       "5           0.600000              0.900000  \n",
       "6           0.133333              0.333333  \n",
       "7           0.400000              0.900000  \n",
       "10          0.800000              0.750000  \n",
       "11          0.500000              0.600000  \n",
       "12          0.406250              0.750000  \n",
       "16          0.066406              0.537500  "
      ]
     },
     "execution_count": 90,
     "metadata": {},
     "output_type": "execute_result"
    }
   ],
   "source": [
    "df_story_filtered.head(10)"
   ]
  },
  {
   "cell_type": "code",
   "execution_count": 91,
   "metadata": {},
   "outputs": [
    {
     "name": "stdout",
     "output_type": "stream",
     "text": [
      "<class 'pandas.core.frame.DataFrame'>\n",
      "Int64Index: 369 entries, 0 to 729\n",
      "Data columns (total 6 columns):\n",
      "id                      369 non-null int64\n",
      "Coffee                  369 non-null object\n",
      "Review                  369 non-null object\n",
      "Rating                  369 non-null float64\n",
      "Polarity_Pattern        369 non-null float64\n",
      "Subjectivity_Pattern    369 non-null float64\n",
      "dtypes: float64(3), int64(1), object(2)\n",
      "memory usage: 20.2+ KB\n"
     ]
    }
   ],
   "source": [
    "df_story_filtered.info()"
   ]
  },
  {
   "cell_type": "code",
   "execution_count": 95,
   "metadata": {},
   "outputs": [],
   "source": [
    "df_append = result = df_story.append(df_story_filtered, sort=False)"
   ]
  },
  {
   "cell_type": "code",
   "execution_count": 96,
   "metadata": {},
   "outputs": [
    {
     "name": "stdout",
     "output_type": "stream",
     "text": [
      "<class 'pandas.core.frame.DataFrame'>\n",
      "Int64Index: 1745 entries, 0 to 729\n",
      "Data columns (total 6 columns):\n",
      "Review                  1745 non-null object\n",
      "Rating                  1745 non-null float64\n",
      "Polarity_Pattern        1745 non-null float64\n",
      "Subjectivity_Pattern    1745 non-null float64\n",
      "id                      369 non-null float64\n",
      "Coffee                  369 non-null object\n",
      "dtypes: float64(4), object(2)\n",
      "memory usage: 95.4+ KB\n"
     ]
    }
   ],
   "source": [
    "df_append.info()"
   ]
  },
  {
   "cell_type": "code",
   "execution_count": 101,
   "metadata": {},
   "outputs": [
    {
     "data": {
      "text/plain": [
       "1744"
      ]
     },
     "execution_count": 101,
     "metadata": {},
     "output_type": "execute_result"
    }
   ],
   "source": [
    "len(df_append['Review'].unique())"
   ]
  },
  {
   "cell_type": "code",
   "execution_count": 109,
   "metadata": {},
   "outputs": [],
   "source": [
    "size1 = len(df_story_filtered['Polarity_Pattern'])"
   ]
  },
  {
   "cell_type": "code",
   "execution_count": 122,
   "metadata": {},
   "outputs": [],
   "source": [
    "def bootstrap_replicate_1d(data, size):\n",
    "    np.random.seed(42)\n",
    "    return np.random.choice(data, size=size)"
   ]
  },
  {
   "cell_type": "code",
   "execution_count": 128,
   "metadata": {},
   "outputs": [],
   "source": [
    "#polarity_scrap = bootstrap_replicate_1d(df_story['Polarity_Pattern'], size1)\n",
    "#pearson_r(polarity_scrap, df_story_filtered['Polarity_Pattern'])"
   ]
  },
  {
   "cell_type": "code",
   "execution_count": 140,
   "metadata": {},
   "outputs": [
    {
     "name": "stdout",
     "output_type": "stream",
     "text": [
      "API source: mean_api=0.203, std_api=0.326451\n",
      "Scrapping source: mean_scrapping=0.265, std_scrapping=0.180920\n"
     ]
    }
   ],
   "source": [
    "mean_distrib_api = np.mean(df_story_filtered['Polarity_Pattern'])\n",
    "std_distrib_api = np.std(df_story_filtered['Polarity_Pattern'], ddof=1)\n",
    "\n",
    "mean_distrib_scrap = np.mean(df_story['Polarity_Pattern'])\n",
    "std_distrib_scrap = np.std(df_story['Polarity_Pattern'], ddof=1)\n",
    "\n",
    "print('API source: mean_api=%.3f, std_api=%3f'%(mean_distrib_api, std_distrib_api))\n",
    "print('Scrapping source: mean_scrapping=%.3f, std_scrapping=%3f'%(mean_distrib_scrap, std_distrib_scrap))"
   ]
  },
  {
   "cell_type": "code",
   "execution_count": 130,
   "metadata": {},
   "outputs": [
    {
     "data": {
      "text/plain": [
       "0.26483949070466606"
      ]
     },
     "execution_count": 130,
     "metadata": {},
     "output_type": "execute_result"
    }
   ],
   "source": [
    "np.mean(df_story['Polarity_Pattern'])"
   ]
  },
  {
   "cell_type": "code",
   "execution_count": 170,
   "metadata": {},
   "outputs": [
    {
     "data": {
      "image/png": "[encoded data removed]",
      "text/plain": [
       "<Figure size 432x288 with 1 Axes>"
      ]
     },
     "metadata": {},
     "output_type": "display_data"
    }
   ],
   "source": [
    "_ = sns.set_style(\"white\")\n",
    "_ = sns.distplot(df_story_filtered['Polarity_Pattern'], hist=True, kde=False, norm_hist=True, bins=10, color='teal')\n",
    "_ = sns.distplot(df_story['Polarity_Pattern'], hist=True, kde=False, norm_hist=True, bins=10)\n",
    "_ = sns.despine(offset=10, trim=True)"
   ]
  },
  {
   "cell_type": "code",
   "execution_count": 183,
   "metadata": {},
   "outputs": [],
   "source": [
    "polarity_scrap = bootstrap_replicate_1d(df_story['Polarity_Pattern'], size1)\n",
    "ttest, pval = ttest_rel(polarity_scrap, df_story_filtered['Polarity_Pattern'])"
   ]
  },
  {
   "cell_type": "code",
   "execution_count": 184,
   "metadata": {},
   "outputs": [
    {
     "data": {
      "text/plain": [
       "(3.376546704188567, 0.0008123430475733993)"
      ]
     },
     "execution_count": 184,
     "metadata": {},
     "output_type": "execute_result"
    }
   ],
   "source": [
    "ttest, pval"
   ]
  },
  {
   "cell_type": "code",
   "execution_count": 182,
   "metadata": {},
   "outputs": [
    {
     "name": "stdout",
     "output_type": "stream",
     "text": [
      "Reject the null hypothesis\n"
     ]
    }
   ],
   "source": [
    "if pval >= alpha:\n",
    "    print('Fail to reject the null hypothesis')\n",
    "else:\n",
    "    print('Reject the null hypothesis')"
   ]
  },
  {
   "cell_type": "markdown",
   "metadata": {},
   "source": [
    "3. Test law of primacy in persuasion"
   ]
  },
  {
   "cell_type": "code",
   "execution_count": 375,
   "metadata": {},
   "outputs": [],
   "source": [
    "df_score = df_story[df_story['Review'] != 'None']"
   ]
  },
  {
   "cell_type": "code",
   "execution_count": 376,
   "metadata": {},
   "outputs": [],
   "source": [
    "df_reviews_score = df_score[['Review','Rating']].reset_index()"
   ]
  },
  {
   "cell_type": "code",
   "execution_count": 377,
   "metadata": {},
   "outputs": [
    {
     "data": {
      "text/html": [
       "<div>\n",
       "<style scoped>\n",
       "    .dataframe tbody tr th:only-of-type {\n",
       "        vertical-align: middle;\n",
       "    }\n",
       "\n",
       "    .dataframe tbody tr th {\n",
       "        vertical-align: top;\n",
       "    }\n",
       "\n",
       "    .dataframe thead th {\n",
       "        text-align: right;\n",
       "    }\n",
       "</style>\n",
       "<table border=\"1\" class=\"dataframe\">\n",
       "  <thead>\n",
       "    <tr style=\"text-align: right;\">\n",
       "      <th></th>\n",
       "      <th>index</th>\n",
       "      <th>Review</th>\n",
       "      <th>Rating</th>\n",
       "    </tr>\n",
       "  </thead>\n",
       "  <tbody>\n",
       "    <tr>\n",
       "      <th>0</th>\n",
       "      <td>0</td>\n",
       "      <td>$6.50 for a turmeric matcha seems a bit steep ...</td>\n",
       "      <td>3.0</td>\n",
       "    </tr>\n",
       "    <tr>\n",
       "      <th>1</th>\n",
       "      <td>1</td>\n",
       "      <td>It's not a far cry to say it's one of my favor...</td>\n",
       "      <td>5.0</td>\n",
       "    </tr>\n",
       "    <tr>\n",
       "      <th>2</th>\n",
       "      <td>2</td>\n",
       "      <td>This place is fantastic - for coffee, toast, a...</td>\n",
       "      <td>5.0</td>\n",
       "    </tr>\n",
       "    <tr>\n",
       "      <th>3</th>\n",
       "      <td>3</td>\n",
       "      <td>Stopped in on our way out of San Fran because ...</td>\n",
       "      <td>4.0</td>\n",
       "    </tr>\n",
       "    <tr>\n",
       "      <th>4</th>\n",
       "      <td>4</td>\n",
       "      <td>Cute very friendly coffee shop on Divis. I got...</td>\n",
       "      <td>5.0</td>\n",
       "    </tr>\n",
       "  </tbody>\n",
       "</table>\n",
       "</div>"
      ],
      "text/plain": [
       "   index                                             Review  Rating\n",
       "0      0  $6.50 for a turmeric matcha seems a bit steep ...     3.0\n",
       "1      1  It's not a far cry to say it's one of my favor...     5.0\n",
       "2      2  This place is fantastic - for coffee, toast, a...     5.0\n",
       "3      3  Stopped in on our way out of San Fran because ...     4.0\n",
       "4      4  Cute very friendly coffee shop on Divis. I got...     5.0"
      ]
     },
     "execution_count": 377,
     "metadata": {},
     "output_type": "execute_result"
    }
   ],
   "source": [
    "df_reviews_score.head()"
   ]
  },
  {
   "cell_type": "code",
   "execution_count": 378,
   "metadata": {},
   "outputs": [],
   "source": [
    "n_review, rating, position, subjectivity, polarity, category = [], [], [], [], [], []\n",
    "\n",
    "for i in range(df_reviews_score.shape[0]):\n",
    "    paragrahp = df_reviews_score['Review'][i].split('.')[:-1]\n",
    "    k = 1\n",
    "    n = i\n",
    "    for sentence in paragrahp:\n",
    "        p, s = sentiment_parameters_Pattern(sentence)\n",
    "        r = df_reviews_score['Rating'][i]\n",
    "        n_review.append(n)\n",
    "        rating.append(r)\n",
    "        position.append(k)\n",
    "        subjectivity.append(s)\n",
    "        polarity.append(p)\n",
    "        threshold = len(paragrahp)/2\n",
    "        if threshold%2 == 0: #par\n",
    "            if k <= threshold:\n",
    "                c = 'A'\n",
    "            else:\n",
    "                c = 'B'\n",
    "        else:\n",
    "            if k < np.ceil(threshold):\n",
    "                c = 'A'\n",
    "            elif k > np.ceil(threshold):\n",
    "                c = 'B'\n",
    "            else:\n",
    "                c = 0\n",
    "        category.append(c)\n",
    "        k +=1"
   ]
  },
  {
   "cell_type": "code",
   "execution_count": 379,
   "metadata": {},
   "outputs": [],
   "source": [
    "data_story2 = pd.DataFrame({'no_review': n_review, 'rating': rating, \n",
    "              'position': position, 'subjectivity': subjectivity, \n",
    "              'polarity': polarity, 'category': category})"
   ]
  },
  {
   "cell_type": "code",
   "execution_count": 380,
   "metadata": {},
   "outputs": [
    {
     "data": {
      "text/html": [
       "<div>\n",
       "<style scoped>\n",
       "    .dataframe tbody tr th:only-of-type {\n",
       "        vertical-align: middle;\n",
       "    }\n",
       "\n",
       "    .dataframe tbody tr th {\n",
       "        vertical-align: top;\n",
       "    }\n",
       "\n",
       "    .dataframe thead th {\n",
       "        text-align: right;\n",
       "    }\n",
       "</style>\n",
       "<table border=\"1\" class=\"dataframe\">\n",
       "  <thead>\n",
       "    <tr style=\"text-align: right;\">\n",
       "      <th></th>\n",
       "      <th>rating</th>\n",
       "      <th>position</th>\n",
       "      <th>subjectivity</th>\n",
       "      <th>polarity</th>\n",
       "      <th>category</th>\n",
       "    </tr>\n",
       "    <tr>\n",
       "      <th>no_review</th>\n",
       "      <th></th>\n",
       "      <th></th>\n",
       "      <th></th>\n",
       "      <th></th>\n",
       "      <th></th>\n",
       "    </tr>\n",
       "  </thead>\n",
       "  <tbody>\n",
       "    <tr>\n",
       "      <th>0</th>\n",
       "      <td>3.0</td>\n",
       "      <td>1</td>\n",
       "      <td>0.0</td>\n",
       "      <td>0.0</td>\n",
       "      <td>A</td>\n",
       "    </tr>\n",
       "    <tr>\n",
       "      <th>0</th>\n",
       "      <td>3.0</td>\n",
       "      <td>2</td>\n",
       "      <td>0.0</td>\n",
       "      <td>0.0</td>\n",
       "      <td>A</td>\n",
       "    </tr>\n",
       "    <tr>\n",
       "      <th>0</th>\n",
       "      <td>3.0</td>\n",
       "      <td>3</td>\n",
       "      <td>0.0</td>\n",
       "      <td>0.0</td>\n",
       "      <td>A</td>\n",
       "    </tr>\n",
       "    <tr>\n",
       "      <th>0</th>\n",
       "      <td>3.0</td>\n",
       "      <td>4</td>\n",
       "      <td>0.0</td>\n",
       "      <td>0.0</td>\n",
       "      <td>A</td>\n",
       "    </tr>\n",
       "    <tr>\n",
       "      <th>0</th>\n",
       "      <td>3.0</td>\n",
       "      <td>5</td>\n",
       "      <td>0.0</td>\n",
       "      <td>0.0</td>\n",
       "      <td>0</td>\n",
       "    </tr>\n",
       "  </tbody>\n",
       "</table>\n",
       "</div>"
      ],
      "text/plain": [
       "           rating  position  subjectivity  polarity category\n",
       "no_review                                                   \n",
       "0             3.0         1           0.0       0.0        A\n",
       "0             3.0         2           0.0       0.0        A\n",
       "0             3.0         3           0.0       0.0        A\n",
       "0             3.0         4           0.0       0.0        A\n",
       "0             3.0         5           0.0       0.0        0"
      ]
     },
     "execution_count": 380,
     "metadata": {},
     "output_type": "execute_result"
    }
   ],
   "source": [
    "data_story2.set_index('no_review').head()"
   ]
  },
  {
   "cell_type": "code",
   "execution_count": 422,
   "metadata": {},
   "outputs": [],
   "source": [
    "negative_data = data_story2[data_story2['rating'] < 3]\n",
    "positive_data = data_story2[data_story2['rating'] > 3]\n",
    "neutral_data = data_story2[data_story2['rating'] == 3]"
   ]
  },
  {
   "cell_type": "code",
   "execution_count": 423,
   "metadata": {},
   "outputs": [],
   "source": [
    "n_A = negative_data[negative_data['category'] == 'A']\n",
    "n_B = negative_data[negative_data['category'] == 'B']"
   ]
  },
  {
   "cell_type": "code",
   "execution_count": 424,
   "metadata": {},
   "outputs": [
    {
     "data": {
      "image/png": "[encoded data removed]",
      "text/plain": [
       "<Figure size 432x288 with 1 Axes>"
      ]
     },
     "metadata": {},
     "output_type": "display_data"
    }
   ],
   "source": [
    "_ = sns.set_style(\"white\")\n",
    "_ = sns.distplot(n_A['polarity'], hist=True, kde=False, norm_hist=True, bins=7, color='teal')\n",
    "_ = sns.despine(offset=10, trim=True)"
   ]
  },
  {
   "cell_type": "code",
   "execution_count": 425,
   "metadata": {},
   "outputs": [
    {
     "data": {
      "image/png": "[encoded data removed]",
      "text/plain": [
       "<Figure size 432x288 with 1 Axes>"
      ]
     },
     "metadata": {},
     "output_type": "display_data"
    }
   ],
   "source": [
    "_ = sns.set_style(\"white\")\n",
    "_ = sns.distplot(n_B['polarity'], hist=True, kde=False, norm_hist=True, bins=7)\n",
    "_ = sns.despine(offset=10, trim=True)"
   ]
  },
  {
   "cell_type": "code",
   "execution_count": 426,
   "metadata": {},
   "outputs": [
    {
     "data": {
      "text/plain": [
       "(-0.9764470384375223, 0.32915205245079004)"
      ]
     },
     "execution_count": 426,
     "metadata": {},
     "output_type": "execute_result"
    }
   ],
   "source": [
    "ttest, pval = ttest_ind(n_A['polarity'], n_B['polarity'])\n",
    "ttest, pval"
   ]
  },
  {
   "cell_type": "code",
   "execution_count": 427,
   "metadata": {},
   "outputs": [
    {
     "data": {
      "text/plain": [
       "0.003738958043839649"
      ]
     },
     "execution_count": 427,
     "metadata": {},
     "output_type": "execute_result"
    }
   ],
   "source": [
    "np.mean(n_A['polarity'])"
   ]
  },
  {
   "cell_type": "code",
   "execution_count": 428,
   "metadata": {},
   "outputs": [
    {
     "data": {
      "text/plain": [
       "0.024221116534020343"
      ]
     },
     "execution_count": 428,
     "metadata": {},
     "output_type": "execute_result"
    }
   ],
   "source": [
    "np.mean(n_B['polarity'])"
   ]
  },
  {
   "cell_type": "code",
   "execution_count": 429,
   "metadata": {},
   "outputs": [
    {
     "data": {
      "text/plain": [
       "(-0.2139955698610744, 0.8306603757164281)"
      ]
     },
     "execution_count": 429,
     "metadata": {},
     "output_type": "execute_result"
    }
   ],
   "source": [
    "boot_data = bootstrap_replicate_1d(n_A['polarity'], len(n_B['polarity']))\n",
    "ttest, pval = ttest_rel(boot_data, n_B['polarity'])\n",
    "ttest, pval"
   ]
  },
  {
   "cell_type": "code",
   "execution_count": 430,
   "metadata": {},
   "outputs": [],
   "source": [
    "diff = np.empty(len(n_B['polarity']))\n",
    "\n",
    "n_B['polarity']-boot_data\n",
    "\n",
    "p_value = np.sum(n_B['polarity']-boot_data >= 0)/len(n_B['polarity'])"
   ]
  },
  {
   "cell_type": "code",
   "execution_count": 431,
   "metadata": {},
   "outputs": [
    {
     "data": {
      "text/plain": [
       "0.5728643216080402"
      ]
     },
     "execution_count": 431,
     "metadata": {},
     "output_type": "execute_result"
    }
   ],
   "source": [
    "p_value"
   ]
  },
  {
   "cell_type": "markdown",
   "metadata": {},
   "source": [
    "Fail to reject the null hipothesis of x1-x2> 0, mean(polarity_category_B) > mean(Polarity_category_A)"
   ]
  },
  {
   "cell_type": "code",
   "execution_count": 432,
   "metadata": {},
   "outputs": [],
   "source": [
    "p_A = positive_data[positive_data['category'] == 'A']\n",
    "p_B = positive_data[positive_data['category'] == 'B']"
   ]
  },
  {
   "cell_type": "code",
   "execution_count": 433,
   "metadata": {},
   "outputs": [
    {
     "data": {
      "image/png": "[encoded data removed]",
      "text/plain": [
       "<Figure size 432x288 with 1 Axes>"
      ]
     },
     "metadata": {},
     "output_type": "display_data"
    }
   ],
   "source": [
    "_ = sns.set_style(\"white\")\n",
    "_ = sns.distplot(p_A['polarity'], hist=True, kde=False, norm_hist=True, bins=7, color='teal')\n",
    "_ = sns.despine(offset=10, trim=True)"
   ]
  },
  {
   "cell_type": "code",
   "execution_count": 434,
   "metadata": {},
   "outputs": [
    {
     "data": {
      "image/png": "[encoded data removed]",
      "text/plain": [
       "<Figure size 432x288 with 1 Axes>"
      ]
     },
     "metadata": {},
     "output_type": "display_data"
    }
   ],
   "source": [
    "_ = sns.set_style(\"white\")\n",
    "_ = sns.distplot(p_B['polarity'], hist=True, kde=False, norm_hist=True, bins=7, color='teal')\n",
    "_ = sns.despine(offset=10, trim=True)"
   ]
  },
  {
   "cell_type": "code",
   "execution_count": 435,
   "metadata": {},
   "outputs": [
    {
     "name": "stdout",
     "output_type": "stream",
     "text": [
      "0.211276416892374 0.2101918509809391\n"
     ]
    }
   ],
   "source": [
    "print(np.mean(p_A['polarity']), np.mean(p_B['polarity']))"
   ]
  },
  {
   "cell_type": "code",
   "execution_count": 444,
   "metadata": {},
   "outputs": [
    {
     "data": {
      "text/plain": [
       "(1.4960565094371119, 0.13472110874159565)"
      ]
     },
     "execution_count": 444,
     "metadata": {},
     "output_type": "execute_result"
    }
   ],
   "source": [
    "boot_data = bootstrap_replicate_1d(p_A['polarity'], len(p_B['polarity']))\n",
    "ttest, pval = ttest_rel(boot_data, p_B['polarity'])\n",
    "ttest, pval"
   ]
  },
  {
   "cell_type": "code",
   "execution_count": 445,
   "metadata": {},
   "outputs": [],
   "source": [
    "diff = np.empty(len(p_B['polarity']))\n",
    "\n",
    "p_B['polarity']-boot_data\n",
    "\n",
    "p_value = np.sum(boot_data - p_B['polarity'] >= 0)/len(p_B['polarity'])"
   ]
  },
  {
   "cell_type": "code",
   "execution_count": 446,
   "metadata": {},
   "outputs": [
    {
     "data": {
      "text/plain": [
       "0.5535016922676387"
      ]
     },
     "execution_count": 446,
     "metadata": {},
     "output_type": "execute_result"
    }
   ],
   "source": [
    "p_value"
   ]
  },
  {
   "cell_type": "markdown",
   "metadata": {},
   "source": [
    "Not conclusive."
   ]
  },
  {
   "cell_type": "code",
   "execution_count": 439,
   "metadata": {},
   "outputs": [],
   "source": [
    "nn_A = neutral_data[neutral_data['category'] == 'A']\n",
    "nn_B = neutral_data[neutral_data['category'] == 'B']"
   ]
  },
  {
   "cell_type": "code",
   "execution_count": 440,
   "metadata": {},
   "outputs": [
    {
     "name": "stdout",
     "output_type": "stream",
     "text": [
      "0.09145420764530328 0.12393242010567963\n"
     ]
    }
   ],
   "source": [
    "print(np.mean(nn_A['polarity']), np.mean(nn_B['polarity']))"
   ]
  },
  {
   "cell_type": "code",
   "execution_count": 441,
   "metadata": {},
   "outputs": [
    {
     "data": {
      "text/plain": [
       "0.08530414861012171"
      ]
     },
     "execution_count": 441,
     "metadata": {},
     "output_type": "execute_result"
    }
   ],
   "source": [
    "boot_data = bootstrap_replicate_1d(nn_A['polarity'], len(nn_B['polarity']))\n",
    "np.mean(boot_data)"
   ]
  },
  {
   "cell_type": "code",
   "execution_count": 442,
   "metadata": {},
   "outputs": [
    {
     "data": {
      "text/plain": [
       "0.6123417721518988"
      ]
     },
     "execution_count": 442,
     "metadata": {},
     "output_type": "execute_result"
    }
   ],
   "source": [
    "diff = np.empty(len(nn_B['polarity']))\n",
    "\n",
    "p_value = np.sum(nn_B['polarity']-boot_data >= 0)/len(nn_B['polarity'])\n",
    "p_value"
   ]
  },
  {
   "cell_type": "markdown",
   "metadata": {},
   "source": [
    "Fail to reject null hypothesis "
   ]
  }
 ],
 "metadata": {
  "kernelspec": {
   "display_name": "Python 3",
   "language": "python",
   "name": "python3"
  },
  "language_info": {
   "codemirror_mode": {
    "name": "ipython",
    "version": 3
   },
   "file_extension": ".py",
   "mimetype": "text/x-python",
   "name": "python",
   "nbconvert_exporter": "python",
   "pygments_lexer": "ipython3",
   "version": "3.7.1"
  }
 },
 "nbformat": 4,
 "nbformat_minor": 2
}
